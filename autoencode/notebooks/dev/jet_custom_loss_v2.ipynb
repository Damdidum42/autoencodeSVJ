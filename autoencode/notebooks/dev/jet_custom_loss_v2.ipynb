{
 "cells": [
  {
   "cell_type": "code",
   "execution_count": 1,
   "metadata": {
    "collapsed": false
   },
   "outputs": [
    {
     "name": "stderr",
     "output_type": "stream",
     "text": [
      "Using TensorFlow backend.\n"
     ]
    }
   ],
   "source": [
    "from autoencodeSVJ import utils, models, trainer\n",
    "import glob\n",
    "import os\n",
    "import numpy as np\n",
    "import keras\n",
    "import keras.backend as K\n",
    "import matplotlib.pyplot as plt"
   ]
  },
  {
   "cell_type": "markdown",
   "metadata": {},
   "source": [
    "### 1: load and normalize input data\n",
    "we can use the data_loader for this. \n",
    "add an h5 sample, grab the table which represents it. In this case we can also filter the data to only the HLF variables we want to keep. \n",
    "\n",
    "We also keep a `flavors` data_table object to hold the flavors of each jet; this is nice for later."
   ]
  },
  {
   "cell_type": "code",
   "execution_count": 26,
   "metadata": {
    "collapsed": false
   },
   "outputs": [
    {
     "name": "stdout",
     "output_type": "stream",
     "text": [
      "data_loader :: Adding sample at path '/afs/cern.ch/work/l/llepotti/private/CMS/CMSSW_8_0_20/src/autoencodeSVJ/data/dijet_loose_flavors/0_data.h5'\n",
      "data_loader :: Grabbing dataset with keys [u'event_feature_data']\n",
      "data_loader :: Grabbing dataset with keys [u'event_feature_data']\n"
     ]
    },
    {
     "data": {
      "text/html": [
       "<div>\n",
       "<style scoped>\n",
       "    .dataframe tbody tr th:only-of-type {\n",
       "        vertical-align: middle;\n",
       "    }\n",
       "\n",
       "    .dataframe tbody tr th {\n",
       "        vertical-align: top;\n",
       "    }\n",
       "\n",
       "    .dataframe thead th {\n",
       "        text-align: right;\n",
       "    }\n",
       "</style>\n",
       "<table border=\"1\" class=\"dataframe\">\n",
       "  <thead>\n",
       "    <tr style=\"text-align: right;\">\n",
       "      <th></th>\n",
       "      <th>j0Eta</th>\n",
       "      <th>j0Phi</th>\n",
       "      <th>j0Pt</th>\n",
       "      <th>j0M</th>\n",
       "      <th>j0ChargedFraction</th>\n",
       "      <th>j0PTD</th>\n",
       "      <th>j0Axis2</th>\n",
       "      <th>j0Flavor</th>\n",
       "      <th>j0Energy</th>\n",
       "      <th>j0DeltaEta</th>\n",
       "      <th>...</th>\n",
       "      <th>j1ChargedFraction</th>\n",
       "      <th>j1PTD</th>\n",
       "      <th>j1Axis2</th>\n",
       "      <th>j1Flavor</th>\n",
       "      <th>j1Energy</th>\n",
       "      <th>j1DeltaEta</th>\n",
       "      <th>j1DeltaPhi</th>\n",
       "      <th>j1MET</th>\n",
       "      <th>j1METEta</th>\n",
       "      <th>j1METPhi</th>\n",
       "    </tr>\n",
       "  </thead>\n",
       "  <tbody>\n",
       "    <tr>\n",
       "      <th>0</th>\n",
       "      <td>0.987341</td>\n",
       "      <td>2.305149</td>\n",
       "      <td>901.537292</td>\n",
       "      <td>30.302341</td>\n",
       "      <td>0.580645</td>\n",
       "      <td>0.384675</td>\n",
       "      <td>0.018337</td>\n",
       "      <td>2.0</td>\n",
       "      <td>1378.177261</td>\n",
       "      <td>0.208301</td>\n",
       "      <td>...</td>\n",
       "      <td>0.652174</td>\n",
       "      <td>0.312044</td>\n",
       "      <td>0.031449</td>\n",
       "      <td>3.0</td>\n",
       "      <td>832.147646</td>\n",
       "      <td>0.23154</td>\n",
       "      <td>0.326997</td>\n",
       "      <td>535.405884</td>\n",
       "      <td>-0.981468</td>\n",
       "      <td>2.262614</td>\n",
       "    </tr>\n",
       "    <tr>\n",
       "      <th>1</th>\n",
       "      <td>0.000000</td>\n",
       "      <td>0.000000</td>\n",
       "      <td>0.000000</td>\n",
       "      <td>0.000000</td>\n",
       "      <td>0.000000</td>\n",
       "      <td>0.000000</td>\n",
       "      <td>0.000000</td>\n",
       "      <td>0.0</td>\n",
       "      <td>0.000000</td>\n",
       "      <td>0.000000</td>\n",
       "      <td>...</td>\n",
       "      <td>0.000000</td>\n",
       "      <td>0.000000</td>\n",
       "      <td>0.000000</td>\n",
       "      <td>0.0</td>\n",
       "      <td>0.000000</td>\n",
       "      <td>0.00000</td>\n",
       "      <td>0.000000</td>\n",
       "      <td>0.000000</td>\n",
       "      <td>0.000000</td>\n",
       "      <td>0.000000</td>\n",
       "    </tr>\n",
       "    <tr>\n",
       "      <th>2</th>\n",
       "      <td>0.000000</td>\n",
       "      <td>0.000000</td>\n",
       "      <td>0.000000</td>\n",
       "      <td>0.000000</td>\n",
       "      <td>0.000000</td>\n",
       "      <td>0.000000</td>\n",
       "      <td>0.000000</td>\n",
       "      <td>0.0</td>\n",
       "      <td>0.000000</td>\n",
       "      <td>0.000000</td>\n",
       "      <td>...</td>\n",
       "      <td>0.000000</td>\n",
       "      <td>0.000000</td>\n",
       "      <td>0.000000</td>\n",
       "      <td>0.0</td>\n",
       "      <td>0.000000</td>\n",
       "      <td>0.00000</td>\n",
       "      <td>0.000000</td>\n",
       "      <td>0.000000</td>\n",
       "      <td>0.000000</td>\n",
       "      <td>0.000000</td>\n",
       "    </tr>\n",
       "    <tr>\n",
       "      <th>3</th>\n",
       "      <td>0.000000</td>\n",
       "      <td>0.000000</td>\n",
       "      <td>0.000000</td>\n",
       "      <td>0.000000</td>\n",
       "      <td>0.000000</td>\n",
       "      <td>0.000000</td>\n",
       "      <td>0.000000</td>\n",
       "      <td>0.0</td>\n",
       "      <td>0.000000</td>\n",
       "      <td>0.000000</td>\n",
       "      <td>...</td>\n",
       "      <td>0.000000</td>\n",
       "      <td>0.000000</td>\n",
       "      <td>0.000000</td>\n",
       "      <td>0.0</td>\n",
       "      <td>0.000000</td>\n",
       "      <td>0.00000</td>\n",
       "      <td>0.000000</td>\n",
       "      <td>0.000000</td>\n",
       "      <td>0.000000</td>\n",
       "      <td>0.000000</td>\n",
       "    </tr>\n",
       "    <tr>\n",
       "      <th>4</th>\n",
       "      <td>0.000000</td>\n",
       "      <td>0.000000</td>\n",
       "      <td>0.000000</td>\n",
       "      <td>0.000000</td>\n",
       "      <td>0.000000</td>\n",
       "      <td>0.000000</td>\n",
       "      <td>0.000000</td>\n",
       "      <td>0.0</td>\n",
       "      <td>0.000000</td>\n",
       "      <td>0.000000</td>\n",
       "      <td>...</td>\n",
       "      <td>0.000000</td>\n",
       "      <td>0.000000</td>\n",
       "      <td>0.000000</td>\n",
       "      <td>0.0</td>\n",
       "      <td>0.000000</td>\n",
       "      <td>0.00000</td>\n",
       "      <td>0.000000</td>\n",
       "      <td>0.000000</td>\n",
       "      <td>0.000000</td>\n",
       "      <td>0.000000</td>\n",
       "    </tr>\n",
       "  </tbody>\n",
       "</table>\n",
       "<p>5 rows × 28 columns</p>\n",
       "</div>"
      ],
      "text/plain": [
       "      j0Eta     j0Phi        j0Pt        j0M  j0ChargedFraction     j0PTD  \\\n",
       "0  0.987341  2.305149  901.537292  30.302341           0.580645  0.384675   \n",
       "1  0.000000  0.000000    0.000000   0.000000           0.000000  0.000000   \n",
       "2  0.000000  0.000000    0.000000   0.000000           0.000000  0.000000   \n",
       "3  0.000000  0.000000    0.000000   0.000000           0.000000  0.000000   \n",
       "4  0.000000  0.000000    0.000000   0.000000           0.000000  0.000000   \n",
       "\n",
       "    j0Axis2  j0Flavor     j0Energy  j0DeltaEta    ...     j1ChargedFraction  \\\n",
       "0  0.018337       2.0  1378.177261    0.208301    ...              0.652174   \n",
       "1  0.000000       0.0     0.000000    0.000000    ...              0.000000   \n",
       "2  0.000000       0.0     0.000000    0.000000    ...              0.000000   \n",
       "3  0.000000       0.0     0.000000    0.000000    ...              0.000000   \n",
       "4  0.000000       0.0     0.000000    0.000000    ...              0.000000   \n",
       "\n",
       "      j1PTD   j1Axis2  j1Flavor    j1Energy  j1DeltaEta  j1DeltaPhi  \\\n",
       "0  0.312044  0.031449       3.0  832.147646     0.23154    0.326997   \n",
       "1  0.000000  0.000000       0.0    0.000000     0.00000    0.000000   \n",
       "2  0.000000  0.000000       0.0    0.000000     0.00000    0.000000   \n",
       "3  0.000000  0.000000       0.0    0.000000     0.00000    0.000000   \n",
       "4  0.000000  0.000000       0.0    0.000000     0.00000    0.000000   \n",
       "\n",
       "        j1MET  j1METEta  j1METPhi  \n",
       "0  535.405884 -0.981468  2.262614  \n",
       "1    0.000000  0.000000  0.000000  \n",
       "2    0.000000  0.000000  0.000000  \n",
       "3    0.000000  0.000000  0.000000  \n",
       "4    0.000000  0.000000  0.000000  \n",
       "\n",
       "[5 rows x 28 columns]"
      ]
     },
     "execution_count": 26,
     "metadata": {},
     "output_type": "execute_result"
    }
   ],
   "source": [
    "# get h5 datasets\n",
    "repo_head = utils.get_repo_info()['head']\n",
    "assert len(repo_head) > 0, \"not running jupyter notebook from within a repo!! Prolly won't work :-)\"\n",
    "data_path = os.path.join(repo_head, \"data/dijet_loose_flavors/0_data.h5\")\n",
    "\n",
    "# replace above code for 'data_path' if you want something else\n",
    "loader = utils.data_loader('all data')\n",
    "loader.add_sample(data_path)\n",
    "t = loader.make_table()\n",
    "t.head()\n",
    "# data, jet_tables = utils.get_training_data_jets(data_path)\n",
    "\n",
    "# data.cdrop([\"jetM\", \"*MET*\", \"*Delta*\"], inplace=True)"
   ]
  },
  {
   "cell_type": "code",
   "execution_count": 12,
   "metadata": {
    "collapsed": false
   },
   "outputs": [
    {
     "ename": "KeyError",
     "evalue": "0.0",
     "output_type": "error",
     "traceback": [
      "\u001b[0;31m---------------------------------------------------------------------------\u001b[0m",
      "\u001b[0;31mKeyError\u001b[0m                                  Traceback (most recent call last)",
      "\u001b[0;32m<ipython-input-12-716ce45f24b4>\u001b[0m in \u001b[0;36m<module>\u001b[0;34m()\u001b[0m\n\u001b[1;32m      3\u001b[0m     \u001b[0mdata\u001b[0m\u001b[0;34m,\u001b[0m\u001b[0;34m\u001b[0m\u001b[0m\n\u001b[1;32m      4\u001b[0m     \u001b[0mutils\u001b[0m\u001b[0;34m.\u001b[0m\u001b[0mdelphes_jet_tags_dict\u001b[0m\u001b[0;34m,\u001b[0m\u001b[0;34m\u001b[0m\u001b[0m\n\u001b[0;32m----> 5\u001b[0;31m     \u001b[0mFalse\u001b[0m\u001b[0;34m\u001b[0m\u001b[0m\n\u001b[0m\u001b[1;32m      6\u001b[0m )\n\u001b[1;32m      7\u001b[0m \u001b[0msizes\u001b[0m \u001b[0;34m=\u001b[0m \u001b[0mmap\u001b[0m\u001b[0;34m(\u001b[0m\u001b[0;32mlambda\u001b[0m \u001b[0mx\u001b[0m\u001b[0;34m:\u001b[0m \u001b[0mx\u001b[0m\u001b[0;34m.\u001b[0m\u001b[0mshape\u001b[0m\u001b[0;34m[\u001b[0m\u001b[0;36m0\u001b[0m\u001b[0;34m]\u001b[0m\u001b[0;34m,\u001b[0m \u001b[0mtagged\u001b[0m\u001b[0;34m)\u001b[0m\u001b[0;34m\u001b[0m\u001b[0m\n",
      "\u001b[0;32m/afs/cern.ch/user/l/llepotti/.local/lib/python2.7/site-packages/autoencodeSVJ/utils.pyc\u001b[0m in \u001b[0;36msplit_table_by_column\u001b[0;34m(column_name, df, tag_names, keep_split_column, df_to_write)\u001b[0m\n\u001b[1;32m    615\u001b[0m             \u001b[0mtagged\u001b[0m\u001b[0;34m.\u001b[0m\u001b[0mappend\u001b[0m\u001b[0;34m(\u001b[0m\u001b[0mdata_table\u001b[0m\u001b[0;34m(\u001b[0m\u001b[0mdf_to_write\u001b[0m\u001b[0;34m.\u001b[0m\u001b[0miloc\u001b[0m\u001b[0;34m[\u001b[0m\u001b[0midx\u001b[0m\u001b[0;34m]\u001b[0m\u001b[0;34m,\u001b[0m \u001b[0mname\u001b[0m\u001b[0;34m=\u001b[0m\u001b[0mtag_names\u001b[0m\u001b[0;34m[\u001b[0m\u001b[0mregion\u001b[0m\u001b[0;34m]\u001b[0m\u001b[0;34m)\u001b[0m\u001b[0;34m)\u001b[0m\u001b[0;34m\u001b[0m\u001b[0m\n\u001b[1;32m    616\u001b[0m         \u001b[0;32melse\u001b[0m\u001b[0;34m:\u001b[0m\u001b[0;34m\u001b[0m\u001b[0m\n\u001b[0;32m--> 617\u001b[0;31m             \u001b[0mtagged\u001b[0m\u001b[0;34m.\u001b[0m\u001b[0mappend\u001b[0m\u001b[0;34m(\u001b[0m\u001b[0mdata_table\u001b[0m\u001b[0;34m(\u001b[0m\u001b[0mdf_to_write\u001b[0m\u001b[0;34m.\u001b[0m\u001b[0miloc\u001b[0m\u001b[0;34m[\u001b[0m\u001b[0midx\u001b[0m\u001b[0;34m]\u001b[0m\u001b[0;34m.\u001b[0m\u001b[0mdrop\u001b[0m\u001b[0;34m(\u001b[0m\u001b[0mcolumn_name\u001b[0m\u001b[0;34m,\u001b[0m \u001b[0maxis\u001b[0m\u001b[0;34m=\u001b[0m\u001b[0;36m1\u001b[0m\u001b[0;34m)\u001b[0m\u001b[0;34m,\u001b[0m \u001b[0mname\u001b[0m\u001b[0;34m=\u001b[0m\u001b[0mtag_names\u001b[0m\u001b[0;34m[\u001b[0m\u001b[0mregion\u001b[0m\u001b[0;34m]\u001b[0m\u001b[0;34m)\u001b[0m\u001b[0;34m)\u001b[0m\u001b[0;34m\u001b[0m\u001b[0m\n\u001b[0m\u001b[1;32m    618\u001b[0m     \u001b[0;32mreturn\u001b[0m \u001b[0mtagged\u001b[0m\u001b[0;34m,\u001b[0m \u001b[0mdict\u001b[0m\u001b[0;34m(\u001b[0m\u001b[0;34m[\u001b[0m\u001b[0;34m(\u001b[0m\u001b[0mtag_names\u001b[0m\u001b[0;34m[\u001b[0m\u001b[0mk\u001b[0m\u001b[0;34m]\u001b[0m\u001b[0;34m,\u001b[0m \u001b[0mv\u001b[0m\u001b[0;34m)\u001b[0m \u001b[0;32mfor\u001b[0m \u001b[0mk\u001b[0m\u001b[0;34m,\u001b[0m\u001b[0mv\u001b[0m \u001b[0;32min\u001b[0m \u001b[0mindex\u001b[0m\u001b[0;34m.\u001b[0m\u001b[0mitems\u001b[0m\u001b[0;34m(\u001b[0m\u001b[0;34m)\u001b[0m\u001b[0;34m]\u001b[0m\u001b[0;34m)\u001b[0m\u001b[0;34m\u001b[0m\u001b[0m\n\u001b[1;32m    619\u001b[0m \u001b[0;34m\u001b[0m\u001b[0m\n",
      "\u001b[0;31mKeyError\u001b[0m: 0.0"
     ]
    }
   ],
   "source": [
    "tagged, tag_index = utils.split_table_by_column(\n",
    "    \"jetFlavor\",\n",
    "    data,\n",
    "    utils.delphes_jet_tags_dict,\n",
    "    False\n",
    ")\n",
    "sizes = map(lambda x: x.shape[0], tagged)\n",
    "for t,s in zip(tagged, sizes):\n",
    "    print  \"{} jet: {}, {}%\".format(t.name, s, round(100.*s/sum(sizes), 1))"
   ]
  },
  {
   "cell_type": "markdown",
   "metadata": {},
   "source": [
    "#### plotting\n",
    "we'll also plot the input histograms here, to make sure there are no screaming discrepancies in the training and testing sets"
   ]
  },
  {
   "cell_type": "code",
   "execution_count": 13,
   "metadata": {
    "collapsed": false,
    "scrolled": false
   },
   "outputs": [
    {
     "ename": "KeyError",
     "evalue": "0.0",
     "output_type": "error",
     "traceback": [
      "\u001b[0;31m---------------------------------------------------------------------------\u001b[0m",
      "\u001b[0;31mKeyError\u001b[0m                                  Traceback (most recent call last)",
      "\u001b[0;32m<ipython-input-13-b6faaf92e007>\u001b[0m in \u001b[0;36m<module>\u001b[0;34m()\u001b[0m\n\u001b[1;32m      6\u001b[0m         \u001b[0mutils\u001b[0m\u001b[0;34m.\u001b[0m\u001b[0mdelphes_jet_tags_dict\u001b[0m\u001b[0;34m,\u001b[0m \u001b[0mFalse\u001b[0m\u001b[0;34m\u001b[0m\u001b[0m\n\u001b[1;32m      7\u001b[0m     )[0],\n\u001b[0;32m----> 8\u001b[0;31m     \u001b[0;34m[\u001b[0m\u001b[0mtrain\u001b[0m\u001b[0;34m,\u001b[0m \u001b[0mtest\u001b[0m\u001b[0;34m]\u001b[0m\u001b[0;34m\u001b[0m\u001b[0m\n\u001b[0m\u001b[1;32m      9\u001b[0m )\n\u001b[1;32m     10\u001b[0m \u001b[0;34m\u001b[0m\u001b[0m\n",
      "\u001b[0;32m<ipython-input-13-b6faaf92e007>\u001b[0m in \u001b[0;36m<lambda>\u001b[0;34m(x)\u001b[0m\n\u001b[1;32m      4\u001b[0m     lambda x: utils.split_table_by_column(\n\u001b[1;32m      5\u001b[0m         \u001b[0;34m\"jetFlavor\"\u001b[0m\u001b[0;34m,\u001b[0m \u001b[0mx\u001b[0m\u001b[0;34m,\u001b[0m\u001b[0;34m\u001b[0m\u001b[0m\n\u001b[0;32m----> 6\u001b[0;31m         \u001b[0mutils\u001b[0m\u001b[0;34m.\u001b[0m\u001b[0mdelphes_jet_tags_dict\u001b[0m\u001b[0;34m,\u001b[0m \u001b[0mFalse\u001b[0m\u001b[0;34m\u001b[0m\u001b[0m\n\u001b[0m\u001b[1;32m      7\u001b[0m     )[0],\n\u001b[1;32m      8\u001b[0m     \u001b[0;34m[\u001b[0m\u001b[0mtrain\u001b[0m\u001b[0;34m,\u001b[0m \u001b[0mtest\u001b[0m\u001b[0;34m]\u001b[0m\u001b[0;34m\u001b[0m\u001b[0m\n",
      "\u001b[0;32m/afs/cern.ch/user/l/llepotti/.local/lib/python2.7/site-packages/autoencodeSVJ/utils.pyc\u001b[0m in \u001b[0;36msplit_table_by_column\u001b[0;34m(column_name, df, tag_names, keep_split_column, df_to_write)\u001b[0m\n\u001b[1;32m    615\u001b[0m             \u001b[0mtagged\u001b[0m\u001b[0;34m.\u001b[0m\u001b[0mappend\u001b[0m\u001b[0;34m(\u001b[0m\u001b[0mdata_table\u001b[0m\u001b[0;34m(\u001b[0m\u001b[0mdf_to_write\u001b[0m\u001b[0;34m.\u001b[0m\u001b[0miloc\u001b[0m\u001b[0;34m[\u001b[0m\u001b[0midx\u001b[0m\u001b[0;34m]\u001b[0m\u001b[0;34m,\u001b[0m \u001b[0mname\u001b[0m\u001b[0;34m=\u001b[0m\u001b[0mtag_names\u001b[0m\u001b[0;34m[\u001b[0m\u001b[0mregion\u001b[0m\u001b[0;34m]\u001b[0m\u001b[0;34m)\u001b[0m\u001b[0;34m)\u001b[0m\u001b[0;34m\u001b[0m\u001b[0m\n\u001b[1;32m    616\u001b[0m         \u001b[0;32melse\u001b[0m\u001b[0;34m:\u001b[0m\u001b[0;34m\u001b[0m\u001b[0m\n\u001b[0;32m--> 617\u001b[0;31m             \u001b[0mtagged\u001b[0m\u001b[0;34m.\u001b[0m\u001b[0mappend\u001b[0m\u001b[0;34m(\u001b[0m\u001b[0mdata_table\u001b[0m\u001b[0;34m(\u001b[0m\u001b[0mdf_to_write\u001b[0m\u001b[0;34m.\u001b[0m\u001b[0miloc\u001b[0m\u001b[0;34m[\u001b[0m\u001b[0midx\u001b[0m\u001b[0;34m]\u001b[0m\u001b[0;34m.\u001b[0m\u001b[0mdrop\u001b[0m\u001b[0;34m(\u001b[0m\u001b[0mcolumn_name\u001b[0m\u001b[0;34m,\u001b[0m \u001b[0maxis\u001b[0m\u001b[0;34m=\u001b[0m\u001b[0;36m1\u001b[0m\u001b[0;34m)\u001b[0m\u001b[0;34m,\u001b[0m \u001b[0mname\u001b[0m\u001b[0;34m=\u001b[0m\u001b[0mtag_names\u001b[0m\u001b[0;34m[\u001b[0m\u001b[0mregion\u001b[0m\u001b[0;34m]\u001b[0m\u001b[0;34m)\u001b[0m\u001b[0;34m)\u001b[0m\u001b[0;34m\u001b[0m\u001b[0m\n\u001b[0m\u001b[1;32m    618\u001b[0m     \u001b[0;32mreturn\u001b[0m \u001b[0mtagged\u001b[0m\u001b[0;34m,\u001b[0m \u001b[0mdict\u001b[0m\u001b[0;34m(\u001b[0m\u001b[0;34m[\u001b[0m\u001b[0;34m(\u001b[0m\u001b[0mtag_names\u001b[0m\u001b[0;34m[\u001b[0m\u001b[0mk\u001b[0m\u001b[0;34m]\u001b[0m\u001b[0;34m,\u001b[0m \u001b[0mv\u001b[0m\u001b[0;34m)\u001b[0m \u001b[0;32mfor\u001b[0m \u001b[0mk\u001b[0m\u001b[0;34m,\u001b[0m\u001b[0mv\u001b[0m \u001b[0;32min\u001b[0m \u001b[0mindex\u001b[0m\u001b[0;34m.\u001b[0m\u001b[0mitems\u001b[0m\u001b[0;34m(\u001b[0m\u001b[0;34m)\u001b[0m\u001b[0;34m]\u001b[0m\u001b[0;34m)\u001b[0m\u001b[0;34m\u001b[0m\u001b[0m\n\u001b[1;32m    619\u001b[0m \u001b[0;34m\u001b[0m\u001b[0m\n",
      "\u001b[0;31mKeyError\u001b[0m: 0.0"
     ]
    }
   ],
   "source": [
    "split = 0.5\n",
    "train, test = data.train_test_split(split)\n",
    "train_tags, test_tags = map(\n",
    "    lambda x: utils.split_table_by_column(\n",
    "        \"jetFlavor\", x,\n",
    "        utils.delphes_jet_tags_dict, False\n",
    "    )[0],\n",
    "    [train, test]\n",
    ")\n",
    "\n",
    "for trt, tet in zip(train_tags, test_tags):\n",
    "    print \"{}:\".format(trt.name)\n",
    "    print \"\\t{:.1f}% ({}) train\".format(100.*trt.shape[0]/train.shape[0], trt.shape[0])\n",
    "    print \"\\t{:.1f}% ({}) test\".format(100.*tet.shape[0]/test.shape[0], tet.shape[0])\n",
    "    print \"\\t{:.1f}% ({}) original\".format(100.*(tet.shape[0] + trt.shape[0])/data.shape[0], trt.shape[0] + tet.shape[0])\n",
    "for full, trt, tet in zip(tagged, train_tags, test_tags):\n",
    "    trt.name = \"train_\" + trt.name\n",
    "    tet.name = \"test_\" + tet.name\n",
    "    trt.plot([tet, full], normed=1)\n",
    "\n",
    "# data.plot([train, test], normed=1, bins=32, figsize=(30,15), fontsize=25, cols=4, alpha=1)\n",
    "# data.plot(jet_tables, normed=1, bins=32, figsize=(30,15), fontsize=25, cols=4, alpha=1)"
   ]
  },
  {
   "cell_type": "markdown",
   "metadata": {},
   "source": [
    "We then get training/testing datasets, and normalize them to the main data set. We can check how the normalized features look compared with one another, to make sure that they are useful. This way we can decide what type of normalization to use."
   ]
  },
  {
   "cell_type": "code",
   "execution_count": 175,
   "metadata": {
    "collapsed": false,
    "scrolled": false
   },
   "outputs": [
    {
     "name": "stdout",
     "output_type": "stream",
     "text": [
      "data_table :: plotting distrubution(s) for table(s) ['jetEta', 'jetPhi', 'jetPt', 'jetM', 'jetChargedFraction', 'jetPTD', 'jetAxis2']\n"
     ]
    },
    {
     "data": {
      "image/png": "[encoded data removed]",
      "text/plain": [
       "<matplotlib.figure.Figure at 0x7fb3b6443510>"
      ]
     },
     "metadata": {},
     "output_type": "display_data"
    }
   ],
   "source": [
    "norm_args = {\n",
    "    \"norm_type\": \"MinMaxScaler\",\n",
    "    \"feature_range\": (0.01, 0.99)\n",
    "}\n",
    "\n",
    "norm_data = data.norm(**norm_args)\n",
    "features = [utils.data_table(norm_data[c].values.reshape(norm_data[c].shape[0],1), name=c, headers=[\"normed features\"]) for c in norm_data]\n",
    "features[0].plot(features[1:], bins=50, figsize=(8,8), fontsize=10)\n",
    "\n",
    "train_norm, test_norm = data.norm(train, **norm_args), data.norm(test, **norm_args)\n",
    "\n",
    "\n",
    "# rmin, rmax = np.asarray([(data.median() - 2.*data.std()).values, (data.median() + 2.*data.std()).values])\n",
    "# custom_norm = lambda x: (x - rmin) / (rmax - rmin)\n",
    "# # norm_data = data.norm(norm_type=0, rng=rng)\n",
    "# norm_data = custom_norm(data)\n",
    "# features = [utils.data_table(norm_data[c].values.reshape(norm_data[c].shape[0],1), name=c, headers=[\"normed features\"]) for c in norm_data]\n",
    "# features[0].plot(features[1:], bins=50, figsize=(8,8), fontsize=10)"
   ]
  },
  {
   "cell_type": "markdown",
   "metadata": {},
   "source": [
    "### 2. build model \n",
    "To make our model, we'll use the simple \"shallow\" architecture defined in models.py. This gives us a decidedly shallow autoencoder with a bottleneck of our liking."
   ]
  },
  {
   "cell_type": "code",
   "execution_count": 309,
   "metadata": {
    "collapsed": false
   },
   "outputs": [],
   "source": [
    "def log_K_lognormal(x, a1, a2, a3):\n",
    "    return 0.5*((K.log(x) - a1)/a2)**2. - K.log(a3/(a2*x*np.sqrt(2.0*np.pi)))\n",
    "\n",
    "def log_K_gaussian(x, a1, a2):\n",
    "    return 0.5*((x - a1)/a2)**2. - K.log(1.0/(2.*a2*np.sqrt(2.0*np.pi)))\n",
    "\n",
    "def log_K_phi_pdf(x, frac, sig1, sig2):\n",
    "    return -K.log(K_phi_pdf(x, frac, sig1, sig2))\n",
    " \n",
    "def K_lognormal(x,a1,a2,a3):\n",
    "#     ret = K.cast(K.greater(a2, 0), 'float32')\n",
    "    mask = K.cast(K.greater(x, 0.), 'float32')\n",
    "    return mask*a3/(x*a2*K.sqrt(K.variable(2.*np.pi)))*K.exp(-(K.log(x) - a1)**2./(2.*a2*a2)) + (1. - mask)*10e-5\n",
    "      \n",
    "def K_gaussian(x, a1, a2):\n",
    "#     ret = K.cast(K.greater(a2, 0), 'float32')\n",
    "    return (1./(a2*np.sqrt(2.*np.pi)))*K.exp((-(x - a1)*(x - a1))/(2.*a2*a2))\n",
    "\n",
    "def K_phi_pdf(x, frac, sig1, sig2):\n",
    "#     ret = K.cast(K.greater(sig1, 0), 'float32')*K.cast(K.greater(sig2, 0), 'float32')\n",
    "    ratio = K_gaussian(0, 0, sig1)/K_gaussian(0, 0, sig2)\n",
    "    f1 = frac/ratio\n",
    "    f2 = frac*ratio\n",
    "    ret = f1*K_gaussian(x, 0.01, sig1) + f2*K_gaussian(x, .255, sig2) + f1*K_gaussian(x, .5, sig1) + f2*K_gaussian(x, .745, sig2) + f1*K_gaussian(x, .99, sig1)\n",
    "    mask = K.cast(K.greater(ret, 0.), \"float32\")\n",
    "    return ret*mask + (1. - mask)*10e-8\n",
    "\n",
    "def K_custom_loss(true, pred):\n",
    "    mus, sigmas, skews, others = K.mean(pred[:,0:6], axis=0), K.mean(pred[:,6:14], axis=0), K.mean(pred[:,14:18], axis=0), K.mean(pred[:,18:19], axis=0) \n",
    "    loss = (\n",
    "        log_K_gaussian(\n",
    "            true[:,0],\n",
    "            mus[0], sigmas[0]\n",
    "        )\n",
    "    )\n",
    "    loss = loss + (\n",
    "        log_K_phi_pdf(\n",
    "            true[:,1],\n",
    "            others[0], sigmas[1], sigmas[2]\n",
    "        )\n",
    "    )\n",
    "    loss = loss + (\n",
    "        log_K_lognormal(\n",
    "            true[:,2],\n",
    "            mus[1], sigmas[3], skews[0],\n",
    "        )\n",
    "    )\n",
    "    loss = loss + (\n",
    "        log_K_lognormal(\n",
    "            true[:,3],\n",
    "            mus[2], sigmas[4], skews[1]\n",
    "        )\n",
    "    )\n",
    "    loss = loss + (\n",
    "        log_K_gaussian(\n",
    "            true[:,4],\n",
    "            mus[3], sigmas[5]\n",
    "        )\n",
    "    )\n",
    "    loss = loss + (\n",
    "        log_K_lognormal(\n",
    "            true[:,5],\n",
    "            mus[4], sigmas[6], skews[2]\n",
    "        )\n",
    "    )\n",
    "    loss = loss + (\n",
    "        log_K_lognormal(\n",
    "            true[:,6],\n",
    "            mus[5], sigmas[7], skews[3]\n",
    "        )\n",
    "    )\n",
    "    return K.max(loss)"
   ]
  },
  {
   "cell_type": "code",
   "execution_count": 310,
   "metadata": {
    "collapsed": false
   },
   "outputs": [],
   "source": [
    "def min_layer(inputs, size, name, activation=\"linear\", min_value=10e-6, offset=0):\n",
    "    set_to = min_value + offset\n",
    "    ret = keras.layers.Dense(size, activation=\"linear\")(inputs)\n",
    "    def lambda_func(s, m):\n",
    "        def subfunc(x):\n",
    "            mask = K.cast(K.greater(x, m), 'float32')\n",
    "            return x*mask + (1. - mask)*s\n",
    "        return subfunc\n",
    "    \n",
    "    return keras.layers.Lambda(\n",
    "        lambda_func(set_to, min_value), output_shape=(size,), name=name\n",
    "    )(ret)\n",
    "    \n",
    "\n",
    "inputs = keras.layers.Input(shape=(7,), name=\"input\")\n",
    "encoded = keras.layers.Dense(30, activation=\"relu\", name=\"dense_encode\")(inputs)\n",
    "encoded = keras.layers.Dense(5, activation=\"relu\", name=\"encoded\")(encoded)\n",
    "encoder = keras.Model(inputs=inputs, outputs=encoded, name=\"encoder\")\n",
    "\n",
    "decoder_inputs = keras.layers.Input(shape=(5,), name=\"decoder_inputs\")\n",
    "decoded = keras.layers.Dense(30, activation=\"relu\", name=\"dense_decode\")(decoder_inputs)\n",
    "# decoded = keras.layers.Dense(20, activation=\"linear\")(decoded)\n",
    "mus = keras.layers.Dense(6, activation=\"linear\", name=\"mus\")(decoded)\n",
    "sigmas = min_layer(decoded, 8, \"sigmas\")\n",
    "skews = min_layer(decoded, 4, \"skews\")\n",
    "others = min_layer(decoded, 1, \"others\")\n",
    "decoded = keras.layers.concatenate([mus, sigmas, skews, others], axis=-1)\n",
    "\n",
    "\n",
    "decoder = keras.Model(inputs=decoder_inputs, outputs=decoded, name=\"decoder\")\n",
    "\n",
    "autoencoder = keras.Model(inputs=inputs, outputs=decoder(encoder(inputs)), name=\"autoencoder\")\n",
    "autoencoder.compile(optimizer=\"adam\", loss=K_custom_loss)"
   ]
  },
  {
   "cell_type": "code",
   "execution_count": 311,
   "metadata": {
    "collapsed": false
   },
   "outputs": [
    {
     "name": "stdout",
     "output_type": "stream",
     "text": [
      "h5_elt 'metric_names' :: loading dataset 'data/metric_names' from file 'custom_5_test_prime.h5'\n",
      "h5_elt 'training' :: loading dataset 'params/training' from file 'custom_5_test_prime.h5'\n",
      "h5_elt 'config' :: loading dataset 'params/config' from file 'custom_5_test_prime.h5'\n",
      "h5_elt 'loss' :: loading dataset 'metric_names/loss' from file 'custom_5_test_prime.h5'\n",
      "h5_elt 'val_loss' :: loading dataset 'metric_names/val_loss' from file 'custom_5_test_prime.h5'\n"
     ]
    }
   ],
   "source": [
    "name = \"custom_5_test_prime\"\n",
    "instance = trainer.trainer(os.path.join(\"../data/training_runs/7jf/custom\", name))"
   ]
  },
  {
   "cell_type": "markdown",
   "metadata": {},
   "source": [
    "... and the model summaries:"
   ]
  },
  {
   "cell_type": "code",
   "execution_count": 312,
   "metadata": {
    "collapsed": false
   },
   "outputs": [
    {
     "name": "stdout",
     "output_type": "stream",
     "text": [
      "encoder summary:\n",
      "_________________________________________________________________\n",
      "Layer (type)                 Output Shape              Param #   \n",
      "=================================================================\n",
      "input (InputLayer)           (None, 7)                 0         \n",
      "_________________________________________________________________\n",
      "dense_encode (Dense)         (None, 30)                240       \n",
      "_________________________________________________________________\n",
      "encoded (Dense)              (None, 5)                 155       \n",
      "=================================================================\n",
      "Total params: 395\n",
      "Trainable params: 395\n",
      "Non-trainable params: 0\n",
      "_________________________________________________________________\n",
      "\n",
      "\n",
      "decoder summary:\n",
      "__________________________________________________________________________________________________\n",
      "Layer (type)                    Output Shape         Param #     Connected to                     \n",
      "==================================================================================================\n",
      "decoder_inputs (InputLayer)     (None, 5)            0                                            \n",
      "__________________________________________________________________________________________________\n",
      "dense_decode (Dense)            (None, 30)           180         decoder_inputs[0][0]             \n",
      "__________________________________________________________________________________________________\n",
      "dense_31 (Dense)                (None, 8)            248         dense_decode[0][0]               \n",
      "__________________________________________________________________________________________________\n",
      "dense_32 (Dense)                (None, 4)            124         dense_decode[0][0]               \n",
      "__________________________________________________________________________________________________\n",
      "dense_33 (Dense)                (None, 1)            31          dense_decode[0][0]               \n",
      "__________________________________________________________________________________________________\n",
      "mus (Dense)                     (None, 6)            186         dense_decode[0][0]               \n",
      "__________________________________________________________________________________________________\n",
      "sigmas (Lambda)                 (None, 8)            0           dense_31[0][0]                   \n",
      "__________________________________________________________________________________________________\n",
      "skews (Lambda)                  (None, 4)            0           dense_32[0][0]                   \n",
      "__________________________________________________________________________________________________\n",
      "others (Lambda)                 (None, 1)            0           dense_33[0][0]                   \n",
      "__________________________________________________________________________________________________\n",
      "concatenate_11 (Concatenate)    (None, 19)           0           mus[0][0]                        \n",
      "                                                                 sigmas[0][0]                     \n",
      "                                                                 skews[0][0]                      \n",
      "                                                                 others[0][0]                     \n",
      "==================================================================================================\n",
      "Total params: 769\n",
      "Trainable params: 769\n",
      "Non-trainable params: 0\n",
      "__________________________________________________________________________________________________\n",
      "\n",
      "\n",
      "autoencoder summary:\n",
      "_________________________________________________________________\n",
      "Layer (type)                 Output Shape              Param #   \n",
      "=================================================================\n",
      "input (InputLayer)           (None, 7)                 0         \n",
      "_________________________________________________________________\n",
      "encoder (Model)              (None, 5)                 395       \n",
      "_________________________________________________________________\n",
      "decoder (Model)              (None, 19)                769       \n",
      "=================================================================\n",
      "Total params: 1,164\n",
      "Trainable params: 1,164\n",
      "Non-trainable params: 0\n",
      "_________________________________________________________________\n"
     ]
    }
   ],
   "source": [
    "print('encoder summary:')\n",
    "encoder.summary()\n",
    "print('\\n')\n",
    "print('decoder summary:')\n",
    "decoder.summary()\n",
    "print('\\n')\n",
    "print('autoencoder summary:')\n",
    "autoencoder.summary()\n"
   ]
  },
  {
   "cell_type": "markdown",
   "metadata": {},
   "source": [
    "### 3. train model \n",
    "this can be most easily done using the `training_skeleton`, defined in `skeletons.py`. This helps with dynamic training and allows for stopping midway without losing history information, retraining models, etc."
   ]
  },
  {
   "cell_type": "code",
   "execution_count": 313,
   "metadata": {
    "collapsed": false
   },
   "outputs": [],
   "source": [
    "# name = \"medium_4_test\"\n",
    "# instance = trainer.trainer(os.path.join(\"../data/training_runs/7jf/mean_std_norm/\", name))"
   ]
  },
  {
   "cell_type": "markdown",
   "metadata": {},
   "source": [
    "training is easy:"
   ]
  },
  {
   "cell_type": "code",
   "execution_count": 315,
   "metadata": {
    "collapsed": false,
    "scrolled": false
   },
   "outputs": [
    {
     "name": "stdout",
     "output_type": "stream",
     "text": [
      "train_shell :: using model passed as function argument\n",
      "train_shell :: TRAINING EPOCH 120/180\n",
      "Train on 7865 samples, validate on 3371 samples\n",
      "Epoch 121/121\n",
      "61/61 [==============================] - 7s 114ms/step - loss: 136.0326 - val_loss: 97.8059\n",
      "train_shell :: TRAINING EPOCH 121/180\n",
      "Train on 7865 samples, validate on 3371 samples\n",
      "Epoch 122/122\n",
      "61/61 [==============================] - 1s 15ms/step - loss: 50.7476 - val_loss: 50.0170\n",
      "train_shell :: TRAINING EPOCH 122/180\n",
      "Train on 7865 samples, validate on 3371 samples\n",
      "Epoch 123/123\n",
      "61/61 [==============================] - 1s 15ms/step - loss: 27.7866 - val_loss: 32.6065\n",
      "train_shell :: TRAINING EPOCH 123/180\n",
      "Train on 7865 samples, validate on 3371 samples\n",
      "Epoch 124/124\n",
      "61/61 [==============================] - 1s 16ms/step - loss: 16.7675 - val_loss: 22.4454\n",
      "train_shell :: TRAINING EPOCH 124/180\n",
      "Train on 7865 samples, validate on 3371 samples\n",
      "Epoch 125/125\n",
      "61/61 [==============================] - 1s 16ms/step - loss: 9.4703 - val_loss: 15.0428\n",
      "train_shell :: TRAINING EPOCH 125/180\n",
      "Train on 7865 samples, validate on 3371 samples\n",
      "Epoch 126/126\n",
      "61/61 [==============================] - 1s 15ms/step - loss: 4.7924 - val_loss: 10.0854\n",
      "train_shell :: TRAINING EPOCH 126/180\n",
      "Train on 7865 samples, validate on 3371 samples\n",
      "Epoch 127/127\n",
      "61/61 [==============================] - 1s 15ms/step - loss: 2.0073 - val_loss: 6.2270\n",
      "train_shell :: TRAINING EPOCH 127/180\n",
      "Train on 7865 samples, validate on 3371 samples\n",
      "Epoch 128/128\n",
      "61/61 [==============================] - 1s 14ms/step - loss: 0.1840 - val_loss: 3.4196\n",
      "train_shell :: TRAINING EPOCH 128/180\n",
      "Train on 7865 samples, validate on 3371 samples\n",
      "Epoch 129/129\n",
      "61/61 [==============================] - 1s 14ms/step - loss: -1.0881 - val_loss: 1.3325\n",
      "train_shell :: TRAINING EPOCH 129/180\n",
      "Train on 7865 samples, validate on 3371 samples\n",
      "Epoch 130/130\n",
      "61/61 [==============================] - 1s 15ms/step - loss: -2.0345 - val_loss: -0.2710\n",
      "train_shell :: TRAINING EPOCH 130/180\n",
      "Train on 7865 samples, validate on 3371 samples\n",
      "Epoch 131/131\n",
      "61/61 [==============================] - 1s 14ms/step - loss: -2.7702 - val_loss: -1.4320\n",
      "train_shell :: TRAINING EPOCH 131/180\n",
      "Train on 7865 samples, validate on 3371 samples\n",
      "Epoch 132/132\n",
      "61/61 [==============================] - 1s 15ms/step - loss: -3.3718 - val_loss: -1.8895\n",
      "train_shell :: TRAINING EPOCH 132/180\n",
      "Train on 7865 samples, validate on 3371 samples\n",
      "Epoch 133/133\n",
      "61/61 [==============================] - 1s 15ms/step - loss: -3.8841 - val_loss: -2.2614\n",
      "train_shell :: TRAINING EPOCH 133/180\n",
      "Train on 7865 samples, validate on 3371 samples\n",
      "Epoch 134/134\n",
      "61/61 [==============================] - 1s 15ms/step - loss: -4.2992 - val_loss: -2.6004\n",
      "train_shell :: TRAINING EPOCH 134/180\n",
      "Train on 7865 samples, validate on 3371 samples\n",
      "Epoch 135/135\n",
      "61/61 [==============================] - 1s 15ms/step - loss: -4.6553 - val_loss: -2.8665\n",
      "train_shell :: TRAINING EPOCH 135/180\n",
      "Train on 7865 samples, validate on 3371 samples\n",
      "Epoch 136/136\n",
      "61/61 [==============================] - 1s 14ms/step - loss: -4.9689 - val_loss: -3.1046\n",
      "train_shell :: TRAINING EPOCH 136/180\n",
      "Train on 7865 samples, validate on 3371 samples\n",
      "Epoch 137/137\n",
      "61/61 [==============================] - 1s 15ms/step - loss: -5.2520 - val_loss: -3.4115\n",
      "train_shell :: TRAINING EPOCH 137/180\n",
      "Train on 7865 samples, validate on 3371 samples\n",
      "Epoch 138/138\n",
      "61/61 [==============================] - 1s 15ms/step - loss: -5.5181 - val_loss: -3.8406\n",
      "train_shell :: TRAINING EPOCH 138/180\n",
      "Train on 7865 samples, validate on 3371 samples\n",
      "Epoch 139/139\n",
      "61/61 [==============================] - 1s 16ms/step - loss: -12.6709 - val_loss: -14.0268\n",
      "train_shell :: TRAINING EPOCH 139/180\n",
      "Train on 7865 samples, validate on 3371 samples\n",
      "Epoch 140/140\n",
      "61/61 [==============================] - 1s 14ms/step - loss: -16.4559 - val_loss: -14.7017\n",
      "train_shell :: TRAINING EPOCH 140/180\n",
      "Train on 7865 samples, validate on 3371 samples\n",
      "Epoch 141/141\n",
      "61/61 [==============================] - 1s 15ms/step - loss: -16.9109 - val_loss: -15.1344\n",
      "train_shell :: TRAINING EPOCH 141/180\n",
      "Train on 7865 samples, validate on 3371 samples\n",
      "Epoch 142/142\n",
      "61/61 [==============================] - 1s 15ms/step - loss: -17.2867 - val_loss: -15.5462\n",
      "train_shell :: TRAINING EPOCH 142/180\n",
      "Train on 7865 samples, validate on 3371 samples\n",
      "Epoch 143/143\n",
      "61/61 [==============================] - 1s 14ms/step - loss: -17.6264 - val_loss: -15.9145\n",
      "train_shell :: TRAINING EPOCH 143/180\n",
      "Train on 7865 samples, validate on 3371 samples\n",
      "Epoch 144/144\n",
      "61/61 [==============================] - 1s 14ms/step - loss: -17.9535 - val_loss: -16.1797\n",
      "train_shell :: TRAINING EPOCH 144/180\n",
      "Train on 7865 samples, validate on 3371 samples\n",
      "Epoch 145/145\n",
      "61/61 [==============================] - 1s 14ms/step - loss: -18.2627 - val_loss: -16.5057\n",
      "train_shell :: TRAINING EPOCH 145/180\n",
      "Train on 7865 samples, validate on 3371 samples\n",
      "Epoch 146/146\n",
      "61/61 [==============================] - 1s 14ms/step - loss: -18.5592 - val_loss: -16.8101\n",
      "train_shell :: TRAINING EPOCH 146/180\n",
      "Train on 7865 samples, validate on 3371 samples\n",
      "Epoch 147/147\n",
      "61/61 [==============================] - 1s 14ms/step - loss: -18.8613 - val_loss: -17.1703\n",
      "train_shell :: TRAINING EPOCH 147/180\n",
      "Train on 7865 samples, validate on 3371 samples\n",
      "Epoch 148/148\n",
      "61/61 [==============================] - 1s 14ms/step - loss: -19.1415 - val_loss: -17.6021\n",
      "train_shell :: TRAINING EPOCH 148/180\n",
      "Train on 7865 samples, validate on 3371 samples\n",
      "Epoch 149/149\n",
      "61/61 [==============================] - 1s 14ms/step - loss: -19.4016 - val_loss: -17.9264\n",
      "train_shell :: TRAINING EPOCH 149/180\n",
      "Train on 7865 samples, validate on 3371 samples\n",
      "Epoch 150/150\n",
      "61/61 [==============================] - 1s 14ms/step - loss: -19.6493 - val_loss: -18.4492\n",
      "train_shell :: TRAINING EPOCH 150/180\n",
      "Train on 7865 samples, validate on 3371 samples\n",
      "Epoch 151/151\n",
      "61/61 [==============================] - 1s 14ms/step - loss: -19.8648 - val_loss: -18.6704\n",
      "train_shell :: TRAINING EPOCH 151/180\n",
      "Train on 7865 samples, validate on 3371 samples\n",
      "Epoch 152/152\n",
      "61/61 [==============================] - 1s 14ms/step - loss: -20.0874 - val_loss: -18.8998\n",
      "train_shell :: TRAINING EPOCH 152/180\n",
      "Train on 7865 samples, validate on 3371 samples\n",
      "Epoch 153/153\n",
      "61/61 [==============================] - 1s 14ms/step - loss: -20.3072 - val_loss: -19.1007\n",
      "train_shell :: TRAINING EPOCH 153/180\n",
      "Train on 7865 samples, validate on 3371 samples\n",
      "Epoch 154/154\n",
      "61/61 [==============================] - 1s 14ms/step - loss: -20.5181 - val_loss: -19.3257\n",
      "train_shell :: TRAINING EPOCH 154/180\n",
      "Train on 7865 samples, validate on 3371 samples\n",
      "Epoch 155/155\n",
      "61/61 [==============================] - 1s 14ms/step - loss: -20.7364 - val_loss: -19.5210\n",
      "train_shell :: TRAINING EPOCH 155/180\n",
      "Train on 7865 samples, validate on 3371 samples\n",
      "Epoch 156/156\n",
      "61/61 [==============================] - 1s 15ms/step - loss: -20.9558 - val_loss: -19.7314\n",
      "train_shell :: TRAINING EPOCH 156/180\n",
      "Train on 7865 samples, validate on 3371 samples\n",
      "Epoch 157/157\n",
      "61/61 [==============================] - 1s 14ms/step - loss: -21.1878 - val_loss: -19.9388\n",
      "train_shell :: TRAINING EPOCH 157/180\n",
      "Train on 7865 samples, validate on 3371 samples\n",
      "Epoch 158/158\n",
      "61/61 [==============================] - 1s 14ms/step - loss: -21.4278 - val_loss: -20.1840\n",
      "train_shell :: TRAINING EPOCH 158/180\n",
      "Train on 7865 samples, validate on 3371 samples\n",
      "Epoch 159/159\n",
      "61/61 [==============================] - 1s 14ms/step - loss: -21.6650 - val_loss: -20.3779\n",
      "train_shell :: TRAINING EPOCH 159/180\n",
      "Train on 7865 samples, validate on 3371 samples\n",
      "Epoch 160/160\n",
      "61/61 [==============================] - 1s 13ms/step - loss: -21.8985 - val_loss: -20.6136\n",
      "train_shell :: TRAINING EPOCH 160/180\n",
      "Train on 7865 samples, validate on 3371 samples\n",
      "Epoch 161/161\n",
      "61/61 [==============================] - 1s 14ms/step - loss: -22.1467 - val_loss: -20.8310\n",
      "train_shell :: TRAINING EPOCH 161/180\n",
      "Train on 7865 samples, validate on 3371 samples\n",
      "Epoch 162/162\n",
      "61/61 [==============================] - 1s 14ms/step - loss: -22.3816 - val_loss: -21.0498\n",
      "train_shell :: TRAINING EPOCH 162/180\n",
      "Train on 7865 samples, validate on 3371 samples\n",
      "Epoch 163/163\n",
      "61/61 [==============================] - 1s 15ms/step - loss: -22.6304 - val_loss: -21.2260\n",
      "train_shell :: TRAINING EPOCH 163/180\n",
      "Train on 7865 samples, validate on 3371 samples\n",
      "Epoch 164/164\n",
      "61/61 [==============================] - 1s 15ms/step - loss: -22.8621 - val_loss: -21.4418\n",
      "train_shell :: TRAINING EPOCH 164/180\n",
      "Train on 7865 samples, validate on 3371 samples\n",
      "Epoch 165/165\n",
      "61/61 [==============================] - 1s 15ms/step - loss: -23.1142 - val_loss: -21.6826\n",
      "train_shell :: TRAINING EPOCH 165/180\n",
      "Train on 7865 samples, validate on 3371 samples\n",
      "Epoch 166/166\n",
      "61/61 [==============================] - 1s 14ms/step - loss: -23.3615 - val_loss: -21.9056\n",
      "train_shell :: TRAINING EPOCH 166/180\n",
      "Train on 7865 samples, validate on 3371 samples\n",
      "Epoch 167/167\n",
      "61/61 [==============================] - 1s 15ms/step - loss: -23.5959 - val_loss: -22.1195\n",
      "train_shell :: TRAINING EPOCH 167/180\n",
      "Train on 7865 samples, validate on 3371 samples\n",
      "Epoch 168/168\n",
      "61/61 [==============================] - 1s 15ms/step - loss: -23.8236 - val_loss: -22.3535\n",
      "train_shell :: TRAINING EPOCH 168/180\n",
      "Train on 7865 samples, validate on 3371 samples\n",
      "Epoch 169/169\n",
      "61/61 [==============================] - 1s 15ms/step - loss: -24.0606 - val_loss: -22.5606\n",
      "train_shell :: TRAINING EPOCH 169/180\n",
      "Train on 7865 samples, validate on 3371 samples\n",
      "Epoch 170/170\n",
      "61/61 [==============================] - 1s 15ms/step - loss: -24.2988 - val_loss: -22.7887\n",
      "train_shell :: TRAINING EPOCH 170/180\n",
      "Train on 7865 samples, validate on 3371 samples\n",
      "Epoch 171/171\n",
      "61/61 [==============================] - 1s 16ms/step - loss: -24.5681 - val_loss: -23.1077\n",
      "train_shell :: TRAINING EPOCH 171/180\n",
      "Train on 7865 samples, validate on 3371 samples\n",
      "Epoch 172/172\n",
      "61/61 [==============================] - 1s 16ms/step - loss: -24.8714 - val_loss: -23.3785\n",
      "train_shell :: TRAINING EPOCH 172/180\n",
      "Train on 7865 samples, validate on 3371 samples\n",
      "Epoch 173/173\n",
      "61/61 [==============================] - 1s 15ms/step - loss: -25.1750 - val_loss: -23.6718\n",
      "train_shell :: TRAINING EPOCH 173/180\n",
      "Train on 7865 samples, validate on 3371 samples\n",
      "Epoch 174/174\n",
      "61/61 [==============================] - 1s 15ms/step - loss: -25.4371 - val_loss: -23.9571\n",
      "train_shell :: TRAINING EPOCH 174/180\n",
      "Train on 7865 samples, validate on 3371 samples\n",
      "Epoch 175/175\n",
      "61/61 [==============================] - 1s 15ms/step - loss: -25.7127 - val_loss: -24.1973\n",
      "train_shell :: TRAINING EPOCH 175/180\n",
      "Train on 7865 samples, validate on 3371 samples\n",
      "Epoch 176/176\n",
      "61/61 [==============================] - 1s 15ms/step - loss: -25.9628 - val_loss: -24.4606\n",
      "train_shell :: TRAINING EPOCH 176/180\n",
      "Train on 7865 samples, validate on 3371 samples\n",
      "Epoch 177/177\n",
      "61/61 [==============================] - 1s 14ms/step - loss: -26.2188 - val_loss: -24.6650\n",
      "train_shell :: TRAINING EPOCH 177/180\n",
      "Train on 7865 samples, validate on 3371 samples\n",
      "Epoch 178/178\n",
      "61/61 [==============================] - 1s 14ms/step - loss: -26.4480 - val_loss: -24.9101\n",
      "train_shell :: TRAINING EPOCH 178/180\n",
      "Train on 7865 samples, validate on 3371 samples\n",
      "Epoch 179/179\n",
      "61/61 [==============================] - 1s 15ms/step - loss: -26.6784 - val_loss: -25.1387\n",
      "train_shell :: TRAINING EPOCH 179/180\n",
      "Train on 7865 samples, validate on 3371 samples\n",
      "Epoch 180/180\n",
      "61/61 [==============================] - 1s 16ms/step - loss: -26.9230 - val_loss: -25.3730\n",
      "EPOCH N: 180 60\n",
      "train_shell :: \n",
      "train_shell :: trained 60 epochs!\n",
      "train_shell :: \n",
      "finished epoch N 180\n",
      "prev [60, 60, 60]\n",
      "train_shell :: model saved\n"
     ]
    }
   ],
   "source": [
    "from keras import backend as K\n",
    "\n",
    "def r_square(y_true, y_pred):\n",
    "    SS_res =  K.sum(K.square(y_true - y_pred)) \n",
    "    SS_tot = K.sum(K.square(y_true - K.mean(y_true)))\n",
    "    return ( 1 - SS_res/(SS_tot + K.epsilon()))\n",
    "\n",
    "def r_square_loss(y_true, y_pred):\n",
    "    SS_res =  K.sum(K.square(y_true - y_pred)) \n",
    "    SS_tot = K.sum(K.square(y_true - K.mean(y_true)))\n",
    "    return SS_res/(SS_tot + K.epsilon())\n",
    "\n",
    "# train, test = data.train_test_split(0.25)\n",
    "# ntype=\"RobustScaler\"\n",
    "# train_norm, test_norm = data.norm(train, norm_type=ntype), data.norm(test, norm_type=ntype)\n",
    "\n",
    "train_pad = np.pad(train_norm.data, ((0,0),(0,19 - train_norm.data.shape[1])), 'constant')\n",
    "test_pad = np.pad(test_norm.data, ((0,0),(0,19 - test_norm.data.shape[1])), 'constant')\n",
    "\n",
    "autoencoder = instance.train(\n",
    "    x_train=train_norm.data,\n",
    "    x_test=test_norm.data,\n",
    "    y_train=train_pad,\n",
    "    y_test=test_pad,\n",
    "#     y_train=np.ones((train_norm.shape[0], 20)),\n",
    "#     y_test=np.ones((test_norm.shape[0], 20)),\n",
    "    optimizer=\"adam\",\n",
    "    loss=K_custom_loss,\n",
    "    epochs=60,\n",
    "    model=autoencoder,\n",
    "    metrics=[],\n",
    "    force=True,\n",
    "    batch_size=128,\n",
    "    use_callbacks=False,\n",
    "    learning_rate=0.00025,\n",
    ")"
   ]
  },
  {
   "cell_type": "markdown",
   "metadata": {},
   "source": [
    "### 4. check results\n",
    "it is easy to check things like loss, accuracy, etc. later on with this method - all data is saved to an h5 file unique to that training name."
   ]
  },
  {
   "cell_type": "code",
   "execution_count": 316,
   "metadata": {
    "collapsed": false
   },
   "outputs": [
    {
     "data": {
      "image/png": "[encoded data removed]",
      "text/plain": [
       "<matplotlib.figure.Figure at 0x7fb308d6dc50>"
      ]
     },
     "metadata": {},
     "output_type": "display_data"
    }
   ],
   "source": [
    "instance.plot_metrics(fnmatch_criteria=\"*loss\", yscale=\"linear\")\n",
    "# instance.plot_metrics(fnmatch_criteria=\"*absolute*\", yscale=\"linear\")\n",
    "# instance.plot_metrics(fnmatch_criteria=\"*r_square*\", yscale=\"linear\")"
   ]
  },
  {
   "cell_type": "markdown",
   "metadata": {},
   "source": [
    "checking results:"
   ]
  },
  {
   "cell_type": "code",
   "execution_count": 286,
   "metadata": {
    "collapsed": false,
    "scrolled": false
   },
   "outputs": [],
   "source": [
    "def np_lognormal(x,a1,a2,a3):\n",
    "#     ret = K.cast(K.greater(a2, 0), 'float32')\n",
    "    return a3/(x*a2*np.sqrt(2.*np.pi))*np.exp(-(np.log(x) - a1)**2./(2.*a2*a2))\n",
    "      \n",
    "def np_gaussian(x, a1, a2):\n",
    "#     ret = K.cast(K.greater(a2, 0), 'float32')\n",
    "    return (1./(a2*np.sqrt(2.*np.pi)))*np.exp((-(x - a1)*(x - a1))/(2.*a2*a2))\n",
    "\n",
    "def np_phi_pdf(x, frac, sig1, sig2):\n",
    "#     ret = K.cast(K.greater(sig1, 0), 'float32')*K.cast(K.greater(sig2, 0), 'float32')\n",
    "    ratio = np_gaussian(0, 0, sig1)/np_gaussian(0, 0, sig2)\n",
    "    f1 = frac/ratio\n",
    "    f2 = frac*ratio\n",
    "    ret = f1*np_gaussian(x, 0.01, sig1) + f2*np_gaussian(x, .255, sig2) + f1*np_gaussian(x, .5, sig1) + f2*np_gaussian(x, .745, sig2) + f1*np_gaussian(x, .99, sig1)\n",
    "    mask = np.where(ret > 0.)[0].astype(float)\n",
    "    return ret*mask + (1. - mask)*10e-8\n",
    "\n",
    "\n",
    "def np_phi_gaussians(x, dist, frac, sig1, sig2):\n",
    "    f1 = 1./frac\n",
    "    f2 = frac\n",
    "    return  np.asarray([f1*np_gaussian(x, 0, sig1), f2*np_gaussian(x, 1.*dist, sig2), f1*np_gaussian(x, 2.*dist, sig1), f2*np_gaussian(x, 3.*dist, sig2), f1*np_gaussian(x, 4.*dist, sig1)])\n",
    "\n",
    "def get_probabilities(true, pred):\n",
    "    ret = []\n",
    "    mus, sigmas, skews, others = pred[:,0:6], pred[:,6:14], pred[:,14:18], pred[:,18:20]\n",
    "    ret.append(np_gaussian(true[:,0], mus[:,0], sigmas[:,0]))\n",
    "    ret.append(np_phi_pdf(true[:,1], others[:,0], sigmas[:,1], sigmas[:,2]))\n",
    "    ret.append(np_lognormal(true[:,2], mus[:,1], sigmas[:,3], skews[:,0]))\n",
    "    ret.append(np_lognormal(true[:,3], mus[:,2], sigmas[:,4], skews[:,1]))\n",
    "    ret.append(np_gaussian(true[:,4], mus[:,3], sigmas[:,5]))\n",
    "    ret.append(np_lognormal(true[:,5], mus[:,4], sigmas[:,6], skews[:,2]))\n",
    "    ret.append(np_lognormal(true[:,6], mus[:,5], sigmas[:,7], skews[:,3]))\n",
    "    return np.asarray(ret)\n",
    "\n",
    "def get_dist(x, pred):\n",
    "    ret = np.empty((7, x.shape[0]))\n",
    "    mus, sigmas, skews, others = pred[0:6], pred[6:14], pred[14:18], pred[18:20]\n",
    "    ret[0] = np_gaussian(x, mus[0], sigmas[0])\n",
    "    ret[1] = np_phi_pdf(x, others[0], sigmas[1], sigmas[2])\n",
    "    ret[2] = np_lognormal(x, mus[1], sigmas[3], skews[0])\n",
    "    ret[3] = np_lognormal(x, mus[2], sigmas[4], skews[1])\n",
    "    ret[4] = np_gaussian(x, mus[3], sigmas[5])\n",
    "    ret[5] = np_lognormal(x, mus[4], sigmas[6], skews[2])\n",
    "    ret[6] = np_lognormal(x, mus[5], sigmas[7], skews[3])\n",
    "    return ret\n",
    "\n",
    "def get_all_lh(Pred, rng=(0.01, 0.99), points=1000):\n",
    "    x = np.linspace(rng[0], rng[1], points)\n",
    "    lret = []\n",
    "    for pred in Pred:\n",
    "        mus, sigmas, skews, others = pred[0:6], pred[6:14], pred[14:18], pred[18:20]\n",
    "        ret = []\n",
    "        ret.append(np_gaussian(x, mus[0], sigmas[0]))\n",
    "        ret.append(np_phi_pdf(x, others[0], sigmas[1], sigmas[2]))\n",
    "        ret.append(np_lognormal(x, mus[1], sigmas[3], skews[0]))\n",
    "        ret.append(np_lognormal(x, mus[2], sigmas[4], skews[1]))\n",
    "        ret.append(np_gaussian(x, mus[3], sigmas[5]))\n",
    "        ret.append(np_lognormal(x, mus[4], sigmas[6], skews[2]))\n",
    "        ret.append(np_lognormal(x, mus[5], sigmas[7], skews[3]))\n",
    "        lret.append(ret)\n",
    "    return x,np.asarray(lret)\n",
    "\n",
    "def get_avg_lh(Pred, rng=(0.01, 0.99), points=1000):\n",
    "    x = np.linspace(rng[0], rng[1], points)\n",
    "    pred = Pred.mean(axis=0)\n",
    "    mus, sigmas, skews, others = pred[0:6], pred[6:14], pred[14:18], pred[18:20]\n",
    "    ret = []\n",
    "    ret.append(np_gaussian(x, mus[0], sigmas[0]))\n",
    "    ret.append(np_phi_pdf(x, others[0], sigmas[1], sigmas[2]))\n",
    "    ret.append(np_lognormal(x, mus[1], sigmas[3], skews[0]))\n",
    "    ret.append(np_lognormal(x, mus[2], sigmas[4], skews[1]))\n",
    "    ret.append(np_gaussian(x, mus[3], sigmas[5]))\n",
    "    ret.append(np_lognormal(x, mus[4], sigmas[6], skews[2]))\n",
    "    ret.append(np_lognormal(x, mus[5], sigmas[7], skews[3]))\n",
    "    \n",
    "    return x,np.asarray(ret)\n",
    "    \n",
    "    \n",
    "pred = autoencoder.predict(test_norm.data)\n",
    "\n",
    "weights = get_probabilities(test_norm.data, pred).T\n",
    "x,ll = get_avg_lh(pred)\n",
    "\n",
    "\n",
    "from sklearn.preprocessing import MinMaxScaler\n",
    "\n",
    "weights = MinMaxScaler().fit_transform(weights)\n",
    "\n",
    "# for i,w in enumerate(weights.T):\n",
    "# #     plt.hist(w, bins=30, normed=1, histtype='step')\n",
    "\n",
    "#     plt.hist(test_norm.data[:,i], weights=w, bins=50, normed=1, histtype='step', label='pred')\n",
    "#     plt.hist(test_norm.data[:,i], bins=50, normed=1, histtype='step', label='true')\n",
    "#     plt.legend()\n",
    "#     plt.show()\n",
    "# # print pred.shape\n",
    "# # lplot = ll.mean(axis=0)\n",
    "# for i,l in enumerate(lplot):\n",
    "#     bc, bins = np.histogram(norm_data.data[:,i], bins=50, normed=1)\n",
    "#     plt.scatter(x, l/l.max())\n",
    "#     plt.step(bins[1:], bc/bc.max())\n",
    "#     plt.show()"
   ]
  },
  {
   "cell_type": "code",
   "execution_count": 287,
   "metadata": {
    "collapsed": false
   },
   "outputs": [
    {
     "name": "stdout",
     "output_type": "stream",
     "text": [
      "(100,)\n"
     ]
    }
   ],
   "source": [
    "x = np.linspace(0.01, .99, 100)\n",
    "np.diff(x)\n",
    "\n",
    "print x.shape\n",
    "for p in pred:\n",
    "    pdf = get_dist(x, p)\n",
    "    pdf\n",
    "#     print pdf.shape"
   ]
  },
  {
   "cell_type": "code",
   "execution_count": null,
   "metadata": {
    "collapsed": false
   },
   "outputs": [],
   "source": []
  },
  {
   "cell_type": "code",
   "execution_count": 319,
   "metadata": {
    "collapsed": false
   },
   "outputs": [],
   "source": [
    "encoder, decoder = autoencoder.layers[1:]\n",
    "train_reps, test_reps = (\n",
    "    utils.data_table(encoder.predict(train_norm.data), headers=[\"val {}\".format(i+1) for i in range(5)], name=\"train_reps\"),\n",
    "    utils.data_table(encoder.predict(test_norm.data), headers=[\"val {}\".format(i+1) for i in range(5)], name=\"test_reps\")\n",
    ")"
   ]
  },
  {
   "cell_type": "code",
   "execution_count": 320,
   "metadata": {
    "collapsed": false,
    "scrolled": false
   },
   "outputs": [
    {
     "name": "stdout",
     "output_type": "stream",
     "text": [
      "data_table :: plotting distrubution(s) for table(s) ['train_reps', 'test_reps']\n"
     ]
    },
    {
     "data": {
      "image/png": "[encoded data removed]",
      "text/plain": [
       "<matplotlib.figure.Figure at 0x7fb306781e90>"
      ]
     },
     "metadata": {},
     "output_type": "display_data"
    }
   ],
   "source": [
    "train_reps.plot([test_reps], cols=5, figsize=(25,5), fontsize=22, normed=1, bins=40)"
   ]
  },
  {
   "cell_type": "code",
   "execution_count": 633,
   "metadata": {
    "collapsed": false
   },
   "outputs": [],
   "source": [
    "errors = utils.data_table(np.asarray(map(\n",
    "        lambda x: keras.backend.eval(getattr(keras.losses, x)(data.norm(**norm_args).data, data_recon_norm.data)),\n",
    "        [\"mse\", \"mae\"]\n",
    "    )).T,                      \n",
    "    headers=[\"mse\", \"mae\"],\n",
    "    name=\"errors\"\n",
    ")"
   ]
  },
  {
   "cell_type": "code",
   "execution_count": 643,
   "metadata": {
    "collapsed": false
   },
   "outputs": [
    {
     "name": "stdout",
     "output_type": "stream",
     "text": [
      "data_table :: plotting distrubution(s) for table(s) ['errors']\n"
     ]
    },
    {
     "data": {
      "image/png": "[encoded data removed]",
      "text/plain": [
       "<matplotlib.figure.Figure at 0x7fb9f6becf10>"
      ]
     },
     "metadata": {},
     "output_type": "display_data"
    }
   ],
   "source": [
    "errors.plot(figsize=(20,10), bins=40, rng=((0,0.0004), (0, 0.06)), fontsize=20)"
   ]
  },
  {
   "cell_type": "code",
   "execution_count": 646,
   "metadata": {
    "collapsed": false
   },
   "outputs": [
    {
     "name": "stdout",
     "output_type": "stream",
     "text": [
      "11236 11236\n",
      "112 11124\n"
     ]
    }
   ],
   "source": [
    "outlier_fraction = 0.01\n",
    "index = np.argsort(errors.mae)\n",
    "out_index = index[-int(outlier_fraction*len(errors)):]\n",
    "reg_index = index[:-int(outlier_fraction*len(errors))]\n",
    "print out_index.size + reg_index.size,len(errors)\n",
    "print out_index.size, reg_index.size"
   ]
  },
  {
   "cell_type": "code",
   "execution_count": 647,
   "metadata": {
    "collapsed": false
   },
   "outputs": [
    {
     "name": "stdout",
     "output_type": "stream",
     "text": [
      "data_table :: plotting distrubution(s) for table(s) ['normal', 'outliers (top 0.01)']\n"
     ]
    },
    {
     "data": {
      "image/png": "[encoded data removed]",
      "text/plain": [
       "<matplotlib.figure.Figure at 0x7fb9f6909350>"
      ]
     },
     "metadata": {},
     "output_type": "display_data"
    }
   ],
   "source": [
    "out,reg = (\n",
    "    utils.data_table(data.data[out_index], headers=data.headers, name=\"outliers (top {})\".format(outlier_fraction)), \n",
    "    utils.data_table(data.data[reg_index], headers=data.headers, name=\"normal\")\n",
    ")\n",
    "reg.plot(out, normed=1, bins=30, figsize=(20,10))"
   ]
  },
  {
   "cell_type": "code",
   "execution_count": null,
   "metadata": {
    "collapsed": false
   },
   "outputs": [],
   "source": []
  },
  {
   "cell_type": "code",
   "execution_count": null,
   "metadata": {
    "collapsed": true
   },
   "outputs": [],
   "source": []
  }
 ],
 "metadata": {
  "kernelspec": {
   "display_name": "Python 2",
   "language": "python",
   "name": "python2"
  },
  "language_info": {
   "codemirror_mode": {
    "name": "ipython",
    "version": 2
   },
   "file_extension": ".py",
   "mimetype": "text/x-python",
   "name": "python",
   "nbconvert_exporter": "python",
   "pygments_lexer": "ipython2",
   "version": "2.7.13"
  }
 },
 "nbformat": 4,
 "nbformat_minor": 0
}
