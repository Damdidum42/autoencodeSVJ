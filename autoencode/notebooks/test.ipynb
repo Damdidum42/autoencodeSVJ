{
 "cells": [
  {
   "cell_type": "code",
   "execution_count": 3,
   "metadata": {
    "collapsed": false
   },
   "outputs": [
    {
     "name": "stdout",
     "output_type": "stream",
     "text": [
      "total 500\r\n",
      "drwxr-xr-x. 10 llepotti zh   2048 Aug  2 15:38 \u001b[0m\u001b[34m.\u001b[0m/\r\n",
      "drwxr-xr-x.  6 llepotti zh   2048 Jul 17 21:03 \u001b[34m..\u001b[0m/\r\n",
      "drwxr-xr-x.  4 llepotti zh   2048 Aug  2 11:12 \u001b[34mae\u001b[0m/\r\n",
      "drwxr-xr-x.  2 llepotti zh   2048 Aug  2 11:12 \u001b[34mae_custom_loss\u001b[0m/\r\n",
      "drwxr-xr-x.  3 llepotti zh   4096 Jul 18 16:56 \u001b[34mdev\u001b[0m/\r\n",
      "drwxr-xr-x.  2 llepotti zh   2048 Aug  2 15:38 \u001b[34m.ipynb_checkpoints\u001b[0m/\r\n",
      "drwxr-xr-x.  3 llepotti zh   2048 Aug  2 11:12 \u001b[34m.old\u001b[0m/\r\n",
      "drwxr-xr-x.  2 llepotti zh   2048 Aug  2 11:12 \u001b[34msparse\u001b[0m/\r\n",
      "drwxr-xr-x.  2 llepotti zh   2048 Aug  2 11:12 \u001b[34mtest\u001b[0m/\r\n",
      "-rw-r--r--.  1 llepotti zh 489046 Aug  2 15:37 \u001b[00mtest.ipynb\u001b[0m\r\n",
      "drwxr-xr-x.  2 llepotti zh   2048 Aug  2 11:12 \u001b[34mvae\u001b[0m/\r\n"
     ]
    }
   ],
   "source": [
    "ls -alFH "
   ]
  }
 ],
 "metadata": {
  "kernelspec": {
   "display_name": "Python 2",
   "language": "python",
   "name": "python2"
  },
  "language_info": {
   "codemirror_mode": {
    "name": "ipython",
    "version": 2
   },
   "file_extension": ".py",
   "mimetype": "text/x-python",
   "name": "python",
   "nbconvert_exporter": "python",
   "pygments_lexer": "ipython2",
   "version": "2.7.13"
  }
 },
 "nbformat": 4,
 "nbformat_minor": 0
}
