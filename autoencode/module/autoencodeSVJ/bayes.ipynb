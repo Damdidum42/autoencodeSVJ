{
 "cells": [
  {
   "cell_type": "code",
   "execution_count": 1,
   "metadata": {
    "collapsed": false
   },
   "outputs": [
    {
     "name": "stderr",
     "output_type": "stream",
     "text": [
      "Using TensorFlow backend.\n"
     ]
    }
   ],
   "source": [
    "import autoencodeSVJ.evaluate as ev\n",
    "import autoencodeSVJ.utils as utils\n",
    "from skopt import gp_minimize\n",
    "from skopt.space import Real, Integer, Categorical\n",
    "from skopt.utils import use_named_args\n",
    "import numpy as np"
   ]
  },
  {
   "cell_type": "code",
   "execution_count": 124,
   "metadata": {
    "collapsed": false
   },
   "outputs": [],
   "source": [
    "space = [\n",
    "    Integer(2, 30, name='target_dim'),\n",
    "    Integer(0, 1, name='hlf'),\n",
    "    Real(0.05, 0.5, name='val_split'),\n",
    "    Real(1e-4, 1e-1, name='learning_rate', prior='log-uniform'), \n",
    "    Categorical(['mae', 'mse'], name='loss'),\n",
    "    Integer(3, 4, name='eflow_base')\n",
    "]"
   ]
  },
  {
   "cell_type": "code",
   "execution_count": 125,
   "metadata": {
    "collapsed": true
   },
   "outputs": [],
   "source": [
    "filtered = utils.summary().cfilter([elt.name for elt in space] + [\"*auc\"])\n",
    "\n",
    "keep = filtered.copy()\n",
    "for elt in space:\n",
    "    if isinstance(elt, Categorical):\n",
    "        keep = keep[keep[elt.name].isin(elt.categories)]\n",
    "    else:\n",
    "        keep = keep[keep[elt.name].between(*elt.bounds)]\n",
    "        if isinstance(elt, Integer):\n",
    "            keep = keep[keep[elt.name].apply(lambda x: float(x).is_integer())]\n",
    "\n",
    "aucs = keep.loc[:,~keep.columns.isin([elt.name for elt in space])]\n",
    "\n",
    "x0 = np.asarray([keep[item.name].values for item in space]).T.tolist()\n",
    "y0 = map(lambda x: 1 - x,aucs.max(axis=1).tolist())\n",
    "# x0 = [list(keep [item.name].values) for item in space]\n",
    "# y0 = auc.max(axis=1).tolist()"
   ]
  },
  {
   "cell_type": "code",
   "execution_count": null,
   "metadata": {
    "collapsed": false
   },
   "outputs": [
    {
     "name": "stdout",
     "output_type": "stream",
     "text": [
      "Iteration No: 1 started. Evaluating function at random point.\n",
      "Iteration No: 1 ended. Evaluation done at random point.\n",
      "Time taken: 0.0007\n",
      "Function value obtained: 0.0037\n",
      "Current minimum: 0.0037\n",
      "Iteration No: 2 started. Evaluating function at random point.\n",
      "computing configuration {'loss': 'mse', 'val_split': 0.11901833535197946, 'learning_rate': 0.0003065243605129555, 'target_dim': 4, 'eflow_base': 4, 'hlf': 1}\n",
      "Max AUC: 0.177661113089\n",
      "Iteration No: 2 ended. Evaluation done at random point.\n",
      "Time taken: 254.3959\n",
      "Function value obtained: 0.1777\n",
      "Current minimum: 0.0037\n",
      "Iteration No: 3 started. Evaluating function at random point.\n",
      "computing configuration {'loss': 'mse', 'val_split': 0.42265227781494957, 'learning_rate': 0.00174687379638172, 'target_dim': 26, 'eflow_base': 4, 'hlf': 1}\n",
      "Max AUC: 0.015609938215\n",
      "Iteration No: 3 ended. Evaluation done at random point.\n",
      "Time taken: 142.8773\n",
      "Function value obtained: 0.0156\n",
      "Current minimum: 0.0037\n",
      "Iteration No: 4 started. Evaluating function at random point.\n",
      "computing configuration {'loss': 'mae', 'val_split': 0.45818990165157147, 'learning_rate': 0.01093386491547556, 'target_dim': 4, 'eflow_base': 4, 'hlf': 0}\n",
      "Max AUC: 0.17161976589\n",
      "Iteration No: 4 ended. Evaluation done at random point.\n",
      "Time taken: 127.9462\n",
      "Function value obtained: 0.1716\n",
      "Current minimum: 0.0037\n",
      "Iteration No: 5 started. Evaluating function at random point.\n",
      "computing configuration {'loss': 'mae', 'val_split': 0.32511397553214938, 'learning_rate': 0.0005575354294455534, 'target_dim': 15, 'eflow_base': 3, 'hlf': 1}\n"
     ]
    }
   ],
   "source": [
    "random_state = np.random.randint(0, 100000)\n",
    "\n",
    "@use_named_args(space)\n",
    "def objective(**X):\n",
    "    print \"computing configuration {}\".format(X)\n",
    "    \n",
    "    # minimize 1 - auc\n",
    "    auc = 1. - ev.ae_train(\n",
    "        qcd_path='data/background/base_{}/*.h5'.format(X['eflow_base']),\n",
    "        signal_path=\"data/signal/base_{}/*.h5\".format(X['eflow_base']),\n",
    "        epochs=100,\n",
    "        hlf=bool(X['hlf']),\n",
    "        target_dim=X['target_dim'],\n",
    "        val_split=X['val_split'],\n",
    "        learning_rate=X['learning_rate'],\n",
    "        optimizer='adam',\n",
    "        loss=X['loss'],\n",
    "        seed=random_state,\n",
    "        verbose=0,\n",
    "    )\n",
    "    \n",
    "    print \"Max AUC:\", 1 - auc\n",
    "    return auc\n",
    "\n",
    "results = gp_minimize(objective, space, verbose=1, x0=x0, y0=y0, n_calls=20, n_random_starts=5, random_state=random_state)"
   ]
  },
  {
   "cell_type": "code",
   "execution_count": 14,
   "metadata": {
    "collapsed": false
   },
   "outputs": [
    {
     "data": {
      "text/plain": [
       "<module 'autoencodeSVJ.utils' from '/afs/cern.ch/user/l/llepotti/.local/lib/python2.7/site-packages/autoencodeSVJ/utils.pyc'>"
      ]
     },
     "execution_count": 14,
     "metadata": {},
     "output_type": "execute_result"
    }
   ],
   "source": [
    "utils"
   ]
  },
  {
   "cell_type": "code",
   "execution_count": null,
   "metadata": {
    "collapsed": true
   },
   "outputs": [],
   "source": [
    "from skopt.plots import plot_convergence\n",
    "\n",
    "plot_convergence(results)\n"
   ]
  },
  {
   "cell_type": "code",
   "execution_count": null,
   "metadata": {
    "collapsed": true
   },
   "outputs": [],
   "source": [
    "print(\"Best parameters: \\\n",
    "\\nbest_hidden_layers = {} \\\n",
    "\\nbest_initial_nodes = {} \\\n",
    "\\nbest_dropout = {} \\\n",
    "\\nbest_learning_rate = {}\".format(results.x[0],\n",
    "                                 results.x[1],\n",
    "                                 results.x[2],\n",
    "                                 results.x[3]))"
   ]
  },
  {
   "cell_type": "code",
   "execution_count": 11,
   "metadata": {
    "collapsed": false
   },
   "outputs": [
    {
     "data": {
      "text/html": [
       "<div>\n",
       "<style scoped>\n",
       "    .dataframe tbody tr th:only-of-type {\n",
       "        vertical-align: middle;\n",
       "    }\n",
       "\n",
       "    .dataframe tbody tr th {\n",
       "        vertical-align: top;\n",
       "    }\n",
       "\n",
       "    .dataframe thead th {\n",
       "        text-align: right;\n",
       "    }\n",
       "</style>\n",
       "<table border=\"1\" class=\"dataframe\">\n",
       "  <thead>\n",
       "    <tr style=\"text-align: right;\">\n",
       "      <th></th>\n",
       "      <th>epochs</th>\n",
       "      <th>hlf</th>\n",
       "      <th>mae_auc</th>\n",
       "      <th>mse_auc</th>\n",
       "      <th>target_dim</th>\n",
       "    </tr>\n",
       "  </thead>\n",
       "  <tbody>\n",
       "    <tr>\n",
       "      <th>0</th>\n",
       "      <td>1</td>\n",
       "      <td>False</td>\n",
       "      <td>0.862698</td>\n",
       "      <td>0.84429</td>\n",
       "      <td>3</td>\n",
       "    </tr>\n",
       "    <tr>\n",
       "      <th>1</th>\n",
       "      <td>1</td>\n",
       "      <td>False</td>\n",
       "      <td>0.938824</td>\n",
       "      <td>0.932237</td>\n",
       "      <td>3</td>\n",
       "    </tr>\n",
       "    <tr>\n",
       "      <th>2</th>\n",
       "      <td>100</td>\n",
       "      <td>False</td>\n",
       "      <td>0.993498</td>\n",
       "      <td>0.994219</td>\n",
       "      <td>8</td>\n",
       "    </tr>\n",
       "    <tr>\n",
       "      <th>3</th>\n",
       "      <td>5</td>\n",
       "      <td>False</td>\n",
       "      <td>0.982221</td>\n",
       "      <td>0.983467</td>\n",
       "      <td>10</td>\n",
       "    </tr>\n",
       "    <tr>\n",
       "      <th>4</th>\n",
       "      <td>5</td>\n",
       "      <td>False</td>\n",
       "      <td>0.987275</td>\n",
       "      <td>0.988165</td>\n",
       "      <td>10</td>\n",
       "    </tr>\n",
       "    <tr>\n",
       "      <th>5</th>\n",
       "      <td>10</td>\n",
       "      <td>1</td>\n",
       "      <td>0.963714</td>\n",
       "      <td>0.964086</td>\n",
       "      <td>15</td>\n",
       "    </tr>\n",
       "    <tr>\n",
       "      <th>6</th>\n",
       "      <td>100</td>\n",
       "      <td>False</td>\n",
       "      <td>0.987723</td>\n",
       "      <td>0.988752</td>\n",
       "      <td>6</td>\n",
       "    </tr>\n",
       "    <tr>\n",
       "      <th>7</th>\n",
       "      <td>5</td>\n",
       "      <td>True</td>\n",
       "      <td>0.731472</td>\n",
       "      <td>0.743457</td>\n",
       "      <td>9</td>\n",
       "    </tr>\n",
       "    <tr>\n",
       "      <th>8</th>\n",
       "      <td>5</td>\n",
       "      <td>False</td>\n",
       "      <td>0.987536</td>\n",
       "      <td>0.98731</td>\n",
       "      <td>15</td>\n",
       "    </tr>\n",
       "  </tbody>\n",
       "</table>\n",
       "</div>"
      ],
      "text/plain": [
       "  epochs    hlf   mae_auc   mse_auc target_dim\n",
       "0      1  False  0.862698   0.84429          3\n",
       "1      1  False  0.938824  0.932237          3\n",
       "2    100  False  0.993498  0.994219          8\n",
       "3      5  False  0.982221  0.983467         10\n",
       "4      5  False  0.987275  0.988165         10\n",
       "5     10      1  0.963714  0.964086         15\n",
       "6    100  False  0.987723  0.988752          6\n",
       "7      5   True  0.731472  0.743457          9\n",
       "8      5  False  0.987536   0.98731         15"
      ]
     },
     "execution_count": 11,
     "metadata": {},
     "output_type": "execute_result"
    }
   ],
   "source": [
    "# utils.summary().cfilter([\"*auc*\", \"target_dim\", \"hlf\", 'epo*'])"
   ]
  },
  {
   "cell_type": "code",
   "execution_count": 17,
   "metadata": {
    "collapsed": false
   },
   "outputs": [
    {
     "data": {
      "text/html": [
       "<div>\n",
       "<style scoped>\n",
       "    .dataframe tbody tr th:only-of-type {\n",
       "        vertical-align: middle;\n",
       "    }\n",
       "\n",
       "    .dataframe tbody tr th {\n",
       "        vertical-align: top;\n",
       "    }\n",
       "\n",
       "    .dataframe thead th {\n",
       "        text-align: right;\n",
       "    }\n",
       "</style>\n",
       "<table border=\"1\" class=\"dataframe\">\n",
       "  <thead>\n",
       "    <tr style=\"text-align: right;\">\n",
       "      <th></th>\n",
       "      <th>cut_name</th>\n",
       "      <th>n_events</th>\n",
       "      <th>abs eff.</th>\n",
       "      <th>rel eff.</th>\n",
       "    </tr>\n",
       "  </thead>\n",
       "  <tbody>\n",
       "    <tr>\n",
       "      <th>0</th>\n",
       "      <td>no cut</td>\n",
       "      <td>83949</td>\n",
       "      <td>100.00</td>\n",
       "      <td>100.00</td>\n",
       "    </tr>\n",
       "    <tr>\n",
       "      <th>1</th>\n",
       "      <td>0 Passing Leptons</td>\n",
       "      <td>55768</td>\n",
       "      <td>66.43</td>\n",
       "      <td>66.43</td>\n",
       "    </tr>\n",
       "    <tr>\n",
       "      <th>2</th>\n",
       "      <td>n Jets &gt; 1</td>\n",
       "      <td>55664</td>\n",
       "      <td>66.31</td>\n",
       "      <td>99.81</td>\n",
       "    </tr>\n",
       "    <tr>\n",
       "      <th>3</th>\n",
       "      <td>abs jet Etas &lt; 2.4</td>\n",
       "      <td>44505</td>\n",
       "      <td>53.01</td>\n",
       "      <td>79.95</td>\n",
       "    </tr>\n",
       "    <tr>\n",
       "      <th>4</th>\n",
       "      <td>abs DeltaEta &lt; 1.5</td>\n",
       "      <td>33185</td>\n",
       "      <td>39.53</td>\n",
       "      <td>74.56</td>\n",
       "    </tr>\n",
       "    <tr>\n",
       "      <th>5</th>\n",
       "      <td>MET/M_T &gt; 0.15</td>\n",
       "      <td>25708</td>\n",
       "      <td>30.62</td>\n",
       "      <td>77.47</td>\n",
       "    </tr>\n",
       "    <tr>\n",
       "      <th>6</th>\n",
       "      <td>Jet PT &gt; 200</td>\n",
       "      <td>327</td>\n",
       "      <td>0.39</td>\n",
       "      <td>1.27</td>\n",
       "    </tr>\n",
       "    <tr>\n",
       "      <th>7</th>\n",
       "      <td>Dijet veto</td>\n",
       "      <td>327</td>\n",
       "      <td>0.39</td>\n",
       "      <td>100.00</td>\n",
       "    </tr>\n",
       "    <tr>\n",
       "      <th>8</th>\n",
       "      <td>M_T &gt; 1500</td>\n",
       "      <td>5</td>\n",
       "      <td>0.01</td>\n",
       "      <td>1.53</td>\n",
       "    </tr>\n",
       "    <tr>\n",
       "      <th>9</th>\n",
       "      <td>MET/M_T &gt; 0.25</td>\n",
       "      <td>3</td>\n",
       "      <td>0.00</td>\n",
       "      <td>60.00</td>\n",
       "    </tr>\n",
       "    <tr>\n",
       "      <th>10</th>\n",
       "      <td>final selection</td>\n",
       "      <td>3</td>\n",
       "      <td>0.00</td>\n",
       "      <td>100.00</td>\n",
       "    </tr>\n",
       "  </tbody>\n",
       "</table>\n",
       "</div>"
      ],
      "text/plain": [
       "              cut_name  n_events  abs eff.  rel eff.\n",
       "0               no cut     83949    100.00    100.00\n",
       "1    0 Passing Leptons     55768     66.43     66.43\n",
       "2           n Jets > 1     55664     66.31     99.81\n",
       "3   abs jet Etas < 2.4     44505     53.01     79.95\n",
       "4   abs DeltaEta < 1.5     33185     39.53     74.56\n",
       "5       MET/M_T > 0.15     25708     30.62     77.47\n",
       "6         Jet PT > 200       327      0.39      1.27\n",
       "7           Dijet veto       327      0.39    100.00\n",
       "8           M_T > 1500         5      0.01      1.53\n",
       "9       MET/M_T > 0.25         3      0.00     60.00\n",
       "10     final selection         3      0.00    100.00"
      ]
     },
     "execution_count": 17,
     "metadata": {},
     "output_type": "execute_result"
    }
   ],
   "source": [
    "utils.get_cutflow_table(\"../../../data/ttbar/*cutflow*\")"
   ]
  },
  {
   "cell_type": "code",
   "execution_count": 10,
   "metadata": {
    "collapsed": false
   },
   "outputs": [],
   "source": [
    "from tqdm import tqdm\n",
    "import numpy as np\n",
    "import math\n",
    "import os\n",
    "import argparse\n",
    "import sys\n",
    "import time\n",
    "from traceback import format_exc\n",
    "import h5py\n",
    "import ROOT as rt\n",
    "from collections import OrderedDict as odict\n",
    "import energyflow as ef\n",
    "\n",
    "DELPHES_DIR = os.environ[\"DELPHES_DIR\"]\n",
    "rt.gSystem.Load(\"{}/lib/libDelphes.so\".format(DELPHES_DIR))\n",
    "rt.gInterpreter.Declare('#include \"{}/include/modules/Delphes.h\"'.format(DELPHES_DIR))\n",
    "rt.gInterpreter.Declare('#include \"{}/include/classes/DelphesClasses.h\"'.format(DELPHES_DIR))\n",
    "rt.gInterpreter.Declare('#include \"{}/include/classes/DelphesFactory.h\"'.format(DELPHES_DIR))\n",
    "rt.gInterpreter.Declare('#include \"{}/include/ExRootAnalysis/ExRootTreeReader.h\"'.format(DELPHES_DIR))\n",
    "\n",
    "\n",
    "f = rt.TFile(\"/eos/project/d/dshep/TOPCLASS/ZprimeDark_2000GeV_13TeV_PU40_OLD/ZprimeDark_2000GeV_13TeV_PU40_42.root\")\n",
    "tree = f.Get(\"Delphes\")\n",
    "\n",
    "# pdict = {}\n",
    "# tree.SetBranchStatus(\"*\", 0)\n",
    "# tree.SetBranchStatus(\"Particle.PID\", 1)\n",
    "# tree.SetBranchStatus(\"Particle.Status\", 1)\n",
    "\n",
    "# p = tree.GetLeaf(\"Particle.PID\")\n",
    "# s = tree.GetLeaf(\"Particle.Status\")\n",
    "\n",
    "# total = 0\n",
    "# for n in tqdm(range(0, tree.GetEntries())):\n",
    "#     if tree.GetEntry(i):\n",
    "#         for i in range(min(p.GetLen(), s.GetLen())):\n",
    "#             total += 1\n",
    "#             k = p.GetValue(i)\n",
    "#             v = s.GetValue(i)\n",
    "\n",
    "#             if k not in pdict:\n",
    "#                 pdict[k] = {}\n",
    "#             if v not in pdict[k]:\n",
    "#                 pdict[k][v] = 0\n",
    "#             pdict[k][v] += 1\n"
   ]
  },
  {
   "cell_type": "code",
   "execution_count": 11,
   "metadata": {
    "collapsed": false
   },
   "outputs": [
    {
     "data": {
      "text/plain": [
       "7688211L"
      ]
     },
     "execution_count": 11,
     "metadata": {},
     "output_type": "execute_result"
    }
   ],
   "source": [
    "tree.Draw(\"Particle.PID\", \"\", \"goff\")"
   ]
  },
  {
   "cell_type": "code",
   "execution_count": 7,
   "metadata": {
    "collapsed": false
   },
   "outputs": [],
   "source": [
    "def merge_files(path, out_name, treename=\"Delphes\"):\n",
    "    chain = rt.TChain(treename)\n",
    "    for f in glob.glob(path):\n",
    "        chain.Add(f)\n",
    "    chain.Merge(out_name)"
   ]
  },
  {
   "cell_type": "code",
   "execution_count": 8,
   "metadata": {
    "collapsed": false
   },
   "outputs": [
    {
     "name": "stderr",
     "output_type": "stream",
     "text": [
      "Info in <TBranchElement::InitializeOffsets>: TTree created with an older schema, some data might not be copied in 'slow-cloning' mode; fast-cloning should have the correct result. 'Dxy' is missing when constructing the branch 'EFlowTrack'. \n",
      "Info in <TBranchElement::InitializeOffsets>: TTree created with an older schema, some data might not be copied in 'slow-cloning' mode; fast-cloning should have the correct result. 'SDxy' is missing when constructing the branch 'EFlowTrack'. \n",
      "Info in <TBranchElement::InitializeOffsets>: TTree created with an older schema, some data might not be copied in 'slow-cloning' mode; fast-cloning should have the correct result. 'Dxy' is missing when constructing the branch 'EFlowTrack'. \n",
      "Info in <TBranchElement::InitializeOffsets>: TTree created with an older schema, some data might not be copied in 'slow-cloning' mode; fast-cloning should have the correct result. 'SDxy' is missing when constructing the branch 'EFlowTrack'. \n"
     ]
    }
   ],
   "source": [
    "merge_files(\"/eos/project/d/dshep/TOPCLASS/ZprimeDark_2000GeV_13TeV_PU40/*.root\", 'fixed_nu.root')\n",
    "merge_files(\"/eos/project/d/dshep/TOPCLASS/ZprimeDark_2000GeV_13TeV_PU40_NoNu/*.root\", 'no_nu.root')"
   ]
  },
  {
   "cell_type": "code",
   "execution_count": 12,
   "metadata": {
    "collapsed": false
   },
   "outputs": [],
   "source": [
    "\n",
    "def get_particle_statuses(filename, plot=False):\n",
    "    import pandas as pd\n",
    "    import matplotlib.pyplot as plt\n",
    "    import os\n",
    "    import ROOT as rt\n",
    "\n",
    "    DELPHES_DIR = os.environ[\"DELPHES_DIR\"]\n",
    "    rt.gSystem.Load(\"{}/lib/libDelphes.so\".format(DELPHES_DIR))\n",
    "    rt.gInterpreter.Declare('#include \"{}/include/modules/Delphes.h\"'.format(DELPHES_DIR))\n",
    "    rt.gInterpreter.Declare('#include \"{}/include/classes/DelphesClasses.h\"'.format(DELPHES_DIR))\n",
    "    rt.gInterpreter.Declare('#include \"{}/include/classes/DelphesFactory.h\"'.format(DELPHES_DIR))\n",
    "    rt.gInterpreter.Declare('#include \"{}/include/ExRootAnalysis/ExRootTreeReader.h\"'.format(DELPHES_DIR))\n",
    "\n",
    "\n",
    "    f = rt.TFile(filename)\n",
    "    tree = f.Get(\"Delphes\")\n",
    "    \n",
    "    parr = np.zeros((tree.Draw(\"Particle.PID\", \"\", \"goff\"), 2))\n",
    "    total = 0\n",
    "    for i in tqdm(range(tree.GetEntries())):\n",
    "        tree.GetEntry(i)\n",
    "        for p in tree.Particle:\n",
    "            parr[total,:] = p.PID, p.Status\n",
    "            total += 1\n",
    "\n",
    "    df = pd.DataFrame(parr, columns=[\"PID\", \"Status\"])\n",
    "    new = df[abs(df.PID) > 4900100]\n",
    "    counts = new.PID.value_counts()\n",
    "    pdict = odict()\n",
    "    for c in counts.index:\n",
    "        pdict[c] = dict(new[new.PID == c].Status.value_counts())\n",
    "\n",
    "        \n",
    "    converted = pd.DataFrame(pdict).T\n",
    "    if plot:\n",
    "        converted.plot.bar(stacked=True)\n",
    "        plt.show()\n",
    "    return converted"
   ]
  },
  {
   "cell_type": "code",
   "execution_count": 53,
   "metadata": {
    "collapsed": false
   },
   "outputs": [],
   "source": [
    "# old = get_particle_statuses/eos/project/d/dshep/TOPCLASS/DijetAnomaly/#pippo#y//ZprimeDark_2000GeV_13TeV_PU40_42.root\")"
   ]
  },
  {
   "cell_type": "code",
   "execution_count": 15,
   "metadata": {
    "collapsed": false
   },
   "outputs": [
    {
     "name": "stderr",
     "output_type": "stream",
     "text": [
      "100%|██████████| 5000/5000 [01:02<00:00, 95.32it/s]\n"
     ]
    }
   ],
   "source": [
    "normal = get_particle_statuses(\"/eos/project/d/dshep/TOPCLASS/ZprimeDark_2000GeV_13TeV_PU40_OLD/ZprimeDark_2000GeV_13TeV_PU40_42.root\")"
   ]
  },
  {
   "cell_type": "code",
   "execution_count": 16,
   "metadata": {
    "collapsed": false
   },
   "outputs": [
    {
     "name": "stderr",
     "output_type": "stream",
     "text": [
      "100%|██████████| 5000/5000 [01:10<00:00, 70.85it/s]\n"
     ]
    }
   ],
   "source": [
    "fixed_nu = get_particle_statuses(\"fixed_nu.root\")"
   ]
  },
  {
   "cell_type": "code",
   "execution_count": 17,
   "metadata": {
    "collapsed": false
   },
   "outputs": [
    {
     "name": "stderr",
     "output_type": "stream",
     "text": [
      "100%|██████████| 5000/5000 [01:14<00:00, 66.91it/s]\n"
     ]
    }
   ],
   "source": [
    "no_nu = get_particle_statuses(\"no_nu.root\")"
   ]
  },
  {
   "cell_type": "code",
   "execution_count": 22,
   "metadata": {
    "collapsed": false
   },
   "outputs": [],
   "source": [
    "def pretty_plot(**fdict):\n",
    "\n",
    "    cols = set().union(*[list(frame.columns) for frame in fdict.values()])\n",
    "    parts = set().union(*[list(frame.index) for frame in fdict.values()])\n",
    "\n",
    "    for name in fdict:\n",
    "        fdict[name].fillna(0, inplace=True)\n",
    "\n",
    "        for v in cols:\n",
    "            if v not in fdict[name]:\n",
    "                fdict[name][v] = 0\n",
    "        for i in parts:\n",
    "            if i not in fdict[name].index:\n",
    "                fdict[name].loc[i] = 0\n",
    "\n",
    "        fdict[name] = fdict[name][sorted(fdict[name].columns)]\n",
    "        fdict[name].sort_index(inplace=True)\n",
    "\n",
    "    for i,name in enumerate(fdict):\n",
    "        ax = fdict[name].plot.bar(stacked=True, title=name, figsize=(8,8))\n",
    "        ax.set_xlabel(\"PID\")\n",
    "        ax.set_ylabel(\"Count\")\n",
    "\n",
    "        legend = ax.get_legend()\n",
    "        legend.set_title(\"Status\")\n",
    "    #     plt.suptitle(name)\n",
    "        plt.show()\n",
    "        \n",
    "    return fdict\n"
   ]
  },
  {
   "cell_type": "code",
   "execution_count": 55,
   "metadata": {
    "collapsed": false,
    "scrolled": false
   },
   "outputs": [
    {
     "data": {
      "image/png": "[encoded data removed]",
      "text/plain": [
       "<matplotlib.figure.Figure at 0x7f9ba477dc90>"
      ]
     },
     "metadata": {},
     "output_type": "display_data"
    },
    {
     "data": {
      "image/png": "[encoded data removed]",
      "text/plain": [
       "<matplotlib.figure.Figure at 0x7f9ba4782590>"
      ]
     },
     "metadata": {},
     "output_type": "display_data"
    },
    {
     "data": {
      "image/png": "[encoded data removed]",
      "text/plain": [
       "<matplotlib.figure.Figure at 0x7f9ba511db90>"
      ]
     },
     "metadata": {},
     "output_type": "display_data"
    }
   ],
   "source": [
    "import matplotlib.pyplot as plt\n",
    "fdict = pretty_plot(normal=normal.copy(), fixed_nu=fixed_nu.copy(), no_nu=no_nu.copy())"
   ]
  },
  {
   "cell_type": "code",
   "execution_count": 48,
   "metadata": {
    "collapsed": false
   },
   "outputs": [
    {
     "name": "stdout",
     "output_type": "stream",
     "text": [
      "False old_signal == no_nu\n",
      "False old_signal == fixed_nu\n",
      "True old_signal == normal\n",
      "False no_nu == old_signal\n",
      "False no_nu == fixed_nu\n",
      "False no_nu == normal\n",
      "False fixed_nu == old_signal\n",
      "False fixed_nu == no_nu\n",
      "False fixed_nu == normal\n",
      "True normal == old_signal\n",
      "False normal == no_nu\n",
      "False normal == fixed_nu\n"
     ]
    }
   ],
   "source": [
    "for name in fdict:\n",
    "    keys = fdict.keys()\n",
    "    keys.remove(name)\n",
    "    for other in keys:\n",
    "        print (fdict[other] == fdict[name]).all().all(), name, '==', other"
   ]
  },
  {
   "cell_type": "code",
   "execution_count": 61,
   "metadata": {
    "collapsed": false
   },
   "outputs": [
    {
     "data": {
      "text/html": [
       "<div>\n",
       "<style scoped>\n",
       "    .dataframe tbody tr th:only-of-type {\n",
       "        vertical-align: middle;\n",
       "    }\n",
       "\n",
       "    .dataframe tbody tr th {\n",
       "        vertical-align: top;\n",
       "    }\n",
       "\n",
       "    .dataframe thead th {\n",
       "        text-align: right;\n",
       "    }\n",
       "</style>\n",
       "<table border=\"1\" class=\"dataframe\">\n",
       "  <thead>\n",
       "    <tr style=\"text-align: right;\">\n",
       "      <th></th>\n",
       "      <th>2.0</th>\n",
       "      <th>23.0</th>\n",
       "      <th>33.0</th>\n",
       "      <th>44.0</th>\n",
       "      <th>51.0</th>\n",
       "      <th>52.0</th>\n",
       "      <th>62.0</th>\n",
       "      <th>71.0</th>\n",
       "      <th>83.0</th>\n",
       "      <th>84.0</th>\n",
       "    </tr>\n",
       "  </thead>\n",
       "  <tbody>\n",
       "    <tr>\n",
       "      <th>-9000211.0</th>\n",
       "      <td>inf</td>\n",
       "      <td>NaN</td>\n",
       "      <td>NaN</td>\n",
       "      <td>NaN</td>\n",
       "      <td>NaN</td>\n",
       "      <td>NaN</td>\n",
       "      <td>NaN</td>\n",
       "      <td>NaN</td>\n",
       "      <td>NaN</td>\n",
       "      <td>NaN</td>\n",
       "    </tr>\n",
       "    <tr>\n",
       "      <th>-4900101.0</th>\n",
       "      <td>NaN</td>\n",
       "      <td>1.0</td>\n",
       "      <td>NaN</td>\n",
       "      <td>NaN</td>\n",
       "      <td>0.981545</td>\n",
       "      <td>0.947917</td>\n",
       "      <td>NaN</td>\n",
       "      <td>1.0</td>\n",
       "      <td>NaN</td>\n",
       "      <td>NaN</td>\n",
       "    </tr>\n",
       "    <tr>\n",
       "      <th>4900101.0</th>\n",
       "      <td>NaN</td>\n",
       "      <td>1.0</td>\n",
       "      <td>NaN</td>\n",
       "      <td>NaN</td>\n",
       "      <td>0.965415</td>\n",
       "      <td>1.005556</td>\n",
       "      <td>NaN</td>\n",
       "      <td>1.0</td>\n",
       "      <td>NaN</td>\n",
       "      <td>NaN</td>\n",
       "    </tr>\n",
       "    <tr>\n",
       "      <th>4900111.0</th>\n",
       "      <td>NaN</td>\n",
       "      <td>NaN</td>\n",
       "      <td>NaN</td>\n",
       "      <td>NaN</td>\n",
       "      <td>NaN</td>\n",
       "      <td>NaN</td>\n",
       "      <td>NaN</td>\n",
       "      <td>NaN</td>\n",
       "      <td>0.921110</td>\n",
       "      <td>1.000631</td>\n",
       "    </tr>\n",
       "    <tr>\n",
       "      <th>4900113.0</th>\n",
       "      <td>NaN</td>\n",
       "      <td>NaN</td>\n",
       "      <td>NaN</td>\n",
       "      <td>NaN</td>\n",
       "      <td>NaN</td>\n",
       "      <td>NaN</td>\n",
       "      <td>NaN</td>\n",
       "      <td>NaN</td>\n",
       "      <td>0.999579</td>\n",
       "      <td>0.997965</td>\n",
       "    </tr>\n",
       "    <tr>\n",
       "      <th>9000211.0</th>\n",
       "      <td>inf</td>\n",
       "      <td>NaN</td>\n",
       "      <td>NaN</td>\n",
       "      <td>NaN</td>\n",
       "      <td>NaN</td>\n",
       "      <td>NaN</td>\n",
       "      <td>NaN</td>\n",
       "      <td>NaN</td>\n",
       "      <td>NaN</td>\n",
       "      <td>NaN</td>\n",
       "    </tr>\n",
       "    <tr>\n",
       "      <th>9010221.0</th>\n",
       "      <td>1.300000</td>\n",
       "      <td>NaN</td>\n",
       "      <td>NaN</td>\n",
       "      <td>NaN</td>\n",
       "      <td>NaN</td>\n",
       "      <td>NaN</td>\n",
       "      <td>NaN</td>\n",
       "      <td>NaN</td>\n",
       "      <td>NaN</td>\n",
       "      <td>NaN</td>\n",
       "    </tr>\n",
       "    <tr>\n",
       "      <th>9940003.0</th>\n",
       "      <td>NaN</td>\n",
       "      <td>NaN</td>\n",
       "      <td>0.000000</td>\n",
       "      <td>0.000000</td>\n",
       "      <td>0.000000</td>\n",
       "      <td>0.000000</td>\n",
       "      <td>0.000000</td>\n",
       "      <td>NaN</td>\n",
       "      <td>NaN</td>\n",
       "      <td>NaN</td>\n",
       "    </tr>\n",
       "    <tr>\n",
       "      <th>9940005.0</th>\n",
       "      <td>NaN</td>\n",
       "      <td>NaN</td>\n",
       "      <td>0.000000</td>\n",
       "      <td>0.000000</td>\n",
       "      <td>NaN</td>\n",
       "      <td>0.000000</td>\n",
       "      <td>0.000000</td>\n",
       "      <td>NaN</td>\n",
       "      <td>NaN</td>\n",
       "      <td>NaN</td>\n",
       "    </tr>\n",
       "    <tr>\n",
       "      <th>9940023.0</th>\n",
       "      <td>NaN</td>\n",
       "      <td>NaN</td>\n",
       "      <td>0.500000</td>\n",
       "      <td>0.125000</td>\n",
       "      <td>NaN</td>\n",
       "      <td>0.200000</td>\n",
       "      <td>0.500000</td>\n",
       "      <td>NaN</td>\n",
       "      <td>NaN</td>\n",
       "      <td>NaN</td>\n",
       "    </tr>\n",
       "    <tr>\n",
       "      <th>9940103.0</th>\n",
       "      <td>NaN</td>\n",
       "      <td>NaN</td>\n",
       "      <td>NaN</td>\n",
       "      <td>NaN</td>\n",
       "      <td>NaN</td>\n",
       "      <td>NaN</td>\n",
       "      <td>NaN</td>\n",
       "      <td>NaN</td>\n",
       "      <td>NaN</td>\n",
       "      <td>NaN</td>\n",
       "    </tr>\n",
       "    <tr>\n",
       "      <th>9941003.0</th>\n",
       "      <td>NaN</td>\n",
       "      <td>NaN</td>\n",
       "      <td>0.666667</td>\n",
       "      <td>0.272727</td>\n",
       "      <td>0.250000</td>\n",
       "      <td>0.000000</td>\n",
       "      <td>0.666667</td>\n",
       "      <td>NaN</td>\n",
       "      <td>NaN</td>\n",
       "      <td>NaN</td>\n",
       "    </tr>\n",
       "    <tr>\n",
       "      <th>9941103.0</th>\n",
       "      <td>NaN</td>\n",
       "      <td>NaN</td>\n",
       "      <td>NaN</td>\n",
       "      <td>NaN</td>\n",
       "      <td>NaN</td>\n",
       "      <td>NaN</td>\n",
       "      <td>NaN</td>\n",
       "      <td>NaN</td>\n",
       "      <td>NaN</td>\n",
       "      <td>NaN</td>\n",
       "    </tr>\n",
       "    <tr>\n",
       "      <th>9942003.0</th>\n",
       "      <td>NaN</td>\n",
       "      <td>NaN</td>\n",
       "      <td>1.000000</td>\n",
       "      <td>2.000000</td>\n",
       "      <td>inf</td>\n",
       "      <td>1.000000</td>\n",
       "      <td>1.000000</td>\n",
       "      <td>NaN</td>\n",
       "      <td>NaN</td>\n",
       "      <td>NaN</td>\n",
       "    </tr>\n",
       "    <tr>\n",
       "      <th>9942033.0</th>\n",
       "      <td>NaN</td>\n",
       "      <td>NaN</td>\n",
       "      <td>inf</td>\n",
       "      <td>inf</td>\n",
       "      <td>NaN</td>\n",
       "      <td>inf</td>\n",
       "      <td>inf</td>\n",
       "      <td>NaN</td>\n",
       "      <td>NaN</td>\n",
       "      <td>NaN</td>\n",
       "    </tr>\n",
       "    <tr>\n",
       "      <th>9950005.0</th>\n",
       "      <td>NaN</td>\n",
       "      <td>NaN</td>\n",
       "      <td>0.000000</td>\n",
       "      <td>0.000000</td>\n",
       "      <td>NaN</td>\n",
       "      <td>NaN</td>\n",
       "      <td>0.000000</td>\n",
       "      <td>NaN</td>\n",
       "      <td>NaN</td>\n",
       "      <td>NaN</td>\n",
       "    </tr>\n",
       "  </tbody>\n",
       "</table>\n",
       "</div>"
      ],
      "text/plain": [
       "                2.0   23.0      33.0      44.0      51.0      52.0      62.0  \\\n",
       "-9000211.0       inf   NaN       NaN       NaN       NaN       NaN       NaN   \n",
       "-4900101.0       NaN   1.0       NaN       NaN  0.981545  0.947917       NaN   \n",
       " 4900101.0       NaN   1.0       NaN       NaN  0.965415  1.005556       NaN   \n",
       " 4900111.0       NaN   NaN       NaN       NaN       NaN       NaN       NaN   \n",
       " 4900113.0       NaN   NaN       NaN       NaN       NaN       NaN       NaN   \n",
       " 9000211.0       inf   NaN       NaN       NaN       NaN       NaN       NaN   \n",
       " 9010221.0  1.300000   NaN       NaN       NaN       NaN       NaN       NaN   \n",
       " 9940003.0       NaN   NaN  0.000000  0.000000  0.000000  0.000000  0.000000   \n",
       " 9940005.0       NaN   NaN  0.000000  0.000000       NaN  0.000000  0.000000   \n",
       " 9940023.0       NaN   NaN  0.500000  0.125000       NaN  0.200000  0.500000   \n",
       " 9940103.0       NaN   NaN       NaN       NaN       NaN       NaN       NaN   \n",
       " 9941003.0       NaN   NaN  0.666667  0.272727  0.250000  0.000000  0.666667   \n",
       " 9941103.0       NaN   NaN       NaN       NaN       NaN       NaN       NaN   \n",
       " 9942003.0       NaN   NaN  1.000000  2.000000       inf  1.000000  1.000000   \n",
       " 9942033.0       NaN   NaN       inf       inf       NaN       inf       inf   \n",
       " 9950005.0       NaN   NaN  0.000000  0.000000       NaN       NaN  0.000000   \n",
       "\n",
       "            71.0      83.0      84.0  \n",
       "-9000211.0   NaN       NaN       NaN  \n",
       "-4900101.0   1.0       NaN       NaN  \n",
       " 4900101.0   1.0       NaN       NaN  \n",
       " 4900111.0   NaN  0.921110  1.000631  \n",
       " 4900113.0   NaN  0.999579  0.997965  \n",
       " 9000211.0   NaN       NaN       NaN  \n",
       " 9010221.0   NaN       NaN       NaN  \n",
       " 9940003.0   NaN       NaN       NaN  \n",
       " 9940005.0   NaN       NaN       NaN  \n",
       " 9940023.0   NaN       NaN       NaN  \n",
       " 9940103.0   NaN       NaN       NaN  \n",
       " 9941003.0   NaN       NaN       NaN  \n",
       " 9941103.0   NaN       NaN       NaN  \n",
       " 9942003.0   NaN       NaN       NaN  \n",
       " 9942033.0   NaN       NaN       NaN  \n",
       " 9950005.0   NaN       NaN       NaN  "
      ]
     },
     "execution_count": 61,
     "metadata": {},
     "output_type": "execute_result"
    }
   ],
   "source": [
    "(fdict['no_nu']/fdict['fixed_nu'])"
   ]
  },
  {
   "cell_type": "code",
   "execution_count": 52,
   "metadata": {
    "collapsed": false
   },
   "outputs": [
    {
     "data": {
      "text/html": [
       "<div>\n",
       "<style scoped>\n",
       "    .dataframe tbody tr th:only-of-type {\n",
       "        vertical-align: middle;\n",
       "    }\n",
       "\n",
       "    .dataframe tbody tr th {\n",
       "        vertical-align: top;\n",
       "    }\n",
       "\n",
       "    .dataframe thead th {\n",
       "        text-align: right;\n",
       "    }\n",
       "</style>\n",
       "<table border=\"1\" class=\"dataframe\">\n",
       "  <thead>\n",
       "    <tr style=\"text-align: right;\">\n",
       "      <th></th>\n",
       "      <th>2.0</th>\n",
       "      <th>23.0</th>\n",
       "      <th>33.0</th>\n",
       "      <th>44.0</th>\n",
       "      <th>51.0</th>\n",
       "      <th>52.0</th>\n",
       "      <th>62.0</th>\n",
       "      <th>71.0</th>\n",
       "      <th>83.0</th>\n",
       "      <th>84.0</th>\n",
       "    </tr>\n",
       "  </thead>\n",
       "  <tbody>\n",
       "    <tr>\n",
       "      <th>-9000211.0</th>\n",
       "      <td>0.0</td>\n",
       "      <td>0.0</td>\n",
       "      <td>0.0</td>\n",
       "      <td>0.0</td>\n",
       "      <td>0.0</td>\n",
       "      <td>0.0</td>\n",
       "      <td>0.0</td>\n",
       "      <td>0.0</td>\n",
       "      <td>0.0</td>\n",
       "      <td>0.0</td>\n",
       "    </tr>\n",
       "    <tr>\n",
       "      <th>-4900101.0</th>\n",
       "      <td>0.0</td>\n",
       "      <td>5000.0</td>\n",
       "      <td>0.0</td>\n",
       "      <td>0.0</td>\n",
       "      <td>2288.0</td>\n",
       "      <td>2525.0</td>\n",
       "      <td>0.0</td>\n",
       "      <td>5000.0</td>\n",
       "      <td>0.0</td>\n",
       "      <td>0.0</td>\n",
       "    </tr>\n",
       "    <tr>\n",
       "      <th>4900101.0</th>\n",
       "      <td>0.0</td>\n",
       "      <td>5000.0</td>\n",
       "      <td>0.0</td>\n",
       "      <td>0.0</td>\n",
       "      <td>2323.0</td>\n",
       "      <td>2541.0</td>\n",
       "      <td>0.0</td>\n",
       "      <td>5000.0</td>\n",
       "      <td>0.0</td>\n",
       "      <td>0.0</td>\n",
       "    </tr>\n",
       "    <tr>\n",
       "      <th>4900111.0</th>\n",
       "      <td>0.0</td>\n",
       "      <td>0.0</td>\n",
       "      <td>0.0</td>\n",
       "      <td>0.0</td>\n",
       "      <td>0.0</td>\n",
       "      <td>0.0</td>\n",
       "      <td>0.0</td>\n",
       "      <td>0.0</td>\n",
       "      <td>4734.0</td>\n",
       "      <td>4762.0</td>\n",
       "    </tr>\n",
       "    <tr>\n",
       "      <th>4900113.0</th>\n",
       "      <td>0.0</td>\n",
       "      <td>0.0</td>\n",
       "      <td>0.0</td>\n",
       "      <td>0.0</td>\n",
       "      <td>0.0</td>\n",
       "      <td>0.0</td>\n",
       "      <td>0.0</td>\n",
       "      <td>0.0</td>\n",
       "      <td>14276.0</td>\n",
       "      <td>14187.0</td>\n",
       "    </tr>\n",
       "    <tr>\n",
       "      <th>9000211.0</th>\n",
       "      <td>0.0</td>\n",
       "      <td>0.0</td>\n",
       "      <td>0.0</td>\n",
       "      <td>0.0</td>\n",
       "      <td>0.0</td>\n",
       "      <td>0.0</td>\n",
       "      <td>0.0</td>\n",
       "      <td>0.0</td>\n",
       "      <td>0.0</td>\n",
       "      <td>0.0</td>\n",
       "    </tr>\n",
       "    <tr>\n",
       "      <th>9010221.0</th>\n",
       "      <td>54.0</td>\n",
       "      <td>0.0</td>\n",
       "      <td>0.0</td>\n",
       "      <td>0.0</td>\n",
       "      <td>0.0</td>\n",
       "      <td>0.0</td>\n",
       "      <td>0.0</td>\n",
       "      <td>0.0</td>\n",
       "      <td>0.0</td>\n",
       "      <td>0.0</td>\n",
       "    </tr>\n",
       "    <tr>\n",
       "      <th>9940003.0</th>\n",
       "      <td>0.0</td>\n",
       "      <td>0.0</td>\n",
       "      <td>3.0</td>\n",
       "      <td>4.0</td>\n",
       "      <td>2.0</td>\n",
       "      <td>2.0</td>\n",
       "      <td>3.0</td>\n",
       "      <td>0.0</td>\n",
       "      <td>0.0</td>\n",
       "      <td>0.0</td>\n",
       "    </tr>\n",
       "    <tr>\n",
       "      <th>9940005.0</th>\n",
       "      <td>0.0</td>\n",
       "      <td>0.0</td>\n",
       "      <td>0.0</td>\n",
       "      <td>0.0</td>\n",
       "      <td>0.0</td>\n",
       "      <td>0.0</td>\n",
       "      <td>0.0</td>\n",
       "      <td>0.0</td>\n",
       "      <td>0.0</td>\n",
       "      <td>0.0</td>\n",
       "    </tr>\n",
       "    <tr>\n",
       "      <th>9940023.0</th>\n",
       "      <td>0.0</td>\n",
       "      <td>0.0</td>\n",
       "      <td>0.0</td>\n",
       "      <td>0.0</td>\n",
       "      <td>0.0</td>\n",
       "      <td>0.0</td>\n",
       "      <td>0.0</td>\n",
       "      <td>0.0</td>\n",
       "      <td>0.0</td>\n",
       "      <td>0.0</td>\n",
       "    </tr>\n",
       "    <tr>\n",
       "      <th>9940103.0</th>\n",
       "      <td>0.0</td>\n",
       "      <td>0.0</td>\n",
       "      <td>1.0</td>\n",
       "      <td>2.0</td>\n",
       "      <td>2.0</td>\n",
       "      <td>0.0</td>\n",
       "      <td>1.0</td>\n",
       "      <td>0.0</td>\n",
       "      <td>0.0</td>\n",
       "      <td>0.0</td>\n",
       "    </tr>\n",
       "    <tr>\n",
       "      <th>9941003.0</th>\n",
       "      <td>0.0</td>\n",
       "      <td>0.0</td>\n",
       "      <td>0.0</td>\n",
       "      <td>0.0</td>\n",
       "      <td>0.0</td>\n",
       "      <td>0.0</td>\n",
       "      <td>0.0</td>\n",
       "      <td>0.0</td>\n",
       "      <td>0.0</td>\n",
       "      <td>0.0</td>\n",
       "    </tr>\n",
       "    <tr>\n",
       "      <th>9941103.0</th>\n",
       "      <td>0.0</td>\n",
       "      <td>0.0</td>\n",
       "      <td>1.0</td>\n",
       "      <td>2.0</td>\n",
       "      <td>0.0</td>\n",
       "      <td>0.0</td>\n",
       "      <td>1.0</td>\n",
       "      <td>0.0</td>\n",
       "      <td>0.0</td>\n",
       "      <td>0.0</td>\n",
       "    </tr>\n",
       "    <tr>\n",
       "      <th>9942003.0</th>\n",
       "      <td>0.0</td>\n",
       "      <td>0.0</td>\n",
       "      <td>0.0</td>\n",
       "      <td>0.0</td>\n",
       "      <td>0.0</td>\n",
       "      <td>0.0</td>\n",
       "      <td>0.0</td>\n",
       "      <td>0.0</td>\n",
       "      <td>0.0</td>\n",
       "      <td>0.0</td>\n",
       "    </tr>\n",
       "    <tr>\n",
       "      <th>9942033.0</th>\n",
       "      <td>0.0</td>\n",
       "      <td>0.0</td>\n",
       "      <td>0.0</td>\n",
       "      <td>0.0</td>\n",
       "      <td>0.0</td>\n",
       "      <td>0.0</td>\n",
       "      <td>0.0</td>\n",
       "      <td>0.0</td>\n",
       "      <td>0.0</td>\n",
       "      <td>0.0</td>\n",
       "    </tr>\n",
       "    <tr>\n",
       "      <th>9950005.0</th>\n",
       "      <td>0.0</td>\n",
       "      <td>0.0</td>\n",
       "      <td>0.0</td>\n",
       "      <td>0.0</td>\n",
       "      <td>0.0</td>\n",
       "      <td>0.0</td>\n",
       "      <td>0.0</td>\n",
       "      <td>0.0</td>\n",
       "      <td>0.0</td>\n",
       "      <td>0.0</td>\n",
       "    </tr>\n",
       "  </tbody>\n",
       "</table>\n",
       "</div>"
      ],
      "text/plain": [
       "            2.0     23.0  33.0  44.0    51.0    52.0  62.0    71.0     83.0  \\\n",
       "-9000211.0   0.0     0.0   0.0   0.0     0.0     0.0   0.0     0.0      0.0   \n",
       "-4900101.0   0.0  5000.0   0.0   0.0  2288.0  2525.0   0.0  5000.0      0.0   \n",
       " 4900101.0   0.0  5000.0   0.0   0.0  2323.0  2541.0   0.0  5000.0      0.0   \n",
       " 4900111.0   0.0     0.0   0.0   0.0     0.0     0.0   0.0     0.0   4734.0   \n",
       " 4900113.0   0.0     0.0   0.0   0.0     0.0     0.0   0.0     0.0  14276.0   \n",
       " 9000211.0   0.0     0.0   0.0   0.0     0.0     0.0   0.0     0.0      0.0   \n",
       " 9010221.0  54.0     0.0   0.0   0.0     0.0     0.0   0.0     0.0      0.0   \n",
       " 9940003.0   0.0     0.0   3.0   4.0     2.0     2.0   3.0     0.0      0.0   \n",
       " 9940005.0   0.0     0.0   0.0   0.0     0.0     0.0   0.0     0.0      0.0   \n",
       " 9940023.0   0.0     0.0   0.0   0.0     0.0     0.0   0.0     0.0      0.0   \n",
       " 9940103.0   0.0     0.0   1.0   2.0     2.0     0.0   1.0     0.0      0.0   \n",
       " 9941003.0   0.0     0.0   0.0   0.0     0.0     0.0   0.0     0.0      0.0   \n",
       " 9941103.0   0.0     0.0   1.0   2.0     0.0     0.0   1.0     0.0      0.0   \n",
       " 9942003.0   0.0     0.0   0.0   0.0     0.0     0.0   0.0     0.0      0.0   \n",
       " 9942033.0   0.0     0.0   0.0   0.0     0.0     0.0   0.0     0.0      0.0   \n",
       " 9950005.0   0.0     0.0   0.0   0.0     0.0     0.0   0.0     0.0      0.0   \n",
       "\n",
       "               84.0  \n",
       "-9000211.0      0.0  \n",
       "-4900101.0      0.0  \n",
       " 4900101.0      0.0  \n",
       " 4900111.0   4762.0  \n",
       " 4900113.0  14187.0  \n",
       " 9000211.0      0.0  \n",
       " 9010221.0      0.0  \n",
       " 9940003.0      0.0  \n",
       " 9940005.0      0.0  \n",
       " 9940023.0      0.0  \n",
       " 9940103.0      0.0  \n",
       " 9941003.0      0.0  \n",
       " 9941103.0      0.0  \n",
       " 9942003.0      0.0  \n",
       " 9942033.0      0.0  \n",
       " 9950005.0      0.0  "
      ]
     },
     "execution_count": 52,
     "metadata": {},
     "output_type": "execute_result"
    }
   ],
   "source": [
    "fdict['normal']"
   ]
  },
  {
   "cell_type": "code",
   "execution_count": 202,
   "metadata": {
    "collapsed": false
   },
   "outputs": [
    {
     "data": {
      "text/plain": [
       "[('old_signal', -4900101.0     0.0\n",
       "   4900101.0     0.0\n",
       "   4900111.0     0.0\n",
       "   4900113.0     0.0\n",
       "   9010221.0    54.0\n",
       "   9940003.0     0.0\n",
       "   9940103.0     0.0\n",
       "   9941103.0     0.0\n",
       "  Name: 2.0, dtype: float64), ('no_nu', -4900101.0    0.0\n",
       "   4900101.0    0.0\n",
       "   4900111.0    0.0\n",
       "   4900113.0    0.0\n",
       "   9010221.0    1.0\n",
       "   9940003.0    0.0\n",
       "   9940103.0    0.0\n",
       "   9941103.0    0.0\n",
       "  Name: 2.0, dtype: float64), ('fixed_nu', -4900101.0    0\n",
       "   4900101.0    0\n",
       "   4900111.0    0\n",
       "   4900113.0    0\n",
       "   9010221.0    0\n",
       "   9940003.0    0\n",
       "   9940103.0    0\n",
       "   9941103.0    0\n",
       "  Name: 2.0, dtype: int64), ('normal', -4900101.0     0.0\n",
       "   4900101.0     0.0\n",
       "   4900111.0     0.0\n",
       "   4900113.0     0.0\n",
       "   9010221.0    54.0\n",
       "   9940003.0     0.0\n",
       "   9940103.0     0.0\n",
       "   9941103.0     0.0\n",
       "  Name: 2.0, dtype: float64)]"
      ]
     },
     "execution_count": 202,
     "metadata": {},
     "output_type": "execute_result"
    }
   ],
   "source": [
    "[(n, v[2]) for n,v in fdict.items()]"
   ]
  },
  {
   "cell_type": "code",
   "execution_count": 174,
   "metadata": {
    "collapsed": false
   },
   "outputs": [
    {
     "data": {
      "image/png": "[encoded data removed]",
      "text/plain": [
       "<matplotlib.figure.Figure at 0x7fd039b0ccd0>"
      ]
     },
     "metadata": {},
     "output_type": "display_data"
    },
    {
     "data": {
      "image/png": "[encoded data removed]",
      "text/plain": [
       "<matplotlib.figure.Figure at 0x7fd043eafb10>"
      ]
     },
     "metadata": {},
     "output_type": "display_data"
    },
    {
     "data": {
      "image/png": "[encoded data removed]",
      "text/plain": [
       "<matplotlib.figure.Figure at 0x7fd044406f10>"
      ]
     },
     "metadata": {},
     "output_type": "display_data"
    },
    {
     "data": {
      "image/png": "[encoded data removed]",
      "text/plain": [
       "<matplotlib.figure.Figure at 0x7fd04430c310>"
      ]
     },
     "metadata": {},
     "output_type": "display_data"
    }
   ],
   "source": [
    "# fig, axs = plt.subplots(2,2, figsize=(12,17))\n",
    "# axs = axs.ravel()\n",
    "\n"
   ]
  },
  {
   "cell_type": "code",
   "execution_count": 139,
   "metadata": {
    "collapsed": false
   },
   "outputs": [
    {
     "data": {
      "text/plain": [
       "[<matplotlib.axes._subplots.AxesSubplot at 0x7fd06e96f290>,\n",
       " <matplotlib.axes._subplots.AxesSubplot at 0x7fd0441176d0>,\n",
       " <matplotlib.axes._subplots.AxesSubplot at 0x7fd039cae3d0>,\n",
       " <matplotlib.axes._subplots.AxesSubplot at 0x7fd043da2810>]"
      ]
     },
     "execution_count": 139,
     "metadata": {},
     "output_type": "execute_result"
    }
   ],
   "source": [
    "axes"
   ]
  },
  {
   "cell_type": "code",
   "execution_count": 86,
   "metadata": {
    "collapsed": false
   },
   "outputs": [
    {
     "data": {
      "text/plain": [
       "OrderedDict([(-4900101.0, {23.0: 5000, 51.0: 2500, 52.0: 3750, 71.0: 5000}),\n",
       "             (4900101.0, {23.0: 5000, 51.0: 2500, 52.0: 2500, 71.0: 5000}),\n",
       "             (4900111.0, {83.0: 3750, 84.0: 7500}),\n",
       "             (4900113.0, {83.0: 13750, 84.0: 17500})])"
      ]
     },
     "execution_count": 86,
     "metadata": {},
     "output_type": "execute_result"
    }
   ],
   "source": [
    "from collections import OrderedDict as odict\n",
    "keys = np.asarray(pdict.keys())\n",
    "high = keys[np.abs(keys)  > 4900100]\n",
    "new = odict([(k, pdict[k]) for k in high])\n",
    "new "
   ]
  },
  {
   "cell_type": "code",
   "execution_count": null,
   "metadata": {
    "collapsed": true
   },
   "outputs": [],
   "source": []
  },
  {
   "cell_type": "code",
   "execution_count": 37,
   "metadata": {
    "collapsed": false
   },
   "outputs": [
    {
     "data": {
      "text/plain": [
       "{-4900101.0: 16222,\n",
       " -20413.0: 3,\n",
       " -20313.0: 6,\n",
       " -20213.0: 3717,\n",
       " -10431.0: 1,\n",
       " -10423.0: 1,\n",
       " -10413.0: 5,\n",
       " -10323.0: 3,\n",
       " -10321.0: 1,\n",
       " -10313.0: 1,\n",
       " -10311.0: 1,\n",
       " -5222.0: 1,\n",
       " -5212.0: 1,\n",
       " -5132.0: 1,\n",
       " -5122.0: 6,\n",
       " -4332.0: 1,\n",
       " -4224.0: 1,\n",
       " -4222.0: 1,\n",
       " -4214.0: 3,\n",
       " -4124.0: 1,\n",
       " -4122.0: 15,\n",
       " -4114.0: 2,\n",
       " -4112.0: 2,\n",
       " -3334.0: 1234,\n",
       " -3324.0: 2,\n",
       " -3322.0: 1243,\n",
       " -3314.0: 3,\n",
       " -3312.0: 17,\n",
       " -3224.0: 12,\n",
       " -3222.0: 1278,\n",
       " -3214.0: 2473,\n",
       " -3212.0: 7445,\n",
       " -3122.0: 16180,\n",
       " -3114.0: 3710,\n",
       " -3112.0: 4985,\n",
       " -2224.0: 2512,\n",
       " -2214.0: 4984,\n",
       " -2212.0: 32534,\n",
       " -2114.0: 6219,\n",
       " -2112.0: 38684,\n",
       " -1114.0: 1285,\n",
       " -533.0: 13,\n",
       " -531.0: 16,\n",
       " -523.0: 2520,\n",
       " -521.0: 7473,\n",
       " -513.0: 4981,\n",
       " -511.0: 6233,\n",
       " -433.0: 1251,\n",
       " -431.0: 3737,\n",
       " -425.0: 2,\n",
       " -423.0: 2525,\n",
       " -421.0: 8808,\n",
       " -413.0: 2527,\n",
       " -411.0: 9953,\n",
       " -323.0: 18769,\n",
       " -321.0: 68702,\n",
       " -313.0: 22525,\n",
       " -311.0: 77329,\n",
       " -213.0: 89873,\n",
       " -211.0: 569635,\n",
       " -16.0: 15,\n",
       " -15.0: 9,\n",
       " -14.0: 6212,\n",
       " -13.0: 1269,\n",
       " -12.0: 8780,\n",
       " -11.0: 12483,\n",
       " -5.0: 26218,\n",
       " -4.0: 22653,\n",
       " -3.0: 56313,\n",
       " -2.0: 87852,\n",
       " -1.0: 96338,\n",
       " 1.0: 141167,\n",
       " 2.0: 136932,\n",
       " 3.0: 55117,\n",
       " 4.0: 16491,\n",
       " 5.0: 28691,\n",
       " 11.0: 8794,\n",
       " 12.0: 12469,\n",
       " 13.0: 6212,\n",
       " 14.0: 1269,\n",
       " 15.0: 6,\n",
       " 16.0: 15,\n",
       " 21.0: 3284170,\n",
       " 22.0: 1466900,\n",
       " 111.0: 687808,\n",
       " 113.0: 97304,\n",
       " 130.0: 66270,\n",
       " 211.0: 585743,\n",
       " 213.0: 87434,\n",
       " 221.0: 67496,\n",
       " 223.0: 68864,\n",
       " 310.0: 77356,\n",
       " 311.0: 66200,\n",
       " 313.0: 20002,\n",
       " 321.0: 57631,\n",
       " 323.0: 21261,\n",
       " 331.0: 8762,\n",
       " 333.0: 1334,\n",
       " 411.0: 5010,\n",
       " 413.0: 5003,\n",
       " 421.0: 12495,\n",
       " 423.0: 3757,\n",
       " 425.0: 5,\n",
       " 431.0: 2525,\n",
       " 433.0: 1263,\n",
       " 441.0: 3,\n",
       " 443.0: 4,\n",
       " 445.0: 5,\n",
       " 511.0: 8707,\n",
       " 513.0: 8687,\n",
       " 521.0: 5002,\n",
       " 523.0: 2509,\n",
       " 531.0: 13,\n",
       " 533.0: 11,\n",
       " 1103.0: 2,\n",
       " 1114.0: 4983,\n",
       " 2101.0: 9977,\n",
       " 2103.0: 7430,\n",
       " 2112.0: 42467,\n",
       " 2114.0: 3780,\n",
       " 2203.0: 42,\n",
       " 2212.0: 48751,\n",
       " 2214.0: 3766,\n",
       " 2224.0: 7456,\n",
       " 3112.0: 41,\n",
       " 3114.0: 20,\n",
       " 3122.0: 14963,\n",
       " 3212.0: 2508,\n",
       " 3214.0: 2478,\n",
       " 3222.0: 1266,\n",
       " 3224.0: 3711,\n",
       " 3312.0: 1245,\n",
       " 3314.0: 1,\n",
       " 3322.0: 8,\n",
       " 4122.0: 7,\n",
       " 4212.0: 1,\n",
       " 4224.0: 2,\n",
       " 4232.0: 1,\n",
       " 5112.0: 1,\n",
       " 5122.0: 7,\n",
       " 5212.0: 1,\n",
       " 5214.0: 1,\n",
       " 5222.0: 1,\n",
       " 10311.0: 2,\n",
       " 10313.0: 2,\n",
       " 10323.0: 5,\n",
       " 10411.0: 1,\n",
       " 10413.0: 1,\n",
       " 20213.0: 1258,\n",
       " 20313.0: 5,\n",
       " 20413.0: 3,\n",
       " 20433.0: 1,\n",
       " 20443.0: 6,\n",
       " 4900021.0: 13773,\n",
       " 4900023.0: 27586,\n",
       " 4900101.0: 14989,\n",
       " 4900111.0: 11233,\n",
       " 4900113.0: 31232}"
      ]
     },
     "execution_count": 37,
     "metadata": {},
     "output_type": "execute_result"
    }
   ],
   "source": [
    "pdict"
   ]
  },
  {
   "cell_type": "code",
   "execution_count": 36,
   "metadata": {
    "collapsed": false
   },
   "outputs": [
    {
     "data": {
      "text/plain": [
       "4225000L"
      ]
     },
     "execution_count": 36,
     "metadata": {},
     "output_type": "execute_result"
    }
   ],
   "source": [
    "br = tree.GetBranch(\"Particle_size\")\n",
    "tree.GetEntries()*tree.Particle_size"
   ]
  },
  {
   "cell_type": "code",
   "execution_count": 8,
   "metadata": {
    "collapsed": false
   },
   "outputs": [
    {
     "ename": "AttributeError",
     "evalue": "'TObject' object has no attribute 'PID'",
     "output_type": "error",
     "traceback": [
      "\u001b[0;31m\u001b[0m",
      "\u001b[0;31mAttributeError\u001b[0mTraceback (most recent call last)",
      "\u001b[0;32m<ipython-input-8-c9939288393d>\u001b[0m in \u001b[0;36m<module>\u001b[0;34m()\u001b[0m\n\u001b[0;32m----> 1\u001b[0;31m \u001b[0;34m[\u001b[0m\u001b[0;34m[\u001b[0m\u001b[0mtree\u001b[0m\u001b[0;34m.\u001b[0m\u001b[0mParticle\u001b[0m\u001b[0;34m[\u001b[0m\u001b[0mj\u001b[0m\u001b[0;34m]\u001b[0m\u001b[0;34m.\u001b[0m\u001b[0mPID\u001b[0m \u001b[0;32mfor\u001b[0m \u001b[0mj\u001b[0m \u001b[0;32min\u001b[0m \u001b[0mrange\u001b[0m\u001b[0;34m(\u001b[0m\u001b[0mtree\u001b[0m\u001b[0;34m.\u001b[0m\u001b[0mParticle\u001b[0m\u001b[0;34m.\u001b[0m\u001b[0mGetEntries\u001b[0m\u001b[0;34m(\u001b[0m\u001b[0;34m)\u001b[0m\u001b[0;34m)\u001b[0m\u001b[0;34m]\u001b[0m \u001b[0;32mfor\u001b[0m \u001b[0mi\u001b[0m \u001b[0;32min\u001b[0m \u001b[0mrange\u001b[0m\u001b[0;34m(\u001b[0m\u001b[0;36m0\u001b[0m\u001b[0;34m,\u001b[0m \u001b[0mtree\u001b[0m\u001b[0;34m.\u001b[0m\u001b[0mGetEntries\u001b[0m\u001b[0;34m(\u001b[0m\u001b[0;34m)\u001b[0m\u001b[0;34m)\u001b[0m \u001b[0;32mif\u001b[0m \u001b[0mtree\u001b[0m\u001b[0;34m.\u001b[0m\u001b[0mGetEntry\u001b[0m\u001b[0;34m(\u001b[0m\u001b[0mi\u001b[0m\u001b[0;34m)\u001b[0m\u001b[0;34m]\u001b[0m\u001b[0;34m\u001b[0m\u001b[0m\n\u001b[0m",
      "\u001b[0;31mAttributeError\u001b[0m: 'TObject' object has no attribute 'PID'"
     ]
    }
   ],
   "source": [
    "[[tree.Particle[j].PID for j in range(tree.Particle.GetEntries())] for i in range(0, tree.GetEntries()) if tree.GetEntry(i)]"
   ]
  },
  {
   "cell_type": "code",
   "execution_count": 31,
   "metadata": {
    "collapsed": false
   },
   "outputs": [
    {
     "name": "stdout",
     "output_type": "stream",
     "text": [
      "found 1 matches with search '/afs/cern.ch/work/l/llepotti/private/CMS/CMSSW_8_0_20/src/autoencodeSVJ/autoencode/data/summary/eflow3_8_v0.summary'\n",
      "/t3home/llepotti/CMSSW_8_0_20/src/autoencodeSVJ/autoencode/data/training_runs/eflow3_8_v0.pkl\n",
      "/afs/cern.ch/work/l/llepotti/private/CMS/CMSSW_8_0_20/src/autoencodeSVJ/autoencode/data/training_runs/eflow3_8_v0.pkl\n",
      "loaded pickle file with path '/afs/cern.ch/work/l/llepotti/private/CMS/CMSSW_8_0_20/src/autoencodeSVJ/autoencode/data/training_runs/eflow3_8_v0.pkl'\n",
      "train_shell :: using saved model\n",
      "found 1 matches with search '/afs/cern.ch/work/l/llepotti/private/CMS/CMSSW_8_0_20/src/autoencodeSVJ/autoencode/data/summary/eflow3_8_v0.summary'\n",
      "/t3home/llepotti/CMSSW_8_0_20/src/autoencodeSVJ/autoencode/data/training_runs/eflow3_8_v0.pkl\n",
      "/afs/cern.ch/work/l/llepotti/private/CMS/CMSSW_8_0_20/src/autoencodeSVJ/autoencode/data/training_runs/eflow3_8_v0.pkl\n",
      "loaded pickle file with path '/afs/cern.ch/work/l/llepotti/private/CMS/CMSSW_8_0_20/src/autoencodeSVJ/autoencode/data/training_runs/eflow3_8_v0.pkl'\n",
      "train_shell :: using saved model\n"
     ]
    }
   ],
   "source": [
    "e = ae_evaluation(\n",
    "    \"eflow3_8_v0\",\n",
    "    qcd_path=\"data/background_old_full/background/base_3/*.h5\",\n",
    "    signal_path=\"data/signal/base_3/*.h5\"\n",
    ")\n",
    "ep = ae_evaluation(\n",
    "    \"eflow3_8_v0\",\n",
    "    qcd_path=\"data/background_old_full/background/base_3/*.h5\",\n",
    "    signal_path=\"data/signal_old_full/signal/base_3/*.h5\"\n",
    ")"
   ]
  },
  {
   "cell_type": "code",
   "execution_count": null,
   "metadata": {
    "collapsed": true
   },
   "outputs": [],
   "source": []
  },
  {
   "cell_type": "code",
   "execution_count": 32,
   "metadata": {
    "collapsed": false
   },
   "outputs": [
    {
     "name": "stdout",
     "output_type": "stream",
     "text": [
      "data_table :: plotting distrubution(s) for table(s) ['signal norm error', 'qcd test norm error']\n"
     ]
    },
    {
     "data": {
      "image/png": "[encoded data removed]",
      "text/plain": [
       "<matplotlib.figure.Figure at 0x7f53c1fdf810>"
      ]
     },
     "metadata": {},
     "output_type": "display_data"
    }
   ],
   "source": [
    "e.error(bins=50, rng=((0., 0.031), (0, 0.15)), yscale=\"log\")"
   ]
  },
  {
   "cell_type": "code",
   "execution_count": 34,
   "metadata": {
    "collapsed": false
   },
   "outputs": [
    {
     "name": "stdout",
     "output_type": "stream",
     "text": [
      "saving root file at /afs/cern.ch/work/l/llepotti/private/CMS/CMSSW_8_0_20/src/autoencodeSVJ/autoencode/module/autoencodeSVJ/SVJ_2000_0p3.root\n",
      "saving root file at /afs/cern.ch/work/l/llepotti/private/CMS/CMSSW_8_0_20/src/autoencodeSVJ/autoencode/module/autoencodeSVJ/QCD.root\n"
     ]
    },
    {
     "data": {
      "text/plain": [
       "{'/afs/cern.ch/work/l/llepotti/private/CMS/CMSSW_8_0_20/src/autoencodeSVJ/autoencode/module/autoencodeSVJ/QCD.root': [(array([  0,   0,   1,  27,  54,  45,  34,  36,  34,  27,  28,  31,  25,\n",
       "           59, 136, 237, 342, 488, 624, 665, 708, 658, 644, 564, 478, 378,\n",
       "          325, 260, 185, 128, 127,  93,  69,  45,  44,  33,  18,  31,  14,\n",
       "           10,   7,   9,   7,   7,   2,   2,   0,   3,   2,   3]),\n",
       "   array([    0.,    60.,   120.,   180.,   240.,   300.,   360.,   420.,\n",
       "            480.,   540.,   600.,   660.,   720.,   780.,   840.,   900.,\n",
       "            960.,  1020.,  1080.,  1140.,  1200.,  1260.,  1320.,  1380.,\n",
       "           1440.,  1500.,  1560.,  1620.,  1680.,  1740.,  1800.,  1860.,\n",
       "           1920.,  1980.,  2040.,  2100.,  2160.,  2220.,  2280.,  2340.,\n",
       "           2400.,  2460.,  2520.,  2580.,  2640.,  2700.,  2760.,  2820.,\n",
       "           2880.,  2940.,  3000.])),\n",
       "  (array([0, 0, 0, 1, 0, 4, 2, 0, 0, 0, 0, 0, 0, 0, 0, 1, 0, 0, 0, 0, 0, 1, 0,\n",
       "          0, 0, 0, 0, 0, 0, 0, 0, 0, 0, 0, 0, 0, 0, 0, 0, 0, 0, 0, 0, 0, 0, 0,\n",
       "          0, 0, 0, 0]),\n",
       "   array([    0.,    60.,   120.,   180.,   240.,   300.,   360.,   420.,\n",
       "            480.,   540.,   600.,   660.,   720.,   780.,   840.,   900.,\n",
       "            960.,  1020.,  1080.,  1140.,  1200.,  1260.,  1320.,  1380.,\n",
       "           1440.,  1500.,  1560.,  1620.,  1680.,  1740.,  1800.,  1860.,\n",
       "           1920.,  1980.,  2040.,  2100.,  2160.,  2220.,  2280.,  2340.,\n",
       "           2400.,  2460.,  2520.,  2580.,  2640.,  2700.,  2760.,  2820.,\n",
       "           2880.,  2940.,  3000.])),\n",
       "  (array([0, 0, 0, 0, 0, 0, 0, 0, 0, 0, 0, 0, 0, 0, 0, 0, 0, 0, 0, 0, 0, 0, 0,\n",
       "          0, 0, 0, 0, 0, 0, 0, 0, 0, 0, 0, 0, 0, 0, 0, 0, 0, 0, 0, 0, 0, 0, 0,\n",
       "          0, 0, 0, 0]),\n",
       "   array([    0.,    60.,   120.,   180.,   240.,   300.,   360.,   420.,\n",
       "            480.,   540.,   600.,   660.,   720.,   780.,   840.,   900.,\n",
       "            960.,  1020.,  1080.,  1140.,  1200.,  1260.,  1320.,  1380.,\n",
       "           1440.,  1500.,  1560.,  1620.,  1680.,  1740.,  1800.,  1860.,\n",
       "           1920.,  1980.,  2040.,  2100.,  2160.,  2220.,  2280.,  2340.,\n",
       "           2400.,  2460.,  2520.,  2580.,  2640.,  2700.,  2760.,  2820.,\n",
       "           2880.,  2940.,  3000.]))],\n",
       " '/afs/cern.ch/work/l/llepotti/private/CMS/CMSSW_8_0_20/src/autoencodeSVJ/autoencode/module/autoencodeSVJ/SVJ_2000_0p3.root': [(array([  0,   0,   0,   0,   0,   0,   0,   0,   0,   0,   0,   0,   0,\n",
       "            0,   0,   0,   0,   0,   0,   0,   0,   0,   0,   0,   0, 282,\n",
       "          282, 274, 237, 170, 149,  93,  57,  29,  18,  11,   3,   6,   5,\n",
       "            4,   4,   1,   2,   0,   0,   0,   0,   0,   0,   0]),\n",
       "   array([    0.,    60.,   120.,   180.,   240.,   300.,   360.,   420.,\n",
       "            480.,   540.,   600.,   660.,   720.,   780.,   840.,   900.,\n",
       "            960.,  1020.,  1080.,  1140.,  1200.,  1260.,  1320.,  1380.,\n",
       "           1440.,  1500.,  1560.,  1620.,  1680.,  1740.,  1800.,  1860.,\n",
       "           1920.,  1980.,  2040.,  2100.,  2160.,  2220.,  2280.,  2340.,\n",
       "           2400.,  2460.,  2520.,  2580.,  2640.,  2700.,  2760.,  2820.,\n",
       "           2880.,  2940.,  3000.])),\n",
       "  (array([  0,   0,   0,   0,   0,   0,   0,   0,   0,   0,   0,   0,   0,\n",
       "            0,   0,   0,   0,   0,   0,   0,   0,   0,   0,   0,   0, 865,\n",
       "          774, 717, 677, 603, 401, 296, 172, 103,  52,  37,  47,  26,  20,\n",
       "            9,   8,   7,   4,   5,   4,   6,   1,   1,   2,   1]),\n",
       "   array([    0.,    60.,   120.,   180.,   240.,   300.,   360.,   420.,\n",
       "            480.,   540.,   600.,   660.,   720.,   780.,   840.,   900.,\n",
       "            960.,  1020.,  1080.,  1140.,  1200.,  1260.,  1320.,  1380.,\n",
       "           1440.,  1500.,  1560.,  1620.,  1680.,  1740.,  1800.,  1860.,\n",
       "           1920.,  1980.,  2040.,  2100.,  2160.,  2220.,  2280.,  2340.,\n",
       "           2400.,  2460.,  2520.,  2580.,  2640.,  2700.,  2760.,  2820.,\n",
       "           2880.,  2940.,  3000.])),\n",
       "  (array([  0,   0,   0,   0,   0,   0,   0,   0,   0,   0,   0,   0,   0,\n",
       "            0,   0,   0,   0,   0,   0,   0,   0,   0,   0,   0,   0, 586,\n",
       "          567, 545, 454, 385, 310, 241, 161,  97,  41,  37,  28,  24,  15,\n",
       "           18,  15,   6,  13,   3,   7,   4,   1,   0,   2,   2]),\n",
       "   array([    0.,    60.,   120.,   180.,   240.,   300.,   360.,   420.,\n",
       "            480.,   540.,   600.,   660.,   720.,   780.,   840.,   900.,\n",
       "            960.,  1020.,  1080.,  1140.,  1200.,  1260.,  1320.,  1380.,\n",
       "           1440.,  1500.,  1560.,  1620.,  1680.,  1740.,  1800.,  1860.,\n",
       "           1920.,  1980.,  2040.,  2100.,  2160.,  2220.,  2280.,  2340.,\n",
       "           2400.,  2460.,  2520.,  2580.,  2640.,  2700.,  2760.,  2820.,\n",
       "           2880.,  2940.,  3000.]))]}"
      ]
     },
     "execution_count": 34,
     "metadata": {},
     "output_type": "execute_result"
    }
   ],
   "source": [
    "cuts = e.cut_at_threshold(0.005, metric='mse')\n",
    "e.fill_cuts(cuts)"
   ]
  },
  {
   "cell_type": "code",
   "execution_count": 28,
   "metadata": {
    "collapsed": false
   },
   "outputs": [
    {
     "name": "stdout",
     "output_type": "stream",
     "text": [
      "\u001b[0m\u001b[32mautoencode.py\u001b[0m  \u001b[00mmodels.pyc\u001b[0m          \u001b[00mTEST.h5\u001b[0m          \u001b[32mtrainer.py\u001b[0m\r\n",
      "\u001b[32mevaluate.py\u001b[0m    \u001b[00mqcd_2000_3.root\u001b[0m     \u001b[00mtest.json\u001b[0m        \u001b[00mtrainer.pyc\u001b[0m\r\n",
      "\u001b[32m__init__.py\u001b[0m    \u001b[00msignal_2000_3.root\u001b[0m  \u001b[32mtest.py\u001b[0m          \u001b[32mutils.py\u001b[0m\r\n",
      "\u001b[32mmodels.py\u001b[0m      \u001b[00mtemp.ipynb\u001b[0m          \u001b[00mtest_weights.h5\u001b[0m  \u001b[00mutils.pyc\u001b[0m\r\n"
     ]
    }
   ],
   "source": [
    "rm qcd_200"
   ]
  },
  {
   "cell_type": "code",
   "execution_count": 21,
   "metadata": {
    "collapsed": false
   },
   "outputs": [
    {
     "data": {
      "text/plain": [
       "u'/t3home/llepotti/CMSSW_8_0_20/src/autoencodeSVJ/autoencode/data/training_runs/eflow3_8_v0.h5'"
      ]
     },
     "execution_count": 21,
     "metadata": {},
     "output_type": "execute_result"
    }
   ],
   "source": [
    "summary = utils.summary()\n",
    "summary[summary.filename == 'eflow3_8_v0'].filepath.values[0] + \".h5\"\n"
   ]
  },
  {
   "cell_type": "code",
   "execution_count": 76,
   "metadata": {
    "collapsed": false
   },
   "outputs": [
    {
     "name": "stdout",
     "output_type": "stream",
     "text": [
      "\u001b[0m\u001b[00m../../data/training_runs/eflow3_8_v0.pkl\u001b[0m\r\n"
     ]
    }
   ],
   "source": [
    "ls ../../data/training_runs/eflow3_8_v0.pkl"
   ]
  },
  {
   "cell_type": "code",
   "execution_count": 60,
   "metadata": {
    "collapsed": false
   },
   "outputs": [
    {
     "name": "stdout",
     "output_type": "stream",
     "text": [
      "loaded pickle file with path '../../data/training_runs/eflow3_8_v0.pkl'\n"
     ]
    }
   ],
   "source": [
    "import h5py\n",
    "prefix = \"../../data/training_runs/eflow3_8_v0\"\n",
    "f = h5py.File(prefix + \".h5\")\n",
    "import autoencodeSVJ.trainer as tr\n",
    "new = tr.pkl_file(prefix)"
   ]
  },
  {
   "cell_type": "code",
   "execution_count": 61,
   "metadata": {
    "collapsed": false
   },
   "outputs": [],
   "source": [
    "params = f['params']\n",
    "config = dict(f['params']['config'])\n",
    "train = dict(params['training'])\n"
   ]
  },
  {
   "cell_type": "code",
   "execution_count": 65,
   "metadata": {
    "collapsed": false
   },
   "outputs": [],
   "source": [
    "config['trained'] = True\n",
    "\n",
    "for k in config:\n",
    "    new[k] = config[k]"
   ]
  },
  {
   "cell_type": "code",
   "execution_count": 67,
   "metadata": {
    "collapsed": false
   },
   "outputs": [
    {
     "data": {
      "text/plain": [
       "['name',\n",
       " 'epoch_splits',\n",
       " 'batch_size',\n",
       " 'epochs',\n",
       " 'trained',\n",
       " 'time',\n",
       " 'model_json']"
      ]
     },
     "execution_count": 67,
     "metadata": {},
     "output_type": "execute_result"
    }
   ],
   "source": []
  },
  {
   "cell_type": "code",
   "execution_count": 34,
   "metadata": {
    "collapsed": true
   },
   "outputs": [],
   "source": [
    "import os\n",
    "import collections\n",
    "import pickle\n",
    "from autoencodeSVJ.utils import smartpath\n",
    "\n",
    "\n",
    "class pkl(collections.MutableMapping):\n",
    "    \"\"\"Dictionary which saves all attributes to a .pkl file on access/altering\"\"\"\n",
    "\n",
    "    def __init__(self, path, *args, **kwargs):\n",
    "        \n",
    "        if not path.endswith(\".pkl\"):\n",
    "            path += \".pkl\"\n",
    "        \n",
    "        self.path = smartpath(path)\n",
    "        self.store = {}\n",
    "        \n",
    "        if os.path.exists(self.path):\n",
    "            try:\n",
    "                self.update_store()\n",
    "            except:\n",
    "                raise AttributeError(\"failed to load pickle file!\")\n",
    "                                \n",
    "        self.update_pkl()\n",
    "        \n",
    "        print \"loaded pickle file with path '{}'\".format(path)\n",
    "        \n",
    "    def __getitem__(self, key):\n",
    "        self.update_store()\n",
    "        return self.store[key]\n",
    "    \n",
    "    def __setitem__(self, key, value):\n",
    "        self.update_store()\n",
    "        self.store[key] = value\n",
    "        self.update_pkl()\n",
    "        \n",
    "    def __delitem__(self, key):\n",
    "        self.update_store()\n",
    "        del self.store[key]\n",
    "        self.update_pkl()\n",
    "    \n",
    "    def __iter__(self):\n",
    "        self.update_store()\n",
    "        return iter(self.store)\n",
    "    \n",
    "    def __len__(self):\n",
    "        self.update_store()\n",
    "        return len(self.store)\n",
    "    \n",
    "    def update_pkl(self):\n",
    "        with open(self.path, 'wb') as f:\n",
    "            pickle.dump(self.store, f, protocol=pickle.HIGHEST_PROTOCOL)\n",
    "\n",
    "    def update_store(self):\n",
    "        with open(self.path, 'rb') as f:\n",
    "            self.store.update(pickle.load(f))\n",
    "            \n",
    "    def __str__(self):\n",
    "        self.update_store()\n",
    "        return str(self.store)\n",
    "    \n",
    "    def __repr__(self): \n",
    "        self.update_store()\n",
    "        return \"pkl_file instance\\n\" + str(self) \n"
   ]
  },
  {
   "cell_type": "code",
   "execution_count": 71,
   "metadata": {
    "collapsed": false
   },
   "outputs": [
    {
     "name": "stdout",
     "output_type": "stream",
     "text": [
      "loaded json file with path '/afs/cern.ch/work/l/llepotti/private/CMS/CMSSW_8_0_20/src/autoencodeSVJ/autoencode/module/autoencodeSVJ/test.json'\n"
     ]
    }
   ],
   "source": [
    "%run trainer.py\n",
    "d = trainer('test')"
   ]
  },
  {
   "cell_type": "code",
   "execution_count": 56,
   "metadata": {
    "collapsed": false
   },
   "outputs": [
    {
     "name": "stdout",
     "output_type": "stream",
     "text": [
      "loaded json file with path '/afs/cern.ch/work/l/llepotti/private/CMS/CMSSW_8_0_20/src/autoencodeSVJ/autoencode/module/autoencodeSVJ/test.json'\n",
      "train_shell :: TRAINING EPOCH 0/30\n",
      "Train on 379 samples, validate on 127 samples\n",
      "Epoch 1/1\n",
      "379/379 [==============================] - 1s 2ms/step - loss: 98.8590 - val_loss: 92.3497\n",
      "train_shell :: TRAINING EPOCH 1/30\n",
      "Train on 379 samples, validate on 127 samples\n",
      "Epoch 2/2\n",
      "379/379 [==============================] - 0s 74us/step - loss: 90.8112 - val_loss: 85.4234\n",
      "train_shell :: TRAINING EPOCH 2/30\n",
      "Train on 379 samples, validate on 127 samples\n",
      "Epoch 3/3\n",
      "379/379 [==============================] - 0s 68us/step - loss: 84.3974 - val_loss: 80.0285\n",
      "train_shell :: TRAINING EPOCH 3/30\n",
      "Train on 379 samples, validate on 127 samples\n",
      "Epoch 4/4\n",
      "379/379 [==============================] - 0s 67us/step - loss: 79.7026 - val_loss: 76.4106\n",
      "train_shell :: TRAINING EPOCH 4/30\n",
      "Train on 379 samples, validate on 127 samples\n",
      "Epoch 5/5\n",
      "379/379 [==============================] - 0s 63us/step - loss: 76.5429 - val_loss: 73.9290\n",
      "train_shell :: TRAINING EPOCH 5/30\n",
      "Train on 379 samples, validate on 127 samples\n",
      "Epoch 6/6\n",
      "379/379 [==============================] - 0s 62us/step - loss: 74.3448 - val_loss: 72.1287\n",
      "train_shell :: TRAINING EPOCH 6/30\n",
      "Train on 379 samples, validate on 127 samples\n",
      "Epoch 7/7\n",
      "379/379 [==============================] - 0s 77us/step - loss: 72.7342 - val_loss: 70.8398\n",
      "train_shell :: TRAINING EPOCH 7/30\n",
      "Train on 379 samples, validate on 127 samples\n",
      "Epoch 8/8\n",
      "379/379 [==============================] - 0s 68us/step - loss: 71.5882 - val_loss: 69.8927\n",
      "train_shell :: TRAINING EPOCH 8/30\n",
      "Train on 379 samples, validate on 127 samples\n",
      "Epoch 9/9\n",
      "379/379 [==============================] - 0s 77us/step - loss: 70.7284 - val_loss: 69.2080\n",
      "train_shell :: TRAINING EPOCH 9/30\n",
      "Train on 379 samples, validate on 127 samples\n",
      "Epoch 10/10\n",
      "379/379 [==============================] - 0s 69us/step - loss: 70.0823 - val_loss: 68.6263\n",
      "train_shell :: TRAINING EPOCH 10/30\n",
      "Train on 379 samples, validate on 127 samples\n",
      "Epoch 11/11\n",
      "379/379 [==============================] - 0s 68us/step - loss: 69.5024 - val_loss: 68.0714\n",
      "train_shell :: TRAINING EPOCH 11/30\n",
      "Train on 379 samples, validate on 127 samples\n",
      "Epoch 12/12\n",
      "379/379 [==============================] - 0s 70us/step - loss: 68.9187 - val_loss: 67.4771\n",
      "train_shell :: TRAINING EPOCH 12/30\n",
      "Train on 379 samples, validate on 127 samples\n",
      "Epoch 13/13\n",
      "379/379 [==============================] - 0s 71us/step - loss: 68.2946 - val_loss: 66.7947\n",
      "train_shell :: TRAINING EPOCH 13/30\n",
      "Train on 379 samples, validate on 127 samples\n",
      "Epoch 14/14\n",
      "379/379 [==============================] - 0s 65us/step - loss: 67.6046 - val_loss: 66.1342\n",
      "train_shell :: TRAINING EPOCH 14/30\n",
      "Train on 379 samples, validate on 127 samples\n",
      "Epoch 15/15\n",
      "379/379 [==============================] - 0s 68us/step - loss: 66.9361 - val_loss: 65.4051\n",
      "train_shell :: TRAINING EPOCH 15/30\n",
      "Train on 379 samples, validate on 127 samples\n",
      "Epoch 16/16\n",
      "379/379 [==============================] - 0s 68us/step - loss: 66.2262 - val_loss: 64.6441\n",
      "train_shell :: TRAINING EPOCH 16/30\n",
      "Train on 379 samples, validate on 127 samples\n",
      "Epoch 17/17\n",
      "379/379 [==============================] - 0s 78us/step - loss: 65.4649 - val_loss: 63.8094\n",
      "train_shell :: TRAINING EPOCH 17/30\n",
      "Train on 379 samples, validate on 127 samples\n",
      "Epoch 18/18\n",
      "379/379 [==============================] - 0s 69us/step - loss: 64.6241 - val_loss: 62.9086\n",
      "train_shell :: TRAINING EPOCH 18/30\n",
      "Train on 379 samples, validate on 127 samples\n",
      "Epoch 19/19\n",
      "379/379 [==============================] - 0s 73us/step - loss: 63.7623 - val_loss: 61.9825\n",
      "train_shell :: TRAINING EPOCH 19/30\n",
      "Train on 379 samples, validate on 127 samples\n",
      "Epoch 20/20\n",
      "379/379 [==============================] - 0s 69us/step - loss: 62.8525 - val_loss: 61.0439\n",
      "train_shell :: TRAINING EPOCH 20/30\n",
      "Train on 379 samples, validate on 127 samples\n",
      "Epoch 21/21\n",
      "379/379 [==============================] - 0s 71us/step - loss: 61.9204 - val_loss: 60.1064\n",
      "train_shell :: TRAINING EPOCH 21/30\n",
      "Train on 379 samples, validate on 127 samples\n",
      "Epoch 22/22\n",
      "379/379 [==============================] - 0s 72us/step - loss: 60.9369 - val_loss: 59.0850\n",
      "train_shell :: TRAINING EPOCH 22/30\n",
      "Train on 379 samples, validate on 127 samples\n",
      "Epoch 23/23\n",
      "379/379 [==============================] - 0s 82us/step - loss: 59.9233 - val_loss: 58.1405\n",
      "train_shell :: TRAINING EPOCH 23/30\n",
      "Train on 379 samples, validate on 127 samples\n",
      "Epoch 24/24\n",
      "379/379 [==============================] - 0s 79us/step - loss: 58.9132 - val_loss: 57.0193\n",
      "train_shell :: TRAINING EPOCH 24/30\n",
      "Train on 379 samples, validate on 127 samples\n",
      "Epoch 25/25\n",
      "379/379 [==============================] - 0s 74us/step - loss: 57.7076 - val_loss: 55.6721\n",
      "train_shell :: TRAINING EPOCH 25/30\n",
      "Train on 379 samples, validate on 127 samples\n",
      "Epoch 26/26\n",
      "379/379 [==============================] - 0s 74us/step - loss: 56.2451 - val_loss: 54.1045\n",
      "train_shell :: TRAINING EPOCH 26/30\n",
      "Train on 379 samples, validate on 127 samples\n",
      "Epoch 27/27\n",
      "379/379 [==============================] - 0s 73us/step - loss: 54.7330 - val_loss: 52.5772\n",
      "train_shell :: TRAINING EPOCH 27/30\n",
      "Train on 379 samples, validate on 127 samples\n",
      "Epoch 28/28\n",
      "379/379 [==============================] - 0s 66us/step - loss: 52.9999 - val_loss: 50.5836\n",
      "train_shell :: TRAINING EPOCH 28/30\n",
      "Train on 379 samples, validate on 127 samples\n",
      "Epoch 29/29\n",
      "379/379 [==============================] - 0s 64us/step - loss: 50.7337 - val_loss: 48.0016\n",
      "train_shell :: TRAINING EPOCH 29/30\n",
      "Train on 379 samples, validate on 127 samples\n",
      "Epoch 30/30\n",
      "379/379 [==============================] - 0s 68us/step - loss: 47.7212 - val_loss: 44.5173\n",
      "EPOCH N: 30 30\n",
      "train_shell :: \n",
      "train_shell :: trained 30 epochs!\n",
      "train_shell :: \n",
      "finished epoch N 30\n",
      "prev [30]\n",
      "saving to path /afs/cern.ch/work/l/llepotti/private/CMS/CMSSW_8_0_20/src/autoencodeSVJ/autoencode/module/autoencodeSVJ/test_weights.h5\n",
      "train_shell :: model saved\n"
     ]
    },
    {
     "data": {
      "text/plain": [
       "<keras.engine.training.Model at 0x7f04c2a55550>"
      ]
     },
     "execution_count": 56,
     "metadata": {},
     "output_type": "execute_result"
    }
   ],
   "source": [
    "%run trainer.py\n",
    "t = trainer('test')\n",
    "\n",
    "train, test = train_test_split(data)\n",
    "ae = models.medium(n_features=len(data.columns), bn=3)\n",
    "ae.compile(optimizer='adam', loss='mse')\n",
    "\n",
    "\n",
    "t.train(\n",
    "    x_train=train.values,\n",
    "    y_train=train.values,\n",
    "    x_test=test.values,\n",
    "    y_test=test.values,\n",
    "    epochs=30,\n",
    "    loss='mae',\n",
    "    model=ae\n",
    ")\n"
   ]
  },
  {
   "cell_type": "code",
   "execution_count": 69,
   "metadata": {
    "collapsed": false
   },
   "outputs": [
    {
     "name": "stdout",
     "output_type": "stream",
     "text": [
      "train_shell :: using saved model\n",
      "train_shell :: TRAINING EPOCH 60/90\n",
      "Train on 379 samples, validate on 127 samples\n",
      "Epoch 61/61\n",
      "379/379 [==============================] - 1s 2ms/step - loss: 18.6181 - val_loss: 17.8679\n",
      "train_shell :: TRAINING EPOCH 61/90\n",
      "Train on 379 samples, validate on 127 samples\n",
      "Epoch 62/62\n",
      "379/379 [==============================] - 0s 76us/step - loss: 17.7374 - val_loss: 17.1912\n",
      "train_shell :: TRAINING EPOCH 62/90\n",
      "Train on 379 samples, validate on 127 samples\n",
      "Epoch 63/63\n",
      "379/379 [==============================] - 0s 75us/step - loss: 17.4430 - val_loss: 17.1777\n",
      "train_shell :: TRAINING EPOCH 63/90\n",
      "Train on 379 samples, validate on 127 samples\n",
      "Epoch 64/64\n",
      "379/379 [==============================] - 0s 73us/step - loss: 17.4660 - val_loss: 17.3022\n",
      "train_shell :: TRAINING EPOCH 64/90\n",
      "Train on 379 samples, validate on 127 samples\n",
      "Epoch 65/65\n",
      "379/379 [==============================] - 0s 76us/step - loss: 17.3902 - val_loss: 16.9865\n",
      "train_shell :: TRAINING EPOCH 65/90\n",
      "Train on 379 samples, validate on 127 samples\n",
      "Epoch 66/66\n",
      "379/379 [==============================] - 0s 71us/step - loss: 17.3919 - val_loss: 17.0705\n",
      "train_shell :: TRAINING EPOCH 66/90\n",
      "Train on 379 samples, validate on 127 samples\n",
      "Epoch 67/67\n",
      "379/379 [==============================] - 0s 77us/step - loss: 17.3202 - val_loss: 17.0936\n",
      "train_shell :: TRAINING EPOCH 67/90\n",
      "Train on 379 samples, validate on 127 samples\n",
      "Epoch 68/68\n",
      "379/379 [==============================] - 0s 76us/step - loss: 17.3496 - val_loss: 17.1678\n",
      "train_shell :: TRAINING EPOCH 68/90\n",
      "Train on 379 samples, validate on 127 samples\n",
      "Epoch 69/69\n",
      "379/379 [==============================] - 0s 76us/step - loss: 17.2936 - val_loss: 17.0878\n",
      "train_shell :: TRAINING EPOCH 69/90\n",
      "Train on 379 samples, validate on 127 samples\n",
      "Epoch 70/70\n",
      "379/379 [==============================] - 0s 65us/step - loss: 17.2985 - val_loss: 17.3472\n",
      "train_shell :: TRAINING EPOCH 70/90\n",
      "Train on 379 samples, validate on 127 samples\n",
      "Epoch 71/71\n",
      "379/379 [==============================] - 0s 65us/step - loss: 17.4221 - val_loss: 17.1875\n",
      "train_shell :: TRAINING EPOCH 71/90\n",
      "Train on 379 samples, validate on 127 samples\n",
      "Epoch 72/72\n",
      "379/379 [==============================] - 0s 65us/step - loss: 17.2671 - val_loss: 16.8907\n",
      "train_shell :: TRAINING EPOCH 72/90\n",
      "Train on 379 samples, validate on 127 samples\n",
      "Epoch 73/73\n",
      "379/379 [==============================] - 0s 66us/step - loss: 17.1709 - val_loss: 16.9303\n",
      "train_shell :: TRAINING EPOCH 73/90\n",
      "Train on 379 samples, validate on 127 samples\n",
      "Epoch 74/74\n",
      "379/379 [==============================] - 0s 64us/step - loss: 17.2948 - val_loss: 17.1006\n",
      "train_shell :: TRAINING EPOCH 74/90\n",
      "Train on 379 samples, validate on 127 samples\n",
      "Epoch 75/75\n",
      "379/379 [==============================] - 0s 71us/step - loss: 17.3757 - val_loss: 17.2246\n",
      "train_shell :: TRAINING EPOCH 75/90\n",
      "Train on 379 samples, validate on 127 samples\n",
      "Epoch 76/76\n",
      "379/379 [==============================] - 0s 71us/step - loss: 17.2676 - val_loss: 16.8789\n",
      "train_shell :: TRAINING EPOCH 76/90\n",
      "Train on 379 samples, validate on 127 samples\n",
      "Epoch 77/77\n",
      "379/379 [==============================] - 0s 70us/step - loss: 17.0947 - val_loss: 16.7933\n",
      "train_shell :: TRAINING EPOCH 77/90\n",
      "Train on 379 samples, validate on 127 samples\n",
      "Epoch 78/78\n",
      "379/379 [==============================] - 0s 76us/step - loss: 17.2479 - val_loss: 16.8184\n",
      "train_shell :: TRAINING EPOCH 78/90\n",
      "Train on 379 samples, validate on 127 samples\n",
      "Epoch 79/79\n",
      "379/379 [==============================] - 0s 74us/step - loss: 17.2027 - val_loss: 17.0383\n",
      "train_shell :: TRAINING EPOCH 79/90\n",
      "Train on 379 samples, validate on 127 samples\n",
      "Epoch 80/80\n",
      "379/379 [==============================] - 0s 68us/step - loss: 17.1814 - val_loss: 16.7618\n",
      "train_shell :: TRAINING EPOCH 80/90\n",
      "Train on 379 samples, validate on 127 samples\n",
      "Epoch 81/81\n",
      "379/379 [==============================] - 0s 68us/step - loss: 17.2931 - val_loss: 16.9739\n",
      "train_shell :: TRAINING EPOCH 81/90\n",
      "Train on 379 samples, validate on 127 samples\n",
      "Epoch 82/82\n",
      "379/379 [==============================] - 0s 64us/step - loss: 17.2193 - val_loss: 16.9392\n",
      "train_shell :: TRAINING EPOCH 82/90\n",
      "Train on 379 samples, validate on 127 samples\n",
      "Epoch 83/83\n",
      "379/379 [==============================] - 0s 65us/step - loss: 17.0753 - val_loss: 16.7830\n",
      "train_shell :: TRAINING EPOCH 83/90\n",
      "Train on 379 samples, validate on 127 samples\n",
      "Epoch 84/84\n",
      "379/379 [==============================] - 0s 66us/step - loss: 17.1291 - val_loss: 16.9926\n",
      "train_shell :: TRAINING EPOCH 84/90\n",
      "Train on 379 samples, validate on 127 samples\n",
      "Epoch 85/85\n",
      "379/379 [==============================] - 0s 77us/step - loss: 17.1662 - val_loss: 16.7968\n",
      "train_shell :: TRAINING EPOCH 85/90\n",
      "Train on 379 samples, validate on 127 samples\n",
      "Epoch 86/86\n",
      "379/379 [==============================] - 0s 69us/step - loss: 17.1262 - val_loss: 16.8450\n",
      "train_shell :: TRAINING EPOCH 86/90\n",
      "Train on 379 samples, validate on 127 samples\n",
      "Epoch 87/87\n",
      "379/379 [==============================] - 0s 63us/step - loss: 17.1344 - val_loss: 17.0578\n",
      "train_shell :: TRAINING EPOCH 87/90\n",
      "Train on 379 samples, validate on 127 samples\n",
      "Epoch 88/88\n",
      "379/379 [==============================] - 0s 67us/step - loss: 17.0922 - val_loss: 16.8525\n",
      "train_shell :: TRAINING EPOCH 88/90\n",
      "Train on 379 samples, validate on 127 samples\n",
      "Epoch 89/89\n",
      "379/379 [==============================] - 0s 68us/step - loss: 16.9669 - val_loss: 16.7169\n",
      "train_shell :: TRAINING EPOCH 89/90\n",
      "Train on 379 samples, validate on 127 samples\n",
      "Epoch 90/90\n",
      "379/379 [==============================] - 0s 64us/step - loss: 16.9770 - val_loss: 16.8144\n",
      "EPOCH N: 90 30\n",
      "train_shell :: \n",
      "train_shell :: trained 30 epochs!\n",
      "train_shell :: \n",
      "finished epoch N 90\n",
      "prev [30, 30, 30]\n",
      "saving to path /afs/cern.ch/work/l/llepotti/private/CMS/CMSSW_8_0_20/src/autoencodeSVJ/autoencode/module/autoencodeSVJ/test_weights.h5\n",
      "train_shell :: model saved\n"
     ]
    },
    {
     "data": {
      "text/plain": [
       "<keras.engine.training.Model at 0x7f04c0156ed0>"
      ]
     },
     "execution_count": 69,
     "metadata": {},
     "output_type": "execute_result"
    }
   ],
   "source": [
    "t.train(\n",
    "    x_train=train.values,\n",
    "    y_train=train.values,\n",
    "    x_test=test.values,\n",
    "    y_test=test.values,\n",
    "    epochs=30,\n",
    "    loss='mae',\n",
    ")"
   ]
  },
  {
   "cell_type": "code",
   "execution_count": 61,
   "metadata": {
    "collapsed": false
   },
   "outputs": [
    {
     "name": "stdout",
     "output_type": "stream",
     "text": [
      "train_shell :: using saved model\n"
     ]
    }
   ],
   "source": [
    "ae2 = d.load_model()"
   ]
  },
  {
   "cell_type": "code",
   "execution_count": 66,
   "metadata": {
    "collapsed": false
   },
   "outputs": [
    {
     "name": "stdout",
     "output_type": "stream",
     "text": [
      "train_shell :: using saved model\n"
     ]
    }
   ],
   "source": [
    "ae = t.load_model()"
   ]
  },
  {
   "cell_type": "code",
   "execution_count": 68,
   "metadata": {
    "collapsed": false
   },
   "outputs": [
    {
     "data": {
      "text/plain": [
       "True"
      ]
     },
     "execution_count": 68,
     "metadata": {},
     "output_type": "execute_result"
    }
   ],
   "source": []
  },
  {
   "cell_type": "code",
   "execution_count": 67,
   "metadata": {
    "collapsed": false
   },
   "outputs": [
    {
     "name": "stdout",
     "output_type": "stream",
     "text": [
      "loaded json file with path 'test.json'\n"
     ]
    }
   ],
   "source": [
    "import os\n",
    "import collections\n",
    "import json\n",
    "\n",
    "class json_file(collections.MutableMapping):\n",
    "    \"\"\"Dictionary which saves all attributes to a .json file on access/altering\"\"\"\n",
    "\n",
    "    def __init__(self, path, *args, **kwargs):\n",
    "        \n",
    "        if not path.endswith(\".json\"):\n",
    "            path += \".json\"\n",
    "        \n",
    "        self.path = smartpath(path)\n",
    "        self.store = {}\n",
    "        \n",
    "        if os.path.exists(self.path):\n",
    "            try:\n",
    "                self.update_store()\n",
    "            except:\n",
    "                raise AttributeError(\"failed to load json!\")\n",
    "                                \n",
    "        self.update_json()\n",
    "        \n",
    "        print \"loaded json file with path '{}'\".format(path)\n",
    "        \n",
    "    def __getitem__(self, key):\n",
    "        return self.store[key]\n",
    "    \n",
    "    def __setitem__(self, key, value):\n",
    "        if self.can_json(value):\n",
    "            self.store[key] = value\n",
    "            self.update_json()\n",
    "        else:\n",
    "            raise AttributeError(\"object with type '{}' is not json serializable!\".format(type(value)))\n",
    "        \n",
    "    def __delitem__(self, key):\n",
    "        del self.store[key]\n",
    "        self.update_json()\n",
    "    \n",
    "    def __iter__(self):\n",
    "        return iter(self.store)\n",
    "    \n",
    "    def __len__(self):\n",
    "        return len(self.store)\n",
    "    \n",
    "    def update_json(self):\n",
    "        with open(self.path, 'w+') as f:\n",
    "            json.dump(self.store, f)\n",
    "\n",
    "    def update_store(self):\n",
    "        with open(self.path, 'r') as f:\n",
    "            self.store.update(json.load(f))\n",
    "            \n",
    "    def __str__(self):\n",
    "        return str(self.store)\n",
    "    \n",
    "    def __repr__(self): \n",
    "        return \"json_file instance\\n\" + str(self) \n",
    "    \n",
    "    def can_json(self, value):\n",
    "        try:\n",
    "            json.dumps(value)\n",
    "            return True\n",
    "        except (TypeError, OverflowError):\n",
    "            return False\n",
    "        \n",
    "k = json_file(\"test\")"
   ]
  },
  {
   "cell_type": "code",
   "execution_count": 68,
   "metadata": {
    "collapsed": false
   },
   "outputs": [],
   "source": [
    "d['time'] = {\"nice\": 1, \"not nice\": 2}"
   ]
  },
  {
   "cell_type": "code",
   "execution_count": 75,
   "metadata": {
    "collapsed": false
   },
   "outputs": [
    {
     "ename": "AttributeError",
     "evalue": "object with type '<type 'numpy.ndarray'>' is not json serializable!",
     "output_type": "error",
     "traceback": [
      "\u001b[0;31m---------------------------------------------------------------------------\u001b[0m",
      "\u001b[0;31mAttributeError\u001b[0m                            Traceback (most recent call last)",
      "\u001b[0;32m<ipython-input-75-4b24eba7e705>\u001b[0m in \u001b[0;36m<module>\u001b[0;34m()\u001b[0m\n\u001b[0;32m----> 1\u001b[0;31m \u001b[0mk\u001b[0m\u001b[0;34m[\u001b[0m\u001b[0;36m10\u001b[0m\u001b[0;34m]\u001b[0m \u001b[0;34m=\u001b[0m \u001b[0mnp\u001b[0m\u001b[0;34m.\u001b[0m\u001b[0masarray\u001b[0m\u001b[0;34m(\u001b[0m\u001b[0;34m[\u001b[0m\u001b[0;36m0\u001b[0m\u001b[0;34m,\u001b[0m\u001b[0;36m1\u001b[0m\u001b[0;34m]\u001b[0m\u001b[0;34m)\u001b[0m\u001b[0;34m\u001b[0m\u001b[0m\n\u001b[0m",
      "\u001b[0;32m<ipython-input-67-1c9eea0c2df4>\u001b[0m in \u001b[0;36m__setitem__\u001b[0;34m(self, key, value)\u001b[0m\n\u001b[1;32m     32\u001b[0m             \u001b[0mself\u001b[0m\u001b[0;34m.\u001b[0m\u001b[0mupdate_json\u001b[0m\u001b[0;34m(\u001b[0m\u001b[0;34m)\u001b[0m\u001b[0;34m\u001b[0m\u001b[0m\n\u001b[1;32m     33\u001b[0m         \u001b[0;32melse\u001b[0m\u001b[0;34m:\u001b[0m\u001b[0;34m\u001b[0m\u001b[0m\n\u001b[0;32m---> 34\u001b[0;31m             \u001b[0;32mraise\u001b[0m \u001b[0mAttributeError\u001b[0m\u001b[0;34m(\u001b[0m\u001b[0;34m\"object with type '{}' is not json serializable!\"\u001b[0m\u001b[0;34m.\u001b[0m\u001b[0mformat\u001b[0m\u001b[0;34m(\u001b[0m\u001b[0mtype\u001b[0m\u001b[0;34m(\u001b[0m\u001b[0mvalue\u001b[0m\u001b[0;34m)\u001b[0m\u001b[0;34m)\u001b[0m\u001b[0;34m)\u001b[0m\u001b[0;34m\u001b[0m\u001b[0m\n\u001b[0m\u001b[1;32m     35\u001b[0m \u001b[0;34m\u001b[0m\u001b[0m\n\u001b[1;32m     36\u001b[0m     \u001b[0;32mdef\u001b[0m \u001b[0m__delitem__\u001b[0m\u001b[0;34m(\u001b[0m\u001b[0mself\u001b[0m\u001b[0;34m,\u001b[0m \u001b[0mkey\u001b[0m\u001b[0;34m)\u001b[0m\u001b[0;34m:\u001b[0m\u001b[0;34m\u001b[0m\u001b[0m\n",
      "\u001b[0;31mAttributeError\u001b[0m: object with type '<type 'numpy.ndarray'>' is not json serializable!"
     ]
    }
   ],
   "source": [
    "k[10] = np.asarray([0,1])"
   ]
  },
  {
   "cell_type": "code",
   "execution_count": 85,
   "metadata": {
    "collapsed": false
   },
   "outputs": [
    {
     "data": {
      "text/plain": [
       "(10, 40, 4)"
      ]
     },
     "execution_count": 85,
     "metadata": {},
     "output_type": "execute_result"
    }
   ],
   "source": [
    "np.asarray(k['sav_list']).shape"
   ]
  },
  {
   "cell_type": "code",
   "execution_count": null,
   "metadata": {
    "collapsed": true
   },
   "outputs": [],
   "source": []
  }
 ],
 "metadata": {
  "kernelspec": {
   "display_name": "Python 2",
   "language": "python",
   "name": "python2"
  },
  "language_info": {
   "codemirror_mode": {
    "name": "ipython",
    "version": 2
   },
   "file_extension": ".py",
   "mimetype": "text/x-python",
   "name": "python",
   "nbconvert_exporter": "python",
   "pygments_lexer": "ipython2",
   "version": "2.7.13"
  }
 },
 "nbformat": 4,
 "nbformat_minor": 0
}
