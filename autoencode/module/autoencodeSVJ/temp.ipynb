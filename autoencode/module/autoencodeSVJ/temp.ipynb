{
 "cells": [
  {
   "cell_type": "code",
   "execution_count": 29,
   "metadata": {
    "collapsed": false
   },
   "outputs": [],
   "source": [
    "%run evaluate.py"
   ]
  },
  {
   "cell_type": "code",
   "execution_count": 30,
   "metadata": {
    "collapsed": false
   },
   "outputs": [
    {
     "data": {
      "text/plain": [
       "[u'/afs/cern.ch/work/l/llepotti/private/CMS/CMSSW_8_0_20/src/autoencodeSVJ/autoencode/data/training_runs/hlf_eflow3_5_v0',\n",
       " u'/afs/cern.ch/work/l/llepotti/private/CMS/CMSSW_8_0_20/src/autoencodeSVJ/autoencode/data/training_runs/hlf_eflow3_8_v3',\n",
       " u'/t3home/llepotti/CMSSW_8_0_20/src/autoencodeSVJ/autoencode/data/training_runs/hlf_eflow3_16_v0',\n",
       " u'/t3home/llepotti/CMSSW_8_0_20/src/autoencodeSVJ/autoencode/data/training_runs/hlf_eflow3_2_v0',\n",
       " u'/t3home/llepotti/CMSSW_8_0_20/src/autoencodeSVJ/autoencode/data/training_runs/hlf_eflow3_4_v0',\n",
       " u'/t3home/llepotti/CMSSW_8_0_20/src/autoencodeSVJ/autoencode/data/training_runs/hlf_eflow3_8_v0',\n",
       " u'/t3home/llepotti/CMSSW_8_0_20/src/autoencodeSVJ/autoencode/data/training_runs/eflow3_16_v0',\n",
       " u'/t3home/llepotti/CMSSW_8_0_20/src/autoencodeSVJ/autoencode/data/training_runs/eflow3_2_v0',\n",
       " u'/t3home/llepotti/CMSSW_8_0_20/src/autoencodeSVJ/autoencode/data/training_runs/eflow3_4_v0',\n",
       " u'/t3home/llepotti/CMSSW_8_0_20/src/autoencodeSVJ/autoencode/data/training_runs/eflow3_8_v0',\n",
       " u'/t3home/llepotti/CMSSW_8_0_20/src/autoencodeSVJ/autoencode/data/training_runs/eflow4_16_v0',\n",
       " u'/t3home/llepotti/CMSSW_8_0_20/src/autoencodeSVJ/autoencode/data/training_runs/eflow4_2_v0',\n",
       " u'/t3home/llepotti/CMSSW_8_0_20/src/autoencodeSVJ/autoencode/data/training_runs/eflow4_4_v0',\n",
       " u'/t3home/llepotti/CMSSW_8_0_20/src/autoencodeSVJ/autoencode/data/training_runs/eflow4_8_v0',\n",
       " u'/t3home/llepotti/CMSSW_8_0_20/src/autoencodeSVJ/autoencode/data/training_runs/hlf_eflow4_16_v0',\n",
       " u'/t3home/llepotti/CMSSW_8_0_20/src/autoencodeSVJ/autoencode/data/training_runs/hlf_eflow4_2_v0',\n",
       " u'/t3home/llepotti/CMSSW_8_0_20/src/autoencodeSVJ/autoencode/data/training_runs/hlf_eflow4_4_v0',\n",
       " u'/t3home/llepotti/CMSSW_8_0_20/src/autoencodeSVJ/autoencode/data/training_runs/hlf_eflow4_8_v0',\n",
       " u'/afs/cern.ch/work/l/llepotti/private/CMS/CMSSW_8_0_20/src/autoencodeSVJ/autoencode/data/training_runs/hlf_eflow3_1_v0',\n",
       " u'/afs/cern.ch/work/l/llepotti/private/CMS/CMSSW_8_0_20/src/autoencodeSVJ/autoencode/data/training_runs/hlf_eflow3_1_v1',\n",
       " u'/afs/cern.ch/work/l/llepotti/private/CMS/CMSSW_8_0_20/src/autoencodeSVJ/autoencode/data/training_runs/hlf_eflow3_10_v0',\n",
       " u'/afs/cern.ch/work/l/llepotti/private/CMS/CMSSW_8_0_20/src/autoencodeSVJ/autoencode/data/training_runs/eflow4_3_v0',\n",
       " u'/afs/cern.ch/work/l/llepotti/private/CMS/CMSSW_8_0_20/src/autoencodeSVJ/autoencode/data/training_runs/eflow4_3_v1']"
      ]
     },
     "execution_count": 30,
     "metadata": {},
     "output_type": "execute_result"
    }
   ],
   "source": [
    "list(utils.summary().cfilter(['*time*', 'filename', '*auc*', 'filepath']).filepath)"
   ]
  },
  {
   "cell_type": "code",
   "execution_count": 31,
   "metadata": {
    "collapsed": false
   },
   "outputs": [
    {
     "name": "stdout",
     "output_type": "stream",
     "text": [
      "found 1 matches with search '/afs/cern.ch/work/l/llepotti/private/CMS/CMSSW_8_0_20/src/autoencodeSVJ/autoencode/data/summary/eflow3_8_v0.summary'\n",
      "/t3home/llepotti/CMSSW_8_0_20/src/autoencodeSVJ/autoencode/data/training_runs/eflow3_8_v0.pkl\n",
      "/afs/cern.ch/work/l/llepotti/private/CMS/CMSSW_8_0_20/src/autoencodeSVJ/autoencode/data/training_runs/eflow3_8_v0.pkl\n",
      "loaded pickle file with path '/afs/cern.ch/work/l/llepotti/private/CMS/CMSSW_8_0_20/src/autoencodeSVJ/autoencode/data/training_runs/eflow3_8_v0.pkl'\n",
      "train_shell :: using saved model\n",
      "found 1 matches with search '/afs/cern.ch/work/l/llepotti/private/CMS/CMSSW_8_0_20/src/autoencodeSVJ/autoencode/data/summary/eflow3_8_v0.summary'\n",
      "/t3home/llepotti/CMSSW_8_0_20/src/autoencodeSVJ/autoencode/data/training_runs/eflow3_8_v0.pkl\n",
      "/afs/cern.ch/work/l/llepotti/private/CMS/CMSSW_8_0_20/src/autoencodeSVJ/autoencode/data/training_runs/eflow3_8_v0.pkl\n",
      "loaded pickle file with path '/afs/cern.ch/work/l/llepotti/private/CMS/CMSSW_8_0_20/src/autoencodeSVJ/autoencode/data/training_runs/eflow3_8_v0.pkl'\n",
      "train_shell :: using saved model\n"
     ]
    }
   ],
   "source": [
    "e = ae_evaluation(\n",
    "    \"eflow3_8_v0\",\n",
    "    qcd_path=\"data/background_old_full/background/base_3/*.h5\",\n",
    "    signal_path=\"data/signal/base_3/*.h5\"\n",
    ")\n",
    "ep = ae_evaluation(\n",
    "    \"eflow3_8_v0\",\n",
    "    qcd_path=\"data/background_old_full/background/base_3/*.h5\",\n",
    "    signal_path=\"data/signal_old_full/signal/base_3/*.h5\"\n",
    ")"
   ]
  },
  {
   "cell_type": "code",
   "execution_count": null,
   "metadata": {
    "collapsed": true
   },
   "outputs": [],
   "source": []
  },
  {
   "cell_type": "code",
   "execution_count": 32,
   "metadata": {
    "collapsed": false
   },
   "outputs": [
    {
     "name": "stdout",
     "output_type": "stream",
     "text": [
      "data_table :: plotting distrubution(s) for table(s) ['signal norm error', 'qcd test norm error']\n"
     ]
    },
    {
     "data": {
      "image/png": "[encoded data removed]",
      "text/plain": [
       "<matplotlib.figure.Figure at 0x7f53c1fdf810>"
      ]
     },
     "metadata": {},
     "output_type": "display_data"
    }
   ],
   "source": [
    "e.error(bins=50, rng=((0., 0.031), (0, 0.15)), yscale=\"log\")"
   ]
  },
  {
   "cell_type": "code",
   "execution_count": 34,
   "metadata": {
    "collapsed": false
   },
   "outputs": [
    {
     "name": "stdout",
     "output_type": "stream",
     "text": [
      "saving root file at /afs/cern.ch/work/l/llepotti/private/CMS/CMSSW_8_0_20/src/autoencodeSVJ/autoencode/module/autoencodeSVJ/SVJ_2000_0p3.root\n",
      "saving root file at /afs/cern.ch/work/l/llepotti/private/CMS/CMSSW_8_0_20/src/autoencodeSVJ/autoencode/module/autoencodeSVJ/QCD.root\n"
     ]
    },
    {
     "data": {
      "text/plain": [
       "{'/afs/cern.ch/work/l/llepotti/private/CMS/CMSSW_8_0_20/src/autoencodeSVJ/autoencode/module/autoencodeSVJ/QCD.root': [(array([  0,   0,   1,  27,  54,  45,  34,  36,  34,  27,  28,  31,  25,\n",
       "           59, 136, 237, 342, 488, 624, 665, 708, 658, 644, 564, 478, 378,\n",
       "          325, 260, 185, 128, 127,  93,  69,  45,  44,  33,  18,  31,  14,\n",
       "           10,   7,   9,   7,   7,   2,   2,   0,   3,   2,   3]),\n",
       "   array([    0.,    60.,   120.,   180.,   240.,   300.,   360.,   420.,\n",
       "            480.,   540.,   600.,   660.,   720.,   780.,   840.,   900.,\n",
       "            960.,  1020.,  1080.,  1140.,  1200.,  1260.,  1320.,  1380.,\n",
       "           1440.,  1500.,  1560.,  1620.,  1680.,  1740.,  1800.,  1860.,\n",
       "           1920.,  1980.,  2040.,  2100.,  2160.,  2220.,  2280.,  2340.,\n",
       "           2400.,  2460.,  2520.,  2580.,  2640.,  2700.,  2760.,  2820.,\n",
       "           2880.,  2940.,  3000.])),\n",
       "  (array([0, 0, 0, 1, 0, 4, 2, 0, 0, 0, 0, 0, 0, 0, 0, 1, 0, 0, 0, 0, 0, 1, 0,\n",
       "          0, 0, 0, 0, 0, 0, 0, 0, 0, 0, 0, 0, 0, 0, 0, 0, 0, 0, 0, 0, 0, 0, 0,\n",
       "          0, 0, 0, 0]),\n",
       "   array([    0.,    60.,   120.,   180.,   240.,   300.,   360.,   420.,\n",
       "            480.,   540.,   600.,   660.,   720.,   780.,   840.,   900.,\n",
       "            960.,  1020.,  1080.,  1140.,  1200.,  1260.,  1320.,  1380.,\n",
       "           1440.,  1500.,  1560.,  1620.,  1680.,  1740.,  1800.,  1860.,\n",
       "           1920.,  1980.,  2040.,  2100.,  2160.,  2220.,  2280.,  2340.,\n",
       "           2400.,  2460.,  2520.,  2580.,  2640.,  2700.,  2760.,  2820.,\n",
       "           2880.,  2940.,  3000.])),\n",
       "  (array([0, 0, 0, 0, 0, 0, 0, 0, 0, 0, 0, 0, 0, 0, 0, 0, 0, 0, 0, 0, 0, 0, 0,\n",
       "          0, 0, 0, 0, 0, 0, 0, 0, 0, 0, 0, 0, 0, 0, 0, 0, 0, 0, 0, 0, 0, 0, 0,\n",
       "          0, 0, 0, 0]),\n",
       "   array([    0.,    60.,   120.,   180.,   240.,   300.,   360.,   420.,\n",
       "            480.,   540.,   600.,   660.,   720.,   780.,   840.,   900.,\n",
       "            960.,  1020.,  1080.,  1140.,  1200.,  1260.,  1320.,  1380.,\n",
       "           1440.,  1500.,  1560.,  1620.,  1680.,  1740.,  1800.,  1860.,\n",
       "           1920.,  1980.,  2040.,  2100.,  2160.,  2220.,  2280.,  2340.,\n",
       "           2400.,  2460.,  2520.,  2580.,  2640.,  2700.,  2760.,  2820.,\n",
       "           2880.,  2940.,  3000.]))],\n",
       " '/afs/cern.ch/work/l/llepotti/private/CMS/CMSSW_8_0_20/src/autoencodeSVJ/autoencode/module/autoencodeSVJ/SVJ_2000_0p3.root': [(array([  0,   0,   0,   0,   0,   0,   0,   0,   0,   0,   0,   0,   0,\n",
       "            0,   0,   0,   0,   0,   0,   0,   0,   0,   0,   0,   0, 282,\n",
       "          282, 274, 237, 170, 149,  93,  57,  29,  18,  11,   3,   6,   5,\n",
       "            4,   4,   1,   2,   0,   0,   0,   0,   0,   0,   0]),\n",
       "   array([    0.,    60.,   120.,   180.,   240.,   300.,   360.,   420.,\n",
       "            480.,   540.,   600.,   660.,   720.,   780.,   840.,   900.,\n",
       "            960.,  1020.,  1080.,  1140.,  1200.,  1260.,  1320.,  1380.,\n",
       "           1440.,  1500.,  1560.,  1620.,  1680.,  1740.,  1800.,  1860.,\n",
       "           1920.,  1980.,  2040.,  2100.,  2160.,  2220.,  2280.,  2340.,\n",
       "           2400.,  2460.,  2520.,  2580.,  2640.,  2700.,  2760.,  2820.,\n",
       "           2880.,  2940.,  3000.])),\n",
       "  (array([  0,   0,   0,   0,   0,   0,   0,   0,   0,   0,   0,   0,   0,\n",
       "            0,   0,   0,   0,   0,   0,   0,   0,   0,   0,   0,   0, 865,\n",
       "          774, 717, 677, 603, 401, 296, 172, 103,  52,  37,  47,  26,  20,\n",
       "            9,   8,   7,   4,   5,   4,   6,   1,   1,   2,   1]),\n",
       "   array([    0.,    60.,   120.,   180.,   240.,   300.,   360.,   420.,\n",
       "            480.,   540.,   600.,   660.,   720.,   780.,   840.,   900.,\n",
       "            960.,  1020.,  1080.,  1140.,  1200.,  1260.,  1320.,  1380.,\n",
       "           1440.,  1500.,  1560.,  1620.,  1680.,  1740.,  1800.,  1860.,\n",
       "           1920.,  1980.,  2040.,  2100.,  2160.,  2220.,  2280.,  2340.,\n",
       "           2400.,  2460.,  2520.,  2580.,  2640.,  2700.,  2760.,  2820.,\n",
       "           2880.,  2940.,  3000.])),\n",
       "  (array([  0,   0,   0,   0,   0,   0,   0,   0,   0,   0,   0,   0,   0,\n",
       "            0,   0,   0,   0,   0,   0,   0,   0,   0,   0,   0,   0, 586,\n",
       "          567, 545, 454, 385, 310, 241, 161,  97,  41,  37,  28,  24,  15,\n",
       "           18,  15,   6,  13,   3,   7,   4,   1,   0,   2,   2]),\n",
       "   array([    0.,    60.,   120.,   180.,   240.,   300.,   360.,   420.,\n",
       "            480.,   540.,   600.,   660.,   720.,   780.,   840.,   900.,\n",
       "            960.,  1020.,  1080.,  1140.,  1200.,  1260.,  1320.,  1380.,\n",
       "           1440.,  1500.,  1560.,  1620.,  1680.,  1740.,  1800.,  1860.,\n",
       "           1920.,  1980.,  2040.,  2100.,  2160.,  2220.,  2280.,  2340.,\n",
       "           2400.,  2460.,  2520.,  2580.,  2640.,  2700.,  2760.,  2820.,\n",
       "           2880.,  2940.,  3000.]))]}"
      ]
     },
     "execution_count": 34,
     "metadata": {},
     "output_type": "execute_result"
    }
   ],
   "source": [
    "cuts = e.cut_at_threshold(0.005, metric='mse')\n",
    "e.fill_cuts(cuts)"
   ]
  },
  {
   "cell_type": "code",
   "execution_count": 28,
   "metadata": {
    "collapsed": false
   },
   "outputs": [
    {
     "name": "stdout",
     "output_type": "stream",
     "text": [
      "\u001b[0m\u001b[32mautoencode.py\u001b[0m  \u001b[00mmodels.pyc\u001b[0m          \u001b[00mTEST.h5\u001b[0m          \u001b[32mtrainer.py\u001b[0m\r\n",
      "\u001b[32mevaluate.py\u001b[0m    \u001b[00mqcd_2000_3.root\u001b[0m     \u001b[00mtest.json\u001b[0m        \u001b[00mtrainer.pyc\u001b[0m\r\n",
      "\u001b[32m__init__.py\u001b[0m    \u001b[00msignal_2000_3.root\u001b[0m  \u001b[32mtest.py\u001b[0m          \u001b[32mutils.py\u001b[0m\r\n",
      "\u001b[32mmodels.py\u001b[0m      \u001b[00mtemp.ipynb\u001b[0m          \u001b[00mtest_weights.h5\u001b[0m  \u001b[00mutils.pyc\u001b[0m\r\n"
     ]
    }
   ],
   "source": [
    "rm qcd_200"
   ]
  },
  {
   "cell_type": "code",
   "execution_count": 21,
   "metadata": {
    "collapsed": false
   },
   "outputs": [
    {
     "data": {
      "text/plain": [
       "u'/t3home/llepotti/CMSSW_8_0_20/src/autoencodeSVJ/autoencode/data/training_runs/eflow3_8_v0.h5'"
      ]
     },
     "execution_count": 21,
     "metadata": {},
     "output_type": "execute_result"
    }
   ],
   "source": [
    "summary = utils.summary()\n",
    "summary[summary.filename == 'eflow3_8_v0'].filepath.values[0] + \".h5\"\n"
   ]
  },
  {
   "cell_type": "code",
   "execution_count": 76,
   "metadata": {
    "collapsed": false
   },
   "outputs": [
    {
     "name": "stdout",
     "output_type": "stream",
     "text": [
      "\u001b[0m\u001b[00m../../data/training_runs/eflow3_8_v0.pkl\u001b[0m\r\n"
     ]
    }
   ],
   "source": [
    "ls ../../data/training_runs/eflow3_8_v0.pkl"
   ]
  },
  {
   "cell_type": "code",
   "execution_count": 60,
   "metadata": {
    "collapsed": false
   },
   "outputs": [
    {
     "name": "stdout",
     "output_type": "stream",
     "text": [
      "loaded pickle file with path '../../data/training_runs/eflow3_8_v0.pkl'\n"
     ]
    }
   ],
   "source": [
    "import h5py\n",
    "prefix = \"../../data/training_runs/eflow3_8_v0\"\n",
    "f = h5py.File(prefix + \".h5\")\n",
    "import autoencodeSVJ.trainer as tr\n",
    "new = tr.pkl_file(prefix)"
   ]
  },
  {
   "cell_type": "code",
   "execution_count": 61,
   "metadata": {
    "collapsed": false
   },
   "outputs": [],
   "source": [
    "params = f['params']\n",
    "config = dict(f['params']['config'])\n",
    "train = dict(params['training'])\n"
   ]
  },
  {
   "cell_type": "code",
   "execution_count": 65,
   "metadata": {
    "collapsed": false
   },
   "outputs": [],
   "source": [
    "config['trained'] = True\n",
    "\n",
    "for k in config:\n",
    "    new[k] = config[k]"
   ]
  },
  {
   "cell_type": "code",
   "execution_count": 67,
   "metadata": {
    "collapsed": false
   },
   "outputs": [
    {
     "data": {
      "text/plain": [
       "['name',\n",
       " 'epoch_splits',\n",
       " 'batch_size',\n",
       " 'epochs',\n",
       " 'trained',\n",
       " 'time',\n",
       " 'model_json']"
      ]
     },
     "execution_count": 67,
     "metadata": {},
     "output_type": "execute_result"
    }
   ],
   "source": []
  },
  {
   "cell_type": "code",
   "execution_count": 34,
   "metadata": {
    "collapsed": true
   },
   "outputs": [],
   "source": [
    "import os\n",
    "import collections\n",
    "import pickle\n",
    "from autoencodeSVJ.utils import smartpath\n",
    "\n",
    "\n",
    "class pkl(collections.MutableMapping):\n",
    "    \"\"\"Dictionary which saves all attributes to a .pkl file on access/altering\"\"\"\n",
    "\n",
    "    def __init__(self, path, *args, **kwargs):\n",
    "        \n",
    "        if not path.endswith(\".pkl\"):\n",
    "            path += \".pkl\"\n",
    "        \n",
    "        self.path = smartpath(path)\n",
    "        self.store = {}\n",
    "        \n",
    "        if os.path.exists(self.path):\n",
    "            try:\n",
    "                self.update_store()\n",
    "            except:\n",
    "                raise AttributeError(\"failed to load pickle file!\")\n",
    "                                \n",
    "        self.update_pkl()\n",
    "        \n",
    "        print \"loaded pickle file with path '{}'\".format(path)\n",
    "        \n",
    "    def __getitem__(self, key):\n",
    "        self.update_store()\n",
    "        return self.store[key]\n",
    "    \n",
    "    def __setitem__(self, key, value):\n",
    "        self.update_store()\n",
    "        self.store[key] = value\n",
    "        self.update_pkl()\n",
    "        \n",
    "    def __delitem__(self, key):\n",
    "        self.update_store()\n",
    "        del self.store[key]\n",
    "        self.update_pkl()\n",
    "    \n",
    "    def __iter__(self):\n",
    "        self.update_store()\n",
    "        return iter(self.store)\n",
    "    \n",
    "    def __len__(self):\n",
    "        self.update_store()\n",
    "        return len(self.store)\n",
    "    \n",
    "    def update_pkl(self):\n",
    "        with open(self.path, 'wb') as f:\n",
    "            pickle.dump(self.store, f, protocol=pickle.HIGHEST_PROTOCOL)\n",
    "\n",
    "    def update_store(self):\n",
    "        with open(self.path, 'rb') as f:\n",
    "            self.store.update(pickle.load(f))\n",
    "            \n",
    "    def __str__(self):\n",
    "        self.update_store()\n",
    "        return str(self.store)\n",
    "    \n",
    "    def __repr__(self): \n",
    "        self.update_store()\n",
    "        return \"pkl_file instance\\n\" + str(self) \n"
   ]
  },
  {
   "cell_type": "code",
   "execution_count": 71,
   "metadata": {
    "collapsed": false
   },
   "outputs": [
    {
     "name": "stdout",
     "output_type": "stream",
     "text": [
      "loaded json file with path '/afs/cern.ch/work/l/llepotti/private/CMS/CMSSW_8_0_20/src/autoencodeSVJ/autoencode/module/autoencodeSVJ/test.json'\n"
     ]
    }
   ],
   "source": [
    "%run trainer.py\n",
    "d = trainer('test')"
   ]
  },
  {
   "cell_type": "code",
   "execution_count": 56,
   "metadata": {
    "collapsed": false
   },
   "outputs": [
    {
     "name": "stdout",
     "output_type": "stream",
     "text": [
      "loaded json file with path '/afs/cern.ch/work/l/llepotti/private/CMS/CMSSW_8_0_20/src/autoencodeSVJ/autoencode/module/autoencodeSVJ/test.json'\n",
      "train_shell :: TRAINING EPOCH 0/30\n",
      "Train on 379 samples, validate on 127 samples\n",
      "Epoch 1/1\n",
      "379/379 [==============================] - 1s 2ms/step - loss: 98.8590 - val_loss: 92.3497\n",
      "train_shell :: TRAINING EPOCH 1/30\n",
      "Train on 379 samples, validate on 127 samples\n",
      "Epoch 2/2\n",
      "379/379 [==============================] - 0s 74us/step - loss: 90.8112 - val_loss: 85.4234\n",
      "train_shell :: TRAINING EPOCH 2/30\n",
      "Train on 379 samples, validate on 127 samples\n",
      "Epoch 3/3\n",
      "379/379 [==============================] - 0s 68us/step - loss: 84.3974 - val_loss: 80.0285\n",
      "train_shell :: TRAINING EPOCH 3/30\n",
      "Train on 379 samples, validate on 127 samples\n",
      "Epoch 4/4\n",
      "379/379 [==============================] - 0s 67us/step - loss: 79.7026 - val_loss: 76.4106\n",
      "train_shell :: TRAINING EPOCH 4/30\n",
      "Train on 379 samples, validate on 127 samples\n",
      "Epoch 5/5\n",
      "379/379 [==============================] - 0s 63us/step - loss: 76.5429 - val_loss: 73.9290\n",
      "train_shell :: TRAINING EPOCH 5/30\n",
      "Train on 379 samples, validate on 127 samples\n",
      "Epoch 6/6\n",
      "379/379 [==============================] - 0s 62us/step - loss: 74.3448 - val_loss: 72.1287\n",
      "train_shell :: TRAINING EPOCH 6/30\n",
      "Train on 379 samples, validate on 127 samples\n",
      "Epoch 7/7\n",
      "379/379 [==============================] - 0s 77us/step - loss: 72.7342 - val_loss: 70.8398\n",
      "train_shell :: TRAINING EPOCH 7/30\n",
      "Train on 379 samples, validate on 127 samples\n",
      "Epoch 8/8\n",
      "379/379 [==============================] - 0s 68us/step - loss: 71.5882 - val_loss: 69.8927\n",
      "train_shell :: TRAINING EPOCH 8/30\n",
      "Train on 379 samples, validate on 127 samples\n",
      "Epoch 9/9\n",
      "379/379 [==============================] - 0s 77us/step - loss: 70.7284 - val_loss: 69.2080\n",
      "train_shell :: TRAINING EPOCH 9/30\n",
      "Train on 379 samples, validate on 127 samples\n",
      "Epoch 10/10\n",
      "379/379 [==============================] - 0s 69us/step - loss: 70.0823 - val_loss: 68.6263\n",
      "train_shell :: TRAINING EPOCH 10/30\n",
      "Train on 379 samples, validate on 127 samples\n",
      "Epoch 11/11\n",
      "379/379 [==============================] - 0s 68us/step - loss: 69.5024 - val_loss: 68.0714\n",
      "train_shell :: TRAINING EPOCH 11/30\n",
      "Train on 379 samples, validate on 127 samples\n",
      "Epoch 12/12\n",
      "379/379 [==============================] - 0s 70us/step - loss: 68.9187 - val_loss: 67.4771\n",
      "train_shell :: TRAINING EPOCH 12/30\n",
      "Train on 379 samples, validate on 127 samples\n",
      "Epoch 13/13\n",
      "379/379 [==============================] - 0s 71us/step - loss: 68.2946 - val_loss: 66.7947\n",
      "train_shell :: TRAINING EPOCH 13/30\n",
      "Train on 379 samples, validate on 127 samples\n",
      "Epoch 14/14\n",
      "379/379 [==============================] - 0s 65us/step - loss: 67.6046 - val_loss: 66.1342\n",
      "train_shell :: TRAINING EPOCH 14/30\n",
      "Train on 379 samples, validate on 127 samples\n",
      "Epoch 15/15\n",
      "379/379 [==============================] - 0s 68us/step - loss: 66.9361 - val_loss: 65.4051\n",
      "train_shell :: TRAINING EPOCH 15/30\n",
      "Train on 379 samples, validate on 127 samples\n",
      "Epoch 16/16\n",
      "379/379 [==============================] - 0s 68us/step - loss: 66.2262 - val_loss: 64.6441\n",
      "train_shell :: TRAINING EPOCH 16/30\n",
      "Train on 379 samples, validate on 127 samples\n",
      "Epoch 17/17\n",
      "379/379 [==============================] - 0s 78us/step - loss: 65.4649 - val_loss: 63.8094\n",
      "train_shell :: TRAINING EPOCH 17/30\n",
      "Train on 379 samples, validate on 127 samples\n",
      "Epoch 18/18\n",
      "379/379 [==============================] - 0s 69us/step - loss: 64.6241 - val_loss: 62.9086\n",
      "train_shell :: TRAINING EPOCH 18/30\n",
      "Train on 379 samples, validate on 127 samples\n",
      "Epoch 19/19\n",
      "379/379 [==============================] - 0s 73us/step - loss: 63.7623 - val_loss: 61.9825\n",
      "train_shell :: TRAINING EPOCH 19/30\n",
      "Train on 379 samples, validate on 127 samples\n",
      "Epoch 20/20\n",
      "379/379 [==============================] - 0s 69us/step - loss: 62.8525 - val_loss: 61.0439\n",
      "train_shell :: TRAINING EPOCH 20/30\n",
      "Train on 379 samples, validate on 127 samples\n",
      "Epoch 21/21\n",
      "379/379 [==============================] - 0s 71us/step - loss: 61.9204 - val_loss: 60.1064\n",
      "train_shell :: TRAINING EPOCH 21/30\n",
      "Train on 379 samples, validate on 127 samples\n",
      "Epoch 22/22\n",
      "379/379 [==============================] - 0s 72us/step - loss: 60.9369 - val_loss: 59.0850\n",
      "train_shell :: TRAINING EPOCH 22/30\n",
      "Train on 379 samples, validate on 127 samples\n",
      "Epoch 23/23\n",
      "379/379 [==============================] - 0s 82us/step - loss: 59.9233 - val_loss: 58.1405\n",
      "train_shell :: TRAINING EPOCH 23/30\n",
      "Train on 379 samples, validate on 127 samples\n",
      "Epoch 24/24\n",
      "379/379 [==============================] - 0s 79us/step - loss: 58.9132 - val_loss: 57.0193\n",
      "train_shell :: TRAINING EPOCH 24/30\n",
      "Train on 379 samples, validate on 127 samples\n",
      "Epoch 25/25\n",
      "379/379 [==============================] - 0s 74us/step - loss: 57.7076 - val_loss: 55.6721\n",
      "train_shell :: TRAINING EPOCH 25/30\n",
      "Train on 379 samples, validate on 127 samples\n",
      "Epoch 26/26\n",
      "379/379 [==============================] - 0s 74us/step - loss: 56.2451 - val_loss: 54.1045\n",
      "train_shell :: TRAINING EPOCH 26/30\n",
      "Train on 379 samples, validate on 127 samples\n",
      "Epoch 27/27\n",
      "379/379 [==============================] - 0s 73us/step - loss: 54.7330 - val_loss: 52.5772\n",
      "train_shell :: TRAINING EPOCH 27/30\n",
      "Train on 379 samples, validate on 127 samples\n",
      "Epoch 28/28\n",
      "379/379 [==============================] - 0s 66us/step - loss: 52.9999 - val_loss: 50.5836\n",
      "train_shell :: TRAINING EPOCH 28/30\n",
      "Train on 379 samples, validate on 127 samples\n",
      "Epoch 29/29\n",
      "379/379 [==============================] - 0s 64us/step - loss: 50.7337 - val_loss: 48.0016\n",
      "train_shell :: TRAINING EPOCH 29/30\n",
      "Train on 379 samples, validate on 127 samples\n",
      "Epoch 30/30\n",
      "379/379 [==============================] - 0s 68us/step - loss: 47.7212 - val_loss: 44.5173\n",
      "EPOCH N: 30 30\n",
      "train_shell :: \n",
      "train_shell :: trained 30 epochs!\n",
      "train_shell :: \n",
      "finished epoch N 30\n",
      "prev [30]\n",
      "saving to path /afs/cern.ch/work/l/llepotti/private/CMS/CMSSW_8_0_20/src/autoencodeSVJ/autoencode/module/autoencodeSVJ/test_weights.h5\n",
      "train_shell :: model saved\n"
     ]
    },
    {
     "data": {
      "text/plain": [
       "<keras.engine.training.Model at 0x7f04c2a55550>"
      ]
     },
     "execution_count": 56,
     "metadata": {},
     "output_type": "execute_result"
    }
   ],
   "source": [
    "%run trainer.py\n",
    "t = trainer('test')\n",
    "\n",
    "train, test = train_test_split(data)\n",
    "ae = models.medium(n_features=len(data.columns), bn=3)\n",
    "ae.compile(optimizer='adam', loss='mse')\n",
    "\n",
    "\n",
    "t.train(\n",
    "    x_train=train.values,\n",
    "    y_train=train.values,\n",
    "    x_test=test.values,\n",
    "    y_test=test.values,\n",
    "    epochs=30,\n",
    "    loss='mae',\n",
    "    model=ae\n",
    ")\n"
   ]
  },
  {
   "cell_type": "code",
   "execution_count": 69,
   "metadata": {
    "collapsed": false
   },
   "outputs": [
    {
     "name": "stdout",
     "output_type": "stream",
     "text": [
      "train_shell :: using saved model\n",
      "train_shell :: TRAINING EPOCH 60/90\n",
      "Train on 379 samples, validate on 127 samples\n",
      "Epoch 61/61\n",
      "379/379 [==============================] - 1s 2ms/step - loss: 18.6181 - val_loss: 17.8679\n",
      "train_shell :: TRAINING EPOCH 61/90\n",
      "Train on 379 samples, validate on 127 samples\n",
      "Epoch 62/62\n",
      "379/379 [==============================] - 0s 76us/step - loss: 17.7374 - val_loss: 17.1912\n",
      "train_shell :: TRAINING EPOCH 62/90\n",
      "Train on 379 samples, validate on 127 samples\n",
      "Epoch 63/63\n",
      "379/379 [==============================] - 0s 75us/step - loss: 17.4430 - val_loss: 17.1777\n",
      "train_shell :: TRAINING EPOCH 63/90\n",
      "Train on 379 samples, validate on 127 samples\n",
      "Epoch 64/64\n",
      "379/379 [==============================] - 0s 73us/step - loss: 17.4660 - val_loss: 17.3022\n",
      "train_shell :: TRAINING EPOCH 64/90\n",
      "Train on 379 samples, validate on 127 samples\n",
      "Epoch 65/65\n",
      "379/379 [==============================] - 0s 76us/step - loss: 17.3902 - val_loss: 16.9865\n",
      "train_shell :: TRAINING EPOCH 65/90\n",
      "Train on 379 samples, validate on 127 samples\n",
      "Epoch 66/66\n",
      "379/379 [==============================] - 0s 71us/step - loss: 17.3919 - val_loss: 17.0705\n",
      "train_shell :: TRAINING EPOCH 66/90\n",
      "Train on 379 samples, validate on 127 samples\n",
      "Epoch 67/67\n",
      "379/379 [==============================] - 0s 77us/step - loss: 17.3202 - val_loss: 17.0936\n",
      "train_shell :: TRAINING EPOCH 67/90\n",
      "Train on 379 samples, validate on 127 samples\n",
      "Epoch 68/68\n",
      "379/379 [==============================] - 0s 76us/step - loss: 17.3496 - val_loss: 17.1678\n",
      "train_shell :: TRAINING EPOCH 68/90\n",
      "Train on 379 samples, validate on 127 samples\n",
      "Epoch 69/69\n",
      "379/379 [==============================] - 0s 76us/step - loss: 17.2936 - val_loss: 17.0878\n",
      "train_shell :: TRAINING EPOCH 69/90\n",
      "Train on 379 samples, validate on 127 samples\n",
      "Epoch 70/70\n",
      "379/379 [==============================] - 0s 65us/step - loss: 17.2985 - val_loss: 17.3472\n",
      "train_shell :: TRAINING EPOCH 70/90\n",
      "Train on 379 samples, validate on 127 samples\n",
      "Epoch 71/71\n",
      "379/379 [==============================] - 0s 65us/step - loss: 17.4221 - val_loss: 17.1875\n",
      "train_shell :: TRAINING EPOCH 71/90\n",
      "Train on 379 samples, validate on 127 samples\n",
      "Epoch 72/72\n",
      "379/379 [==============================] - 0s 65us/step - loss: 17.2671 - val_loss: 16.8907\n",
      "train_shell :: TRAINING EPOCH 72/90\n",
      "Train on 379 samples, validate on 127 samples\n",
      "Epoch 73/73\n",
      "379/379 [==============================] - 0s 66us/step - loss: 17.1709 - val_loss: 16.9303\n",
      "train_shell :: TRAINING EPOCH 73/90\n",
      "Train on 379 samples, validate on 127 samples\n",
      "Epoch 74/74\n",
      "379/379 [==============================] - 0s 64us/step - loss: 17.2948 - val_loss: 17.1006\n",
      "train_shell :: TRAINING EPOCH 74/90\n",
      "Train on 379 samples, validate on 127 samples\n",
      "Epoch 75/75\n",
      "379/379 [==============================] - 0s 71us/step - loss: 17.3757 - val_loss: 17.2246\n",
      "train_shell :: TRAINING EPOCH 75/90\n",
      "Train on 379 samples, validate on 127 samples\n",
      "Epoch 76/76\n",
      "379/379 [==============================] - 0s 71us/step - loss: 17.2676 - val_loss: 16.8789\n",
      "train_shell :: TRAINING EPOCH 76/90\n",
      "Train on 379 samples, validate on 127 samples\n",
      "Epoch 77/77\n",
      "379/379 [==============================] - 0s 70us/step - loss: 17.0947 - val_loss: 16.7933\n",
      "train_shell :: TRAINING EPOCH 77/90\n",
      "Train on 379 samples, validate on 127 samples\n",
      "Epoch 78/78\n",
      "379/379 [==============================] - 0s 76us/step - loss: 17.2479 - val_loss: 16.8184\n",
      "train_shell :: TRAINING EPOCH 78/90\n",
      "Train on 379 samples, validate on 127 samples\n",
      "Epoch 79/79\n",
      "379/379 [==============================] - 0s 74us/step - loss: 17.2027 - val_loss: 17.0383\n",
      "train_shell :: TRAINING EPOCH 79/90\n",
      "Train on 379 samples, validate on 127 samples\n",
      "Epoch 80/80\n",
      "379/379 [==============================] - 0s 68us/step - loss: 17.1814 - val_loss: 16.7618\n",
      "train_shell :: TRAINING EPOCH 80/90\n",
      "Train on 379 samples, validate on 127 samples\n",
      "Epoch 81/81\n",
      "379/379 [==============================] - 0s 68us/step - loss: 17.2931 - val_loss: 16.9739\n",
      "train_shell :: TRAINING EPOCH 81/90\n",
      "Train on 379 samples, validate on 127 samples\n",
      "Epoch 82/82\n",
      "379/379 [==============================] - 0s 64us/step - loss: 17.2193 - val_loss: 16.9392\n",
      "train_shell :: TRAINING EPOCH 82/90\n",
      "Train on 379 samples, validate on 127 samples\n",
      "Epoch 83/83\n",
      "379/379 [==============================] - 0s 65us/step - loss: 17.0753 - val_loss: 16.7830\n",
      "train_shell :: TRAINING EPOCH 83/90\n",
      "Train on 379 samples, validate on 127 samples\n",
      "Epoch 84/84\n",
      "379/379 [==============================] - 0s 66us/step - loss: 17.1291 - val_loss: 16.9926\n",
      "train_shell :: TRAINING EPOCH 84/90\n",
      "Train on 379 samples, validate on 127 samples\n",
      "Epoch 85/85\n",
      "379/379 [==============================] - 0s 77us/step - loss: 17.1662 - val_loss: 16.7968\n",
      "train_shell :: TRAINING EPOCH 85/90\n",
      "Train on 379 samples, validate on 127 samples\n",
      "Epoch 86/86\n",
      "379/379 [==============================] - 0s 69us/step - loss: 17.1262 - val_loss: 16.8450\n",
      "train_shell :: TRAINING EPOCH 86/90\n",
      "Train on 379 samples, validate on 127 samples\n",
      "Epoch 87/87\n",
      "379/379 [==============================] - 0s 63us/step - loss: 17.1344 - val_loss: 17.0578\n",
      "train_shell :: TRAINING EPOCH 87/90\n",
      "Train on 379 samples, validate on 127 samples\n",
      "Epoch 88/88\n",
      "379/379 [==============================] - 0s 67us/step - loss: 17.0922 - val_loss: 16.8525\n",
      "train_shell :: TRAINING EPOCH 88/90\n",
      "Train on 379 samples, validate on 127 samples\n",
      "Epoch 89/89\n",
      "379/379 [==============================] - 0s 68us/step - loss: 16.9669 - val_loss: 16.7169\n",
      "train_shell :: TRAINING EPOCH 89/90\n",
      "Train on 379 samples, validate on 127 samples\n",
      "Epoch 90/90\n",
      "379/379 [==============================] - 0s 64us/step - loss: 16.9770 - val_loss: 16.8144\n",
      "EPOCH N: 90 30\n",
      "train_shell :: \n",
      "train_shell :: trained 30 epochs!\n",
      "train_shell :: \n",
      "finished epoch N 90\n",
      "prev [30, 30, 30]\n",
      "saving to path /afs/cern.ch/work/l/llepotti/private/CMS/CMSSW_8_0_20/src/autoencodeSVJ/autoencode/module/autoencodeSVJ/test_weights.h5\n",
      "train_shell :: model saved\n"
     ]
    },
    {
     "data": {
      "text/plain": [
       "<keras.engine.training.Model at 0x7f04c0156ed0>"
      ]
     },
     "execution_count": 69,
     "metadata": {},
     "output_type": "execute_result"
    }
   ],
   "source": [
    "t.train(\n",
    "    x_train=train.values,\n",
    "    y_train=train.values,\n",
    "    x_test=test.values,\n",
    "    y_test=test.values,\n",
    "    epochs=30,\n",
    "    loss='mae',\n",
    ")"
   ]
  },
  {
   "cell_type": "code",
   "execution_count": 61,
   "metadata": {
    "collapsed": false
   },
   "outputs": [
    {
     "name": "stdout",
     "output_type": "stream",
     "text": [
      "train_shell :: using saved model\n"
     ]
    }
   ],
   "source": [
    "ae2 = d.load_model()"
   ]
  },
  {
   "cell_type": "code",
   "execution_count": 66,
   "metadata": {
    "collapsed": false
   },
   "outputs": [
    {
     "name": "stdout",
     "output_type": "stream",
     "text": [
      "train_shell :: using saved model\n"
     ]
    }
   ],
   "source": [
    "ae = t.load_model()"
   ]
  },
  {
   "cell_type": "code",
   "execution_count": 68,
   "metadata": {
    "collapsed": false
   },
   "outputs": [
    {
     "data": {
      "text/plain": [
       "True"
      ]
     },
     "execution_count": 68,
     "metadata": {},
     "output_type": "execute_result"
    }
   ],
   "source": []
  },
  {
   "cell_type": "code",
   "execution_count": 67,
   "metadata": {
    "collapsed": false
   },
   "outputs": [
    {
     "name": "stdout",
     "output_type": "stream",
     "text": [
      "loaded json file with path 'test.json'\n"
     ]
    }
   ],
   "source": [
    "import os\n",
    "import collections\n",
    "import json\n",
    "\n",
    "class json_file(collections.MutableMapping):\n",
    "    \"\"\"Dictionary which saves all attributes to a .json file on access/altering\"\"\"\n",
    "\n",
    "    def __init__(self, path, *args, **kwargs):\n",
    "        \n",
    "        if not path.endswith(\".json\"):\n",
    "            path += \".json\"\n",
    "        \n",
    "        self.path = smartpath(path)\n",
    "        self.store = {}\n",
    "        \n",
    "        if os.path.exists(self.path):\n",
    "            try:\n",
    "                self.update_store()\n",
    "            except:\n",
    "                raise AttributeError(\"failed to load json!\")\n",
    "                                \n",
    "        self.update_json()\n",
    "        \n",
    "        print \"loaded json file with path '{}'\".format(path)\n",
    "        \n",
    "    def __getitem__(self, key):\n",
    "        return self.store[key]\n",
    "    \n",
    "    def __setitem__(self, key, value):\n",
    "        if self.can_json(value):\n",
    "            self.store[key] = value\n",
    "            self.update_json()\n",
    "        else:\n",
    "            raise AttributeError(\"object with type '{}' is not json serializable!\".format(type(value)))\n",
    "        \n",
    "    def __delitem__(self, key):\n",
    "        del self.store[key]\n",
    "        self.update_json()\n",
    "    \n",
    "    def __iter__(self):\n",
    "        return iter(self.store)\n",
    "    \n",
    "    def __len__(self):\n",
    "        return len(self.store)\n",
    "    \n",
    "    def update_json(self):\n",
    "        with open(self.path, 'w+') as f:\n",
    "            json.dump(self.store, f)\n",
    "\n",
    "    def update_store(self):\n",
    "        with open(self.path, 'r') as f:\n",
    "            self.store.update(json.load(f))\n",
    "            \n",
    "    def __str__(self):\n",
    "        return str(self.store)\n",
    "    \n",
    "    def __repr__(self): \n",
    "        return \"json_file instance\\n\" + str(self) \n",
    "    \n",
    "    def can_json(self, value):\n",
    "        try:\n",
    "            json.dumps(value)\n",
    "            return True\n",
    "        except (TypeError, OverflowError):\n",
    "            return False\n",
    "        \n",
    "k = json_file(\"test\")"
   ]
  },
  {
   "cell_type": "code",
   "execution_count": 68,
   "metadata": {
    "collapsed": false
   },
   "outputs": [],
   "source": [
    "d['time'] = {\"nice\": 1, \"not nice\": 2}"
   ]
  },
  {
   "cell_type": "code",
   "execution_count": 75,
   "metadata": {
    "collapsed": false
   },
   "outputs": [
    {
     "ename": "AttributeError",
     "evalue": "object with type '<type 'numpy.ndarray'>' is not json serializable!",
     "output_type": "error",
     "traceback": [
      "\u001b[0;31m---------------------------------------------------------------------------\u001b[0m",
      "\u001b[0;31mAttributeError\u001b[0m                            Traceback (most recent call last)",
      "\u001b[0;32m<ipython-input-75-4b24eba7e705>\u001b[0m in \u001b[0;36m<module>\u001b[0;34m()\u001b[0m\n\u001b[0;32m----> 1\u001b[0;31m \u001b[0mk\u001b[0m\u001b[0;34m[\u001b[0m\u001b[0;36m10\u001b[0m\u001b[0;34m]\u001b[0m \u001b[0;34m=\u001b[0m \u001b[0mnp\u001b[0m\u001b[0;34m.\u001b[0m\u001b[0masarray\u001b[0m\u001b[0;34m(\u001b[0m\u001b[0;34m[\u001b[0m\u001b[0;36m0\u001b[0m\u001b[0;34m,\u001b[0m\u001b[0;36m1\u001b[0m\u001b[0;34m]\u001b[0m\u001b[0;34m)\u001b[0m\u001b[0;34m\u001b[0m\u001b[0m\n\u001b[0m",
      "\u001b[0;32m<ipython-input-67-1c9eea0c2df4>\u001b[0m in \u001b[0;36m__setitem__\u001b[0;34m(self, key, value)\u001b[0m\n\u001b[1;32m     32\u001b[0m             \u001b[0mself\u001b[0m\u001b[0;34m.\u001b[0m\u001b[0mupdate_json\u001b[0m\u001b[0;34m(\u001b[0m\u001b[0;34m)\u001b[0m\u001b[0;34m\u001b[0m\u001b[0m\n\u001b[1;32m     33\u001b[0m         \u001b[0;32melse\u001b[0m\u001b[0;34m:\u001b[0m\u001b[0;34m\u001b[0m\u001b[0m\n\u001b[0;32m---> 34\u001b[0;31m             \u001b[0;32mraise\u001b[0m \u001b[0mAttributeError\u001b[0m\u001b[0;34m(\u001b[0m\u001b[0;34m\"object with type '{}' is not json serializable!\"\u001b[0m\u001b[0;34m.\u001b[0m\u001b[0mformat\u001b[0m\u001b[0;34m(\u001b[0m\u001b[0mtype\u001b[0m\u001b[0;34m(\u001b[0m\u001b[0mvalue\u001b[0m\u001b[0;34m)\u001b[0m\u001b[0;34m)\u001b[0m\u001b[0;34m)\u001b[0m\u001b[0;34m\u001b[0m\u001b[0m\n\u001b[0m\u001b[1;32m     35\u001b[0m \u001b[0;34m\u001b[0m\u001b[0m\n\u001b[1;32m     36\u001b[0m     \u001b[0;32mdef\u001b[0m \u001b[0m__delitem__\u001b[0m\u001b[0;34m(\u001b[0m\u001b[0mself\u001b[0m\u001b[0;34m,\u001b[0m \u001b[0mkey\u001b[0m\u001b[0;34m)\u001b[0m\u001b[0;34m:\u001b[0m\u001b[0;34m\u001b[0m\u001b[0m\n",
      "\u001b[0;31mAttributeError\u001b[0m: object with type '<type 'numpy.ndarray'>' is not json serializable!"
     ]
    }
   ],
   "source": [
    "k[10] = np.asarray([0,1])"
   ]
  },
  {
   "cell_type": "code",
   "execution_count": 85,
   "metadata": {
    "collapsed": false
   },
   "outputs": [
    {
     "data": {
      "text/plain": [
       "(10, 40, 4)"
      ]
     },
     "execution_count": 85,
     "metadata": {},
     "output_type": "execute_result"
    }
   ],
   "source": [
    "np.asarray(k['sav_list']).shape"
   ]
  },
  {
   "cell_type": "code",
   "execution_count": null,
   "metadata": {
    "collapsed": true
   },
   "outputs": [],
   "source": []
  }
 ],
 "metadata": {
  "kernelspec": {
   "display_name": "Python 2",
   "language": "python",
   "name": "python2"
  },
  "language_info": {
   "codemirror_mode": {
    "name": "ipython",
    "version": 2
   },
   "file_extension": ".py",
   "mimetype": "text/x-python",
   "name": "python",
   "nbconvert_exporter": "python",
   "pygments_lexer": "ipython2",
   "version": "2.7.13"
  }
 },
 "nbformat": 4,
 "nbformat_minor": 0
}
