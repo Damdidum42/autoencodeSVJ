{
 "cells": [
  {
   "cell_type": "code",
   "execution_count": 2,
   "metadata": {
    "collapsed": false
   },
   "outputs": [
    {
     "name": "stderr",
     "output_type": "stream",
     "text": [
      "Using TensorFlow backend.\n"
     ]
    },
    {
     "name": "stdout",
     "output_type": "stream",
     "text": [
      "\n"
     ]
    }
   ],
   "source": [
    "import autoencodeSVJ.utils as utils\n",
    "# import autoencode.trainer as trainer\n",
    "import autoencodeSVJ.evaluate as ev"
   ]
  },
  {
   "cell_type": "code",
   "execution_count": 3,
   "metadata": {
    "collapsed": false
   },
   "outputs": [
    {
     "name": "stdout",
     "output_type": "stream",
     "text": [
      "target_dim 7, lr 0.00390093971898: training under filename 'hlf_eflow3_7_v160'\n",
      "0.85735291109\n",
      "target_dim 7, lr 0.0444290205142: training under filename 'hlf_eflow3_7_v161'\n",
      "0.760918632768\n",
      "target_dim 7, lr 0.000701048068148: training under filename 'hlf_eflow3_7_v162'\n",
      "0.808148821521\n",
      "target_dim 7, lr 0.00767302907486: training under filename 'hlf_eflow3_7_v163'\n",
      "0.801318829374\n",
      "target_dim 7, lr 0.000310696303359: training under filename 'hlf_eflow3_7_v164'\n",
      "0.87402964351\n",
      "target_dim 7, lr 0.000975347042202: training under filename 'hlf_eflow3_7_v165'\n",
      "0.786768618025\n",
      "target_dim 7, lr 0.00133104939126: training under filename 'hlf_eflow3_7_v166'\n",
      "0.794897389601\n",
      "target_dim 7, lr 0.000659081400903: training under filename 'hlf_eflow3_7_v167'\n",
      "0.820278836651\n",
      "target_dim 7, lr 0.00479595716619: training under filename 'hlf_eflow3_7_v168'\n"
     ]
    },
    {
     "ename": "KeyboardInterrupt",
     "evalue": "",
     "output_type": "error",
     "traceback": [
      "\u001b[0;31m---------------------------------------------------------------------------\u001b[0m",
      "\u001b[0;31mKeyboardInterrupt\u001b[0m                         Traceback (most recent call last)",
      "\u001b[0;32m<ipython-input-3-df2ccba9c2b1>\u001b[0m in \u001b[0;36m<module>\u001b[0;34m()\u001b[0m\n\u001b[1;32m     15\u001b[0m         \u001b[0mverbose\u001b[0m\u001b[0;34m=\u001b[0m\u001b[0mFalse\u001b[0m\u001b[0;34m,\u001b[0m\u001b[0;34m\u001b[0m\u001b[0m\n\u001b[1;32m     16\u001b[0m         \u001b[0mbatch_size\u001b[0m\u001b[0;34m=\u001b[0m\u001b[0;36m32\u001b[0m\u001b[0;34m,\u001b[0m\u001b[0;34m\u001b[0m\u001b[0m\n\u001b[0;32m---> 17\u001b[0;31m         \u001b[0mlearning_rate\u001b[0m\u001b[0;34m=\u001b[0m\u001b[0mlr\u001b[0m\u001b[0;34m,\u001b[0m\u001b[0;34m\u001b[0m\u001b[0m\n\u001b[0m\u001b[1;32m     18\u001b[0m     )\n\u001b[1;32m     19\u001b[0m     \u001b[0;32mprint\u001b[0m \u001b[0mauc\u001b[0m\u001b[0;34m\u001b[0m\u001b[0m\n",
      "\u001b[0;32m/afs/cern.ch/user/l/llepotti/.local/lib/python2.7/site-packages/autoencodeSVJ/evaluate.pyc\u001b[0m in \u001b[0;36mae_train\u001b[0;34m(signal_path, qcd_path, target_dim, hlf, eflow, version, seed, test_split, val_split, norm_args, train_me, batch_size, loss, optimizer, epochs, learning_rate, custom_objects, interm_architecture, output_data_path, verbose, hlf_to_drop)\u001b[0m\n\u001b[1;32m    634\u001b[0m             \u001b[0mcustom_objects\u001b[0m\u001b[0;34m=\u001b[0m\u001b[0mcustom_objects\u001b[0m\u001b[0;34m,\u001b[0m\u001b[0;34m\u001b[0m\u001b[0m\n\u001b[1;32m    635\u001b[0m             \u001b[0mverbose\u001b[0m\u001b[0;34m=\u001b[0m\u001b[0mint\u001b[0m\u001b[0;34m(\u001b[0m\u001b[0mverbose\u001b[0m\u001b[0;34m)\u001b[0m\u001b[0;34m,\u001b[0m\u001b[0;34m\u001b[0m\u001b[0m\n\u001b[0;32m--> 636\u001b[0;31m             \u001b[0;34m**\u001b[0m\u001b[0mtrain_args\u001b[0m\u001b[0;34m\u001b[0m\u001b[0m\n\u001b[0m\u001b[1;32m    637\u001b[0m         )\n\u001b[1;32m    638\u001b[0m     \u001b[0;32melse\u001b[0m\u001b[0;34m:\u001b[0m\u001b[0;34m\u001b[0m\u001b[0m\n",
      "\u001b[0;32m/afs/cern.ch/user/l/llepotti/.local/lib/python2.7/site-packages/autoencodeSVJ/trainer.pyc\u001b[0m in \u001b[0;36mtrain\u001b[0;34m(self, x_train, y_train, x_test, y_test, model, epochs, batch_size, force, metrics, loss, loss_weights, optimizer, verbose, use_callbacks, learning_rate, custom_objects, compile_me)\u001b[0m\n\u001b[1;32m    309\u001b[0m                 \u001b[0mverbose\u001b[0m\u001b[0;34m=\u001b[0m\u001b[0mverbose\u001b[0m\u001b[0;34m,\u001b[0m\u001b[0;34m\u001b[0m\u001b[0m\n\u001b[1;32m    310\u001b[0m                 \u001b[0mcallbacks\u001b[0m\u001b[0;34m=\u001b[0m\u001b[0mcallbacks\u001b[0m\u001b[0;34m,\u001b[0m\u001b[0;34m\u001b[0m\u001b[0m\n\u001b[0;32m--> 311\u001b[0;31m                         \u001b[0mbatch_size\u001b[0m\u001b[0;34m=\u001b[0m\u001b[0mbatch_size\u001b[0m\u001b[0;34m,\u001b[0m\u001b[0;34m\u001b[0m\u001b[0m\n\u001b[0m\u001b[1;32m    312\u001b[0m             ).history\n\u001b[1;32m    313\u001b[0m \u001b[0;34m\u001b[0m\u001b[0m\n",
      "\u001b[0;32m/cvmfs/sft.cern.ch/lcg/views/LCG_93/x86_64-centos7-gcc7-opt/lib/python2.7/site-packages/keras/engine/training.pyc\u001b[0m in \u001b[0;36mfit\u001b[0;34m(self, x, y, batch_size, epochs, verbose, callbacks, validation_split, validation_data, shuffle, class_weight, sample_weight, initial_epoch, steps_per_epoch, validation_steps, **kwargs)\u001b[0m\n\u001b[1;32m   1648\u001b[0m                               \u001b[0minitial_epoch\u001b[0m\u001b[0;34m=\u001b[0m\u001b[0minitial_epoch\u001b[0m\u001b[0;34m,\u001b[0m\u001b[0;34m\u001b[0m\u001b[0m\n\u001b[1;32m   1649\u001b[0m                               \u001b[0msteps_per_epoch\u001b[0m\u001b[0;34m=\u001b[0m\u001b[0msteps_per_epoch\u001b[0m\u001b[0;34m,\u001b[0m\u001b[0;34m\u001b[0m\u001b[0m\n\u001b[0;32m-> 1650\u001b[0;31m                               validation_steps=validation_steps)\n\u001b[0m\u001b[1;32m   1651\u001b[0m \u001b[0;34m\u001b[0m\u001b[0m\n\u001b[1;32m   1652\u001b[0m     def evaluate(self, x=None, y=None,\n",
      "\u001b[0;32m/cvmfs/sft.cern.ch/lcg/views/LCG_93/x86_64-centos7-gcc7-opt/lib/python2.7/site-packages/keras/engine/training.pyc\u001b[0m in \u001b[0;36m_fit_loop\u001b[0;34m(self, f, ins, out_labels, batch_size, epochs, verbose, callbacks, val_f, val_ins, shuffle, callback_metrics, initial_epoch, steps_per_epoch, validation_steps)\u001b[0m\n\u001b[1;32m   1211\u001b[0m                     \u001b[0mbatch_logs\u001b[0m\u001b[0;34m[\u001b[0m\u001b[0;34m'size'\u001b[0m\u001b[0;34m]\u001b[0m \u001b[0;34m=\u001b[0m \u001b[0mlen\u001b[0m\u001b[0;34m(\u001b[0m\u001b[0mbatch_ids\u001b[0m\u001b[0;34m)\u001b[0m\u001b[0;34m\u001b[0m\u001b[0m\n\u001b[1;32m   1212\u001b[0m                     \u001b[0mcallbacks\u001b[0m\u001b[0;34m.\u001b[0m\u001b[0mon_batch_begin\u001b[0m\u001b[0;34m(\u001b[0m\u001b[0mbatch_index\u001b[0m\u001b[0;34m,\u001b[0m \u001b[0mbatch_logs\u001b[0m\u001b[0;34m)\u001b[0m\u001b[0;34m\u001b[0m\u001b[0m\n\u001b[0;32m-> 1213\u001b[0;31m                     \u001b[0mouts\u001b[0m \u001b[0;34m=\u001b[0m \u001b[0mf\u001b[0m\u001b[0;34m(\u001b[0m\u001b[0mins_batch\u001b[0m\u001b[0;34m)\u001b[0m\u001b[0;34m\u001b[0m\u001b[0m\n\u001b[0m\u001b[1;32m   1214\u001b[0m                     \u001b[0;32mif\u001b[0m \u001b[0;32mnot\u001b[0m \u001b[0misinstance\u001b[0m\u001b[0;34m(\u001b[0m\u001b[0mouts\u001b[0m\u001b[0;34m,\u001b[0m \u001b[0mlist\u001b[0m\u001b[0;34m)\u001b[0m\u001b[0;34m:\u001b[0m\u001b[0;34m\u001b[0m\u001b[0m\n\u001b[1;32m   1215\u001b[0m                         \u001b[0mouts\u001b[0m \u001b[0;34m=\u001b[0m \u001b[0;34m[\u001b[0m\u001b[0mouts\u001b[0m\u001b[0;34m]\u001b[0m\u001b[0;34m\u001b[0m\u001b[0m\n",
      "\u001b[0;32m/cvmfs/sft.cern.ch/lcg/views/LCG_93/x86_64-centos7-gcc7-opt/lib/python2.7/site-packages/keras/backend/tensorflow_backend.pyc\u001b[0m in \u001b[0;36m__call__\u001b[0;34m(self, inputs)\u001b[0m\n\u001b[1;32m   2350\u001b[0m         \u001b[0msession\u001b[0m \u001b[0;34m=\u001b[0m \u001b[0mget_session\u001b[0m\u001b[0;34m(\u001b[0m\u001b[0;34m)\u001b[0m\u001b[0;34m\u001b[0m\u001b[0m\n\u001b[1;32m   2351\u001b[0m         updated = session.run(fetches=fetches, feed_dict=feed_dict,\n\u001b[0;32m-> 2352\u001b[0;31m                               **self.session_kwargs)\n\u001b[0m\u001b[1;32m   2353\u001b[0m         \u001b[0;32mreturn\u001b[0m \u001b[0mupdated\u001b[0m\u001b[0;34m[\u001b[0m\u001b[0;34m:\u001b[0m\u001b[0mlen\u001b[0m\u001b[0;34m(\u001b[0m\u001b[0mself\u001b[0m\u001b[0;34m.\u001b[0m\u001b[0moutputs\u001b[0m\u001b[0;34m)\u001b[0m\u001b[0;34m]\u001b[0m\u001b[0;34m\u001b[0m\u001b[0m\n\u001b[1;32m   2354\u001b[0m \u001b[0;34m\u001b[0m\u001b[0m\n",
      "\u001b[0;32m/cvmfs/sft.cern.ch/lcg/views/LCG_93/x86_64-centos7-gcc7-opt/lib/python2.7/site-packages/tensorflow/python/client/session.pyc\u001b[0m in \u001b[0;36mrun\u001b[0;34m(self, fetches, feed_dict, options, run_metadata)\u001b[0m\n\u001b[1;32m    887\u001b[0m     \u001b[0;32mtry\u001b[0m\u001b[0;34m:\u001b[0m\u001b[0;34m\u001b[0m\u001b[0m\n\u001b[1;32m    888\u001b[0m       result = self._run(None, fetches, feed_dict, options_ptr,\n\u001b[0;32m--> 889\u001b[0;31m                          run_metadata_ptr)\n\u001b[0m\u001b[1;32m    890\u001b[0m       \u001b[0;32mif\u001b[0m \u001b[0mrun_metadata\u001b[0m\u001b[0;34m:\u001b[0m\u001b[0;34m\u001b[0m\u001b[0m\n\u001b[1;32m    891\u001b[0m         \u001b[0mproto_data\u001b[0m \u001b[0;34m=\u001b[0m \u001b[0mtf_session\u001b[0m\u001b[0;34m.\u001b[0m\u001b[0mTF_GetBuffer\u001b[0m\u001b[0;34m(\u001b[0m\u001b[0mrun_metadata_ptr\u001b[0m\u001b[0;34m)\u001b[0m\u001b[0;34m\u001b[0m\u001b[0m\n",
      "\u001b[0;32m/cvmfs/sft.cern.ch/lcg/views/LCG_93/x86_64-centos7-gcc7-opt/lib/python2.7/site-packages/tensorflow/python/client/session.pyc\u001b[0m in \u001b[0;36m_run\u001b[0;34m(self, handle, fetches, feed_dict, options, run_metadata)\u001b[0m\n\u001b[1;32m   1118\u001b[0m     \u001b[0;32mif\u001b[0m \u001b[0mfinal_fetches\u001b[0m \u001b[0;32mor\u001b[0m \u001b[0mfinal_targets\u001b[0m \u001b[0;32mor\u001b[0m \u001b[0;34m(\u001b[0m\u001b[0mhandle\u001b[0m \u001b[0;32mand\u001b[0m \u001b[0mfeed_dict_tensor\u001b[0m\u001b[0;34m)\u001b[0m\u001b[0;34m:\u001b[0m\u001b[0;34m\u001b[0m\u001b[0m\n\u001b[1;32m   1119\u001b[0m       results = self._do_run(handle, final_targets, final_fetches,\n\u001b[0;32m-> 1120\u001b[0;31m                              feed_dict_tensor, options, run_metadata)\n\u001b[0m\u001b[1;32m   1121\u001b[0m     \u001b[0;32melse\u001b[0m\u001b[0;34m:\u001b[0m\u001b[0;34m\u001b[0m\u001b[0m\n\u001b[1;32m   1122\u001b[0m       \u001b[0mresults\u001b[0m \u001b[0;34m=\u001b[0m \u001b[0;34m[\u001b[0m\u001b[0;34m]\u001b[0m\u001b[0;34m\u001b[0m\u001b[0m\n",
      "\u001b[0;32m/cvmfs/sft.cern.ch/lcg/views/LCG_93/x86_64-centos7-gcc7-opt/lib/python2.7/site-packages/tensorflow/python/client/session.pyc\u001b[0m in \u001b[0;36m_do_run\u001b[0;34m(self, handle, target_list, fetch_list, feed_dict, options, run_metadata)\u001b[0m\n\u001b[1;32m   1315\u001b[0m     \u001b[0;32mif\u001b[0m \u001b[0mhandle\u001b[0m \u001b[0;32mis\u001b[0m \u001b[0mNone\u001b[0m\u001b[0;34m:\u001b[0m\u001b[0;34m\u001b[0m\u001b[0m\n\u001b[1;32m   1316\u001b[0m       return self._do_call(_run_fn, self._session, feeds, fetches, targets,\n\u001b[0;32m-> 1317\u001b[0;31m                            options, run_metadata)\n\u001b[0m\u001b[1;32m   1318\u001b[0m     \u001b[0;32melse\u001b[0m\u001b[0;34m:\u001b[0m\u001b[0;34m\u001b[0m\u001b[0m\n\u001b[1;32m   1319\u001b[0m       \u001b[0;32mreturn\u001b[0m \u001b[0mself\u001b[0m\u001b[0;34m.\u001b[0m\u001b[0m_do_call\u001b[0m\u001b[0;34m(\u001b[0m\u001b[0m_prun_fn\u001b[0m\u001b[0;34m,\u001b[0m \u001b[0mself\u001b[0m\u001b[0;34m.\u001b[0m\u001b[0m_session\u001b[0m\u001b[0;34m,\u001b[0m \u001b[0mhandle\u001b[0m\u001b[0;34m,\u001b[0m \u001b[0mfeeds\u001b[0m\u001b[0;34m,\u001b[0m \u001b[0mfetches\u001b[0m\u001b[0;34m)\u001b[0m\u001b[0;34m\u001b[0m\u001b[0m\n",
      "\u001b[0;32m/cvmfs/sft.cern.ch/lcg/views/LCG_93/x86_64-centos7-gcc7-opt/lib/python2.7/site-packages/tensorflow/python/client/session.pyc\u001b[0m in \u001b[0;36m_do_call\u001b[0;34m(self, fn, *args)\u001b[0m\n\u001b[1;32m   1321\u001b[0m   \u001b[0;32mdef\u001b[0m \u001b[0m_do_call\u001b[0m\u001b[0;34m(\u001b[0m\u001b[0mself\u001b[0m\u001b[0;34m,\u001b[0m \u001b[0mfn\u001b[0m\u001b[0;34m,\u001b[0m \u001b[0;34m*\u001b[0m\u001b[0margs\u001b[0m\u001b[0;34m)\u001b[0m\u001b[0;34m:\u001b[0m\u001b[0;34m\u001b[0m\u001b[0m\n\u001b[1;32m   1322\u001b[0m     \u001b[0;32mtry\u001b[0m\u001b[0;34m:\u001b[0m\u001b[0;34m\u001b[0m\u001b[0m\n\u001b[0;32m-> 1323\u001b[0;31m       \u001b[0;32mreturn\u001b[0m \u001b[0mfn\u001b[0m\u001b[0;34m(\u001b[0m\u001b[0;34m*\u001b[0m\u001b[0margs\u001b[0m\u001b[0;34m)\u001b[0m\u001b[0;34m\u001b[0m\u001b[0m\n\u001b[0m\u001b[1;32m   1324\u001b[0m     \u001b[0;32mexcept\u001b[0m \u001b[0merrors\u001b[0m\u001b[0;34m.\u001b[0m\u001b[0mOpError\u001b[0m \u001b[0;32mas\u001b[0m \u001b[0me\u001b[0m\u001b[0;34m:\u001b[0m\u001b[0;34m\u001b[0m\u001b[0m\n\u001b[1;32m   1325\u001b[0m       \u001b[0mmessage\u001b[0m \u001b[0;34m=\u001b[0m \u001b[0mcompat\u001b[0m\u001b[0;34m.\u001b[0m\u001b[0mas_text\u001b[0m\u001b[0;34m(\u001b[0m\u001b[0me\u001b[0m\u001b[0;34m.\u001b[0m\u001b[0mmessage\u001b[0m\u001b[0;34m)\u001b[0m\u001b[0;34m\u001b[0m\u001b[0m\n",
      "\u001b[0;32m/cvmfs/sft.cern.ch/lcg/views/LCG_93/x86_64-centos7-gcc7-opt/lib/python2.7/site-packages/tensorflow/python/client/session.pyc\u001b[0m in \u001b[0;36m_run_fn\u001b[0;34m(session, feed_dict, fetch_list, target_list, options, run_metadata)\u001b[0m\n\u001b[1;32m   1300\u001b[0m           return tf_session.TF_Run(session, options,\n\u001b[1;32m   1301\u001b[0m                                    \u001b[0mfeed_dict\u001b[0m\u001b[0;34m,\u001b[0m \u001b[0mfetch_list\u001b[0m\u001b[0;34m,\u001b[0m \u001b[0mtarget_list\u001b[0m\u001b[0;34m,\u001b[0m\u001b[0;34m\u001b[0m\u001b[0m\n\u001b[0;32m-> 1302\u001b[0;31m                                    status, run_metadata)\n\u001b[0m\u001b[1;32m   1303\u001b[0m \u001b[0;34m\u001b[0m\u001b[0m\n\u001b[1;32m   1304\u001b[0m     \u001b[0;32mdef\u001b[0m \u001b[0m_prun_fn\u001b[0m\u001b[0;34m(\u001b[0m\u001b[0msession\u001b[0m\u001b[0;34m,\u001b[0m \u001b[0mhandle\u001b[0m\u001b[0;34m,\u001b[0m \u001b[0mfeed_dict\u001b[0m\u001b[0;34m,\u001b[0m \u001b[0mfetch_list\u001b[0m\u001b[0;34m)\u001b[0m\u001b[0;34m:\u001b[0m\u001b[0;34m\u001b[0m\u001b[0m\n",
      "\u001b[0;31mKeyboardInterrupt\u001b[0m: "
     ]
    }
   ],
   "source": [
    "import glob\n",
    "import numpy as np\n",
    "\n",
    "signal_dir = 'data/all_signals'\n",
    "signals = glob.glob('{}/*'.format(signal_dir))\n",
    "dim = 7\n",
    "for i in range(100):\n",
    "    mu, sigma = 0.002, 0.95\n",
    "    lr = np.random.lognormal(np.log(mu), sigma)\n",
    "    print 'target_dim {}, lr {}:'.format(dim, lr),\n",
    "    auc = ev.ae_train(\n",
    "        signal_path='data/all_signals/3000GeV_0.30/base_3/*.h5',\n",
    "        qcd_path='data/background/base_3/*.h5',\n",
    "        target_dim=dim,\n",
    "        verbose=False,\n",
    "        batch_size=32,\n",
    "        learning_rate=lr,\n",
    "    )\n",
    "    print auc"
   ]
  },
  {
   "cell_type": "code",
   "execution_count": 6,
   "metadata": {
    "collapsed": false
   },
   "outputs": [],
   "source": [
    "data, jets, event, flavor = utils.load_all_data(\"data/background/base_3/*.h5\", name='QCD')"
   ]
  },
  {
   "cell_type": "code",
   "execution_count": 49,
   "metadata": {
    "collapsed": false
   },
   "outputs": [
    {
     "name": "stdout",
     "output_type": "stream",
     "text": [
      "Help on function load in module energyflow.datasets.qg_jets:\n",
      "\n",
      "load(num_data=100000, generator='pythia', pad=True, with_bc=False, cache_dir='~/.energyflow')\n",
      "    Loads samples from the dataset (which in total is contained in twenty \n",
      "    files). Any file that is needed that has not been cached will be \n",
      "    automatically downloaded. Downloading a file causes it to be cached for\n",
      "    later use. Basic checksums are performed.\n",
      "    \n",
      "    **Arguments**\n",
      "    \n",
      "    - **num_data** : _int_\n",
      "        - The number of events to return. A value of `-1` means read in all\n",
      "        events.\n",
      "    - **generator** : _str_\n",
      "        - Specifies which Monte Carlo generator the events should come from.\n",
      "        Currently, the options are `'pythia'` and `'herwig'`.\n",
      "    - **pad** : _bool_\n",
      "        - Whether to pad the events with zeros to make them the same length.\n",
      "        Note that if set to `False`, the returned `X` array will be an object\n",
      "        array and not a 3-d array of floats.\n",
      "    - **with_bc** : _bool_\n",
      "        - Whether to include jets coming from bottom or charm quarks. Changing\n",
      "        this flag does not mask out these jets but rather accesses an entirely\n",
      "        different dataset. The datasets with and without b and c quarks should\n",
      "        not be combined.\n",
      "    - **cache_dir** : _str_\n",
      "        - The directory where to store/look for the files. Note that \n",
      "        `'datasets'` is automatically appended to the end of this path.\n",
      "    \n",
      "    **Returns**\n",
      "    \n",
      "    - _3-d numpy.ndarray_, _1-d numpy.ndarray_\n",
      "        - The `X` and `y` components of the dataset as specified above. If\n",
      "        `pad` is `False` then these will be object arrays holding the events,\n",
      "        each of which is a 2-d ndarray.\n",
      "\n"
     ]
    }
   ],
   "source": [
    "import energyflow as ef\n",
    "\n",
    "help(ef.datasets.qg_jets.load)"
   ]
  },
  {
   "cell_type": "code",
   "execution_count": 36,
   "metadata": {
    "collapsed": false
   },
   "outputs": [
    {
     "data": {
      "text/html": [
       "<div>\n",
       "<style scoped>\n",
       "    .dataframe tbody tr th:only-of-type {\n",
       "        vertical-align: middle;\n",
       "    }\n",
       "\n",
       "    .dataframe tbody tr th {\n",
       "        vertical-align: top;\n",
       "    }\n",
       "\n",
       "    .dataframe thead th {\n",
       "        text-align: right;\n",
       "    }\n",
       "</style>\n",
       "<table border=\"1\" class=\"dataframe\">\n",
       "  <thead>\n",
       "    <tr style=\"text-align: right;\">\n",
       "      <th></th>\n",
       "      <th>arch</th>\n",
       "      <th>filename</th>\n",
       "      <th>hlf_to_drop</th>\n",
       "      <th>mae_auc</th>\n",
       "    </tr>\n",
       "  </thead>\n",
       "  <tbody>\n",
       "    <tr>\n",
       "      <th>131</th>\n",
       "      <td>[15, 100, 100, 8, 100, 100, 15]</td>\n",
       "      <td>hlf_eflow3_8_v31</td>\n",
       "      <td>[Axis2, PTD, Energy, Flavor, Eta, Phi]</td>\n",
       "      <td>0.912017</td>\n",
       "    </tr>\n",
       "    <tr>\n",
       "      <th>122</th>\n",
       "      <td>[17, 100, 100, 8, 100, 100, 17]</td>\n",
       "      <td>hlf_eflow3_8_v24</td>\n",
       "      <td>[Axis2, PTD, Energy, Flavor]</td>\n",
       "      <td>0.905551</td>\n",
       "    </tr>\n",
       "  </tbody>\n",
       "</table>\n",
       "</div>"
      ],
      "text/plain": [
       "                                arch          filename  \\\n",
       "131  [15, 100, 100, 8, 100, 100, 15]  hlf_eflow3_8_v31   \n",
       "122  [17, 100, 100, 8, 100, 100, 17]  hlf_eflow3_8_v24   \n",
       "\n",
       "                                hlf_to_drop   mae_auc  \n",
       "131  [Axis2, PTD, Energy, Flavor, Eta, Phi]  0.912017  \n",
       "122            [Axis2, PTD, Energy, Flavor]  0.905551  "
      ]
     },
     "execution_count": 36,
     "metadata": {},
     "output_type": "execute_result"
    }
   ],
   "source": [
    "utils.summary().cfilter(['arch', 'filename', 'mae_auc', 'hlf_to_drop']).sort_values('mae_auc')[::-1].head(2)"
   ]
  },
  {
   "cell_type": "code",
   "execution_count": 38,
   "metadata": {
    "collapsed": false
   },
   "outputs": [
    {
     "name": "stdout",
     "output_type": "stream",
     "text": [
      "found 1 matches with search '/afs/cern.ch/work/l/llepotti/private/CMS/CMSSW_8_0_20/src/autoencodeSVJ/autoencode/data/summary/hlf_eflow3_8_v31.summary'\n",
      "train_shell :: using saved model\n"
     ]
    }
   ],
   "source": [
    "elt = ev.ae_evaluation(\"hlf_eflow3_8_v31\")"
   ]
  },
  {
   "cell_type": "code",
   "execution_count": 42,
   "metadata": {
    "collapsed": false
   },
   "outputs": [
    {
     "data": {
      "image/png": "[encoded data removed]",
      "text/plain": [
       "<matplotlib.figure.Figure at 0x7fd854618350>"
      ]
     },
     "metadata": {},
     "output_type": "display_data"
    }
   ],
   "source": [
    "elt.roc(yscale='log')"
   ]
  },
  {
   "cell_type": "code",
   "execution_count": 64,
   "metadata": {
    "collapsed": false
   },
   "outputs": [],
   "source": [
    "%run autoencode/module/autoencodeSVJ/evaluate.py"
   ]
  },
  {
   "cell_type": "code",
   "execution_count": 66,
   "metadata": {
    "collapsed": false
   },
   "outputs": [],
   "source": [
    "%run autoencode/module/autoencodeSVJ/utils.py"
   ]
  },
  {
   "cell_type": "code",
   "execution_count": 67,
   "metadata": {
    "collapsed": false
   },
   "outputs": [],
   "source": [
    "# def BDT_load_all_data(\n",
    "#     SVJ_path, QCD_path, \n",
    "#     test_split=0.2, random_state=-1,\n",
    "#     include_hlf=True, include_eflow=True,\n",
    "#     hlf_to_drop=['Energy', 'Flavor']\n",
    "# ):\n",
    "#     \"\"\"General-purpose data loader for BDT training, which separates classes and splits data into training/testing data.\n",
    "    \n",
    "#     Args: \n",
    "#         SVJ_path (str): glob-style specification of .h5 files to load as SVJ signal\n",
    "#         qcd_path (str): glob-style specification of .h5 files to load as qcd background\n",
    "#         test_split (float): fraction of total data to use for testing \n",
    "#         random_state (int): random seed, leave as -1 for random assignment\n",
    "#         include_hlf (bool): true to include high-level features in loaded data, false for not\n",
    "#         include_eflow (bool): true to include energy-flow basis features in loaded data, false for not\n",
    "#         hlf_to_drop (list(str)): list of high-level features to drop from the final dataset. Defaults to dropping Energy and Flavor.\n",
    "    \n",
    "#     Returns:\n",
    "#         tuple(pandas.DataFrame, pandas.DataFrame): X,Y training data, where X is the data samples for each jet, and Y is the \n",
    "#             signal/background tag for each jet\n",
    "#         tuple(pandas.DataFrame, pandas.DataFrame): X_test,Y_test testing data, where X are data samples for each jet and Y is the\n",
    "#             signal/background tag for each jet\n",
    "#     \"\"\"\n",
    "#     if random_state < 0:\n",
    "#         random_state = np.random.randint(0, 2**32 - 1)\n",
    "#     SVJ,_,_,_ = load_all_data(SVJ_path, \"SVJ\", include_hlf=include_hlf, include_eflow=include_eflow, hlf_to_drop=hlf_to_drop)\n",
    "#     QCD,_,_,_ = load_all_data(QCD_path, \"QCD\", include_hlf=include_hlf, include_eflow=include_eflow, hlf_to_drop=hlf_to_drop)\n",
    "    \n",
    "    \n",
    "#     SVJ_train, SVJ_test = train_test_split(SVJ.df, test_size=test_split, random_state=random_state)\n",
    "#     QCD_train, QCD_test = train_test_split(QCD.df, test_size=test_split, random_state=random_state)\n",
    "\n",
    "#     SVJ_Y_train, SVJ_Y_test = map(lambda elt: pd.DataFrame(np.ones((len(elt), 1)), index=elt.index, columns=['Tag']), [SVJ_train, SVJ_test])\n",
    "#     QCD_Y_train, QCD_Y_test = map(lambda elt: pd.DataFrame(np.ones((len(elt), 1)), index=elt.index, columns=['Tag']), [QCD_train, QCD_test])\n",
    "\n",
    "#     X = SVJ_train.append(QCD_train)\n",
    "#     Y = SVJ_Y_train.append(QCD_Y_train)\n",
    "    \n",
    "#     X_test = SVJ_test.append(QCD_test)\n",
    "#     Y_test = SVJ_Y_test.append(QCD_Y_test)\n",
    "    \n",
    "#     return (X, Y), (X_test, Y_test)\n",
    "\n",
    "(X,Y), (X_test,Y_test) = BDT_load_all_data(\"data/signal/base_3/*.h5\", \"data/background/base_3/*.h5\", random_state=3)\n",
    "(X_p,Y), (X_test,Y_test) = BDT_load_all_data(\"data/signal/base_3/*.h5\", \"data/background/base_3/*.h5\", random_state=3)"
   ]
  },
  {
   "cell_type": "code",
   "execution_count": null,
   "metadata": {
    "collapsed": false
   },
   "outputs": [],
   "source": []
  },
  {
   "cell_type": "code",
   "execution_count": null,
   "metadata": {
    "collapsed": false
   },
   "outputs": [],
   "source": []
  },
  {
   "cell_type": "code",
   "execution_count": null,
   "metadata": {
    "collapsed": false
   },
   "outputs": [],
   "source": []
  },
  {
   "cell_type": "code",
   "execution_count": null,
   "metadata": {
    "collapsed": false
   },
   "outputs": [],
   "source": [
    "ae_train(\n",
    "    'data/signal/base_3/*.h5',\n",
    "    'data/background/base_3/*.h5',\n",
    "    8,\n",
    "    True,\n",
    "    True,\n",
    "    epochs=100,\n",
    "    interm_architecture=(100,),\n",
    "    hlf_to_drop=['Energy', 'Flavor', 'Eta', 'Phi']\n",
    ")"
   ]
  },
  {
   "cell_type": "code",
   "execution_count": null,
   "metadata": {
    "collapsed": true
   },
   "outputs": [],
   "source": []
  },
  {
   "cell_type": "code",
   "execution_count": 46,
   "metadata": {
    "collapsed": false
   },
   "outputs": [
    {
     "name": "stdout",
     "output_type": "stream",
     "text": [
      "training under filename 'hlf_eflow3_8_v34'\n",
      "_________________________________________________________________\n",
      "Layer (type)                 Output Shape              Param #   \n",
      "=================================================================\n",
      "layer_1 (InputLayer)         (None, 17)                0         \n",
      "_________________________________________________________________\n",
      "encoder (Model)              (None, 8)                 1328      \n",
      "_________________________________________________________________\n",
      "decoder (Model)              (None, 17)                1337      \n",
      "=================================================================\n",
      "Total params: 2,665\n",
      "Trainable params: 2,665\n",
      "Non-trainable params: 0\n",
      "_________________________________________________________________\n",
      "TRAINING WITH PARAMS >>>\n",
      "epochs : 100\n",
      "loss : mse\n",
      "learning_rate : 0.0005\n",
      "optimizer : adam\n",
      "batch_size : 64\n",
      "Train on 74716 samples, validate on 13186 samples\n",
      "Epoch 1/100\n",
      "73920/74716 [============================>.] - ETA: 0s - loss: 0.0102Epoch 00001: val_loss improved from inf to 0.00352, saving model to /afs/cern.ch/work/l/llepotti/private/CMS/CMSSW_8_0_20/src/autoencodeSVJ/autoencode/data/training_runs/hlf_eflow3_8_v34_weights.h5\n",
      "74716/74716 [==============================] - 4s 57us/step - loss: 0.0102 - val_loss: 0.0035\n",
      "Epoch 2/100\n",
      "73856/74716 [============================>.] - ETA: 0s - loss: 0.0035Epoch 00002: val_loss improved from 0.00352 to 0.00339, saving model to /afs/cern.ch/work/l/llepotti/private/CMS/CMSSW_8_0_20/src/autoencodeSVJ/autoencode/data/training_runs/hlf_eflow3_8_v34_weights.h5\n",
      "74716/74716 [==============================] - 2s 32us/step - loss: 0.0035 - val_loss: 0.0034\n",
      "Epoch 3/100\n",
      "74112/74716 [============================>.] - ETA: 0s - loss: 0.0027Epoch 00003: val_loss improved from 0.00339 to 0.00132, saving model to /afs/cern.ch/work/l/llepotti/private/CMS/CMSSW_8_0_20/src/autoencodeSVJ/autoencode/data/training_runs/hlf_eflow3_8_v34_weights.h5\n",
      "74716/74716 [==============================] - 2s 31us/step - loss: 0.0027 - val_loss: 0.0013\n",
      "Epoch 4/100\n",
      "74560/74716 [============================>.] - ETA: 0s - loss: 0.0012Epoch 00004: val_loss improved from 0.00132 to 0.00108, saving model to /afs/cern.ch/work/l/llepotti/private/CMS/CMSSW_8_0_20/src/autoencodeSVJ/autoencode/data/training_runs/hlf_eflow3_8_v34_weights.h5\n",
      "74716/74716 [==============================] - 2s 30us/step - loss: 0.0012 - val_loss: 0.0011\n",
      "Epoch 5/100\n",
      "74048/74716 [============================>.] - ETA: 0s - loss: 0.0010Epoch 00005: val_loss improved from 0.00108 to 0.00096, saving model to /afs/cern.ch/work/l/llepotti/private/CMS/CMSSW_8_0_20/src/autoencodeSVJ/autoencode/data/training_runs/hlf_eflow3_8_v34_weights.h5\n",
      "74716/74716 [==============================] - 2s 31us/step - loss: 0.0010 - val_loss: 9.6284e-04\n",
      "Epoch 6/100\n",
      "74496/74716 [============================>.] - ETA: 0s - loss: 9.4447e-04Epoch 00006: val_loss improved from 0.00096 to 0.00092, saving model to /afs/cern.ch/work/l/llepotti/private/CMS/CMSSW_8_0_20/src/autoencodeSVJ/autoencode/data/training_runs/hlf_eflow3_8_v34_weights.h5\n",
      "74716/74716 [==============================] - 2s 31us/step - loss: 9.4455e-04 - val_loss: 9.1833e-04\n",
      "Epoch 7/100\n",
      "74688/74716 [============================>.] - ETA: 0s - loss: 8.9820e-04Epoch 00007: val_loss improved from 0.00092 to 0.00087, saving model to /afs/cern.ch/work/l/llepotti/private/CMS/CMSSW_8_0_20/src/autoencodeSVJ/autoencode/data/training_runs/hlf_eflow3_8_v34_weights.h5\n",
      "74716/74716 [==============================] - 2s 31us/step - loss: 8.9812e-04 - val_loss: 8.6745e-04\n",
      "Epoch 8/100\n",
      "73856/74716 [============================>.] - ETA: 0s - loss: 8.5631e-04Epoch 00008: val_loss improved from 0.00087 to 0.00082, saving model to /afs/cern.ch/work/l/llepotti/private/CMS/CMSSW_8_0_20/src/autoencodeSVJ/autoencode/data/training_runs/hlf_eflow3_8_v34_weights.h5\n",
      "74716/74716 [==============================] - 2s 31us/step - loss: 8.5687e-04 - val_loss: 8.2367e-04\n",
      "Epoch 9/100\n",
      "73024/74716 [============================>.] - ETA: 0s - loss: 8.0310e-04Epoch 00009: val_loss improved from 0.00082 to 0.00079, saving model to /afs/cern.ch/work/l/llepotti/private/CMS/CMSSW_8_0_20/src/autoencodeSVJ/autoencode/data/training_runs/hlf_eflow3_8_v34_weights.h5\n",
      "74716/74716 [==============================] - 2s 30us/step - loss: 8.0212e-04 - val_loss: 7.8860e-04\n",
      "Epoch 10/100\n",
      "74688/74716 [============================>.] - ETA: 0s - loss: 7.6135e-04Epoch 00010: val_loss improved from 0.00079 to 0.00076, saving model to /afs/cern.ch/work/l/llepotti/private/CMS/CMSSW_8_0_20/src/autoencodeSVJ/autoencode/data/training_runs/hlf_eflow3_8_v34_weights.h5\n",
      "74716/74716 [==============================] - 2s 31us/step - loss: 7.6142e-04 - val_loss: 7.6020e-04\n",
      "Epoch 11/100\n",
      "73792/74716 [============================>.] - ETA: 0s - loss: 7.3087e-04Epoch 00011: val_loss improved from 0.00076 to 0.00073, saving model to /afs/cern.ch/work/l/llepotti/private/CMS/CMSSW_8_0_20/src/autoencodeSVJ/autoencode/data/training_runs/hlf_eflow3_8_v34_weights.h5\n",
      "74716/74716 [==============================] - 2s 31us/step - loss: 7.3137e-04 - val_loss: 7.2869e-04\n",
      "Epoch 12/100\n",
      "73088/74716 [============================>.] - ETA: 0s - loss: 7.0667e-04Epoch 00012: val_loss improved from 0.00073 to 0.00071, saving model to /afs/cern.ch/work/l/llepotti/private/CMS/CMSSW_8_0_20/src/autoencodeSVJ/autoencode/data/training_runs/hlf_eflow3_8_v34_weights.h5\n",
      "74716/74716 [==============================] - 2s 31us/step - loss: 7.0708e-04 - val_loss: 7.1448e-04\n",
      "Epoch 13/100\n",
      "74560/74716 [============================>.] - ETA: 0s - loss: 6.8832e-04Epoch 00013: val_loss improved from 0.00071 to 0.00068, saving model to /afs/cern.ch/work/l/llepotti/private/CMS/CMSSW_8_0_20/src/autoencodeSVJ/autoencode/data/training_runs/hlf_eflow3_8_v34_weights.h5\n",
      "74716/74716 [==============================] - 2s 31us/step - loss: 6.8840e-04 - val_loss: 6.8495e-04\n",
      "Epoch 14/100\n",
      "73280/74716 [============================>.] - ETA: 0s - loss: 6.7252e-04Epoch 00014: val_loss improved from 0.00068 to 0.00066, saving model to /afs/cern.ch/work/l/llepotti/private/CMS/CMSSW_8_0_20/src/autoencodeSVJ/autoencode/data/training_runs/hlf_eflow3_8_v34_weights.h5\n",
      "74716/74716 [==============================] - 2s 30us/step - loss: 6.7185e-04 - val_loss: 6.5566e-04\n",
      "Epoch 15/100\n",
      "74176/74716 [============================>.] - ETA: 0s - loss: 6.6220e-04Epoch 00015: val_loss did not improve\n",
      "74716/74716 [==============================] - 2s 31us/step - loss: 6.6181e-04 - val_loss: 6.6121e-04\n",
      "Epoch 16/100\n",
      "73792/74716 [============================>.] - ETA: 0s - loss: 6.5081e-04Epoch 00016: val_loss improved from 0.00066 to 0.00064, saving model to /afs/cern.ch/work/l/llepotti/private/CMS/CMSSW_8_0_20/src/autoencodeSVJ/autoencode/data/training_runs/hlf_eflow3_8_v34_weights.h5\n",
      "74716/74716 [==============================] - 2s 30us/step - loss: 6.5061e-04 - val_loss: 6.3856e-04\n",
      "Epoch 17/100\n",
      "73792/74716 [============================>.] - ETA: 0s - loss: 6.4212e-04Epoch 00017: val_loss did not improve\n",
      "74716/74716 [==============================] - 2s 30us/step - loss: 6.4246e-04 - val_loss: 6.4090e-04\n",
      "Epoch 18/100\n",
      "73408/74716 [============================>.] - ETA: 0s - loss: 6.3564e-04Epoch 00018: val_loss improved from 0.00064 to 0.00062, saving model to /afs/cern.ch/work/l/llepotti/private/CMS/CMSSW_8_0_20/src/autoencodeSVJ/autoencode/data/training_runs/hlf_eflow3_8_v34_weights.h5\n",
      "74716/74716 [==============================] - 2s 32us/step - loss: 6.3555e-04 - val_loss: 6.2090e-04\n",
      "Epoch 19/100\n",
      "74432/74716 [============================>.] - ETA: 0s - loss: 6.0778e-04Epoch 00019: val_loss improved from 0.00062 to 0.00061, saving model to /afs/cern.ch/work/l/llepotti/private/CMS/CMSSW_8_0_20/src/autoencodeSVJ/autoencode/data/training_runs/hlf_eflow3_8_v34_weights.h5\n",
      "74716/74716 [==============================] - 2s 31us/step - loss: 6.0797e-04 - val_loss: 6.0903e-04\n",
      "Epoch 20/100\n",
      "74624/74716 [============================>.] - ETA: 0s - loss: 6.0624e-04Epoch 00020: val_loss improved from 0.00061 to 0.00061, saving model to /afs/cern.ch/work/l/llepotti/private/CMS/CMSSW_8_0_20/src/autoencodeSVJ/autoencode/data/training_runs/hlf_eflow3_8_v34_weights.h5\n",
      "74716/74716 [==============================] - 2s 31us/step - loss: 6.0655e-04 - val_loss: 6.0855e-04\n",
      "Epoch 21/100\n",
      "74240/74716 [============================>.] - ETA: 0s - loss: 6.0521e-04Epoch 00021: val_loss improved from 0.00061 to 0.00061, saving model to /afs/cern.ch/work/l/llepotti/private/CMS/CMSSW_8_0_20/src/autoencodeSVJ/autoencode/data/training_runs/hlf_eflow3_8_v34_weights.h5\n",
      "74716/74716 [==============================] - 2s 31us/step - loss: 6.0506e-04 - val_loss: 6.0666e-04\n",
      "Epoch 22/100\n",
      "73536/74716 [============================>.] - ETA: 0s - loss: 6.0376e-04Epoch 00022: val_loss improved from 0.00061 to 0.00060, saving model to /afs/cern.ch/work/l/llepotti/private/CMS/CMSSW_8_0_20/src/autoencodeSVJ/autoencode/data/training_runs/hlf_eflow3_8_v34_weights.h5\n",
      "74716/74716 [==============================] - 2s 31us/step - loss: 6.0355e-04 - val_loss: 6.0387e-04\n",
      "Epoch 23/100\n",
      "73792/74716 [============================>.] - ETA: 0s - loss: 6.0278e-04Epoch 00023: val_loss improved from 0.00060 to 0.00060, saving model to /afs/cern.ch/work/l/llepotti/private/CMS/CMSSW_8_0_20/src/autoencodeSVJ/autoencode/data/training_runs/hlf_eflow3_8_v34_weights.h5\n",
      "74716/74716 [==============================] - 2s 31us/step - loss: 6.0246e-04 - val_loss: 6.0296e-04\n",
      "Epoch 24/100\n",
      "74048/74716 [============================>.] - ETA: 0s - loss: 6.0291e-04Epoch 00024: val_loss improved from 0.00060 to 0.00060, saving model to /afs/cern.ch/work/l/llepotti/private/CMS/CMSSW_8_0_20/src/autoencodeSVJ/autoencode/data/training_runs/hlf_eflow3_8_v34_weights.h5\n",
      "74716/74716 [==============================] - 2s 31us/step - loss: 6.0303e-04 - val_loss: 6.0137e-04\n",
      "Epoch 25/100\n",
      "73728/74716 [============================>.] - ETA: 0s - loss: 6.0121e-04Epoch 00025: val_loss improved from 0.00060 to 0.00060, saving model to /afs/cern.ch/work/l/llepotti/private/CMS/CMSSW_8_0_20/src/autoencodeSVJ/autoencode/data/training_runs/hlf_eflow3_8_v34_weights.h5\n",
      "74716/74716 [==============================] - 2s 31us/step - loss: 6.0094e-04 - val_loss: 6.0081e-04\n",
      "Epoch 26/100\n",
      "73216/74716 [============================>.] - ETA: 0s - loss: 5.9636e-04Epoch 00026: val_loss improved from 0.00060 to 0.00060, saving model to /afs/cern.ch/work/l/llepotti/private/CMS/CMSSW_8_0_20/src/autoencodeSVJ/autoencode/data/training_runs/hlf_eflow3_8_v34_weights.h5\n",
      "74716/74716 [==============================] - 2s 31us/step - loss: 5.9647e-04 - val_loss: 5.9985e-04\n",
      "Epoch 27/100\n",
      "73536/74716 [============================>.] - ETA: 0s - loss: 5.9610e-04Epoch 00027: val_loss improved from 0.00060 to 0.00060, saving model to /afs/cern.ch/work/l/llepotti/private/CMS/CMSSW_8_0_20/src/autoencodeSVJ/autoencode/data/training_runs/hlf_eflow3_8_v34_weights.h5\n",
      "74716/74716 [==============================] - 2s 31us/step - loss: 5.9635e-04 - val_loss: 5.9946e-04\n",
      "Epoch 28/100\n",
      "74240/74716 [============================>.] - ETA: 0s - loss: 5.9619e-04Epoch 00028: val_loss did not improve\n",
      "74716/74716 [==============================] - 2s 30us/step - loss: 5.9619e-04 - val_loss: 5.9950e-04\n",
      "Epoch 29/100\n",
      "74176/74716 [============================>.] - ETA: 0s - loss: 5.9630e-04Epoch 00029: val_loss did not improve\n",
      "74716/74716 [==============================] - 2s 31us/step - loss: 5.9601e-04 - val_loss: 5.9949e-04\n",
      "Epoch 30/100\n",
      "74688/74716 [============================>.] - ETA: 0s - loss: 5.9579e-04Epoch 00030: val_loss did not improve\n",
      "74716/74716 [==============================] - 2s 31us/step - loss: 5.9588e-04 - val_loss: 5.9961e-04\n",
      "Epoch 31/100\n",
      "73920/74716 [============================>.] - ETA: 0s - loss: 5.9574e-04Epoch 00031: val_loss improved from 0.00060 to 0.00060, saving model to /afs/cern.ch/work/l/llepotti/private/CMS/CMSSW_8_0_20/src/autoencodeSVJ/autoencode/data/training_runs/hlf_eflow3_8_v34_weights.h5\n",
      "74716/74716 [==============================] - 2s 31us/step - loss: 5.9548e-04 - val_loss: 5.9910e-04\n",
      "Epoch 32/100\n",
      "73600/74716 [============================>.] - ETA: 0s - loss: 5.9527e-04Epoch 00032: val_loss improved from 0.00060 to 0.00060, saving model to /afs/cern.ch/work/l/llepotti/private/CMS/CMSSW_8_0_20/src/autoencodeSVJ/autoencode/data/training_runs/hlf_eflow3_8_v34_weights.h5\n",
      "74716/74716 [==============================] - 2s 31us/step - loss: 5.9542e-04 - val_loss: 5.9910e-04\n",
      "Epoch 33/100\n",
      "73984/74716 [============================>.] - ETA: 0s - loss: 5.9556e-04Epoch 00033: val_loss improved from 0.00060 to 0.00060, saving model to /afs/cern.ch/work/l/llepotti/private/CMS/CMSSW_8_0_20/src/autoencodeSVJ/autoencode/data/training_runs/hlf_eflow3_8_v34_weights.h5\n",
      "74716/74716 [==============================] - 2s 31us/step - loss: 5.9540e-04 - val_loss: 5.9905e-04\n",
      "Epoch 34/100\n",
      "74496/74716 [============================>.] - ETA: 0s - loss: 5.9533e-04Epoch 00034: val_loss improved from 0.00060 to 0.00060, saving model to /afs/cern.ch/work/l/llepotti/private/CMS/CMSSW_8_0_20/src/autoencodeSVJ/autoencode/data/training_runs/hlf_eflow3_8_v34_weights.h5\n",
      "74716/74716 [==============================] - 2s 31us/step - loss: 5.9538e-04 - val_loss: 5.9904e-04\n",
      "Epoch 35/100\n",
      "73472/74716 [============================>.] - ETA: 0s - loss: 5.9499e-04Epoch 00035: val_loss improved from 0.00060 to 0.00060, saving model to /afs/cern.ch/work/l/llepotti/private/CMS/CMSSW_8_0_20/src/autoencodeSVJ/autoencode/data/training_runs/hlf_eflow3_8_v34_weights.h5\n",
      "74716/74716 [==============================] - 2s 31us/step - loss: 5.9537e-04 - val_loss: 5.9903e-04\n",
      "Epoch 36/100\n",
      "73408/74716 [============================>.] - ETA: 0s - loss: 5.9497e-04Epoch 00036: val_loss improved from 0.00060 to 0.00060, saving model to /afs/cern.ch/work/l/llepotti/private/CMS/CMSSW_8_0_20/src/autoencodeSVJ/autoencode/data/training_runs/hlf_eflow3_8_v34_weights.h5\n",
      "74716/74716 [==============================] - 2s 32us/step - loss: 5.9532e-04 - val_loss: 5.9903e-04\n",
      "Epoch 37/100\n",
      "73024/74716 [============================>.] - ETA: 0s - loss: 5.9509e-04Epoch 00037: val_loss improved from 0.00060 to 0.00060, saving model to /afs/cern.ch/work/l/llepotti/private/CMS/CMSSW_8_0_20/src/autoencodeSVJ/autoencode/data/training_runs/hlf_eflow3_8_v34_weights.h5\n",
      "74716/74716 [==============================] - 2s 31us/step - loss: 5.9532e-04 - val_loss: 5.9902e-04\n",
      "Epoch 38/100\n",
      "74048/74716 [============================>.] - ETA: 0s - loss: 5.9537e-04Epoch 00038: val_loss improved from 0.00060 to 0.00060, saving model to /afs/cern.ch/work/l/llepotti/private/CMS/CMSSW_8_0_20/src/autoencodeSVJ/autoencode/data/training_runs/hlf_eflow3_8_v34_weights.h5\n",
      "74716/74716 [==============================] - 2s 31us/step - loss: 5.9531e-04 - val_loss: 5.9902e-04\n",
      "Epoch 39/100\n",
      "74304/74716 [============================>.] - ETA: 0s - loss: 5.9583e-04Epoch 00039: val_loss improved from 0.00060 to 0.00060, saving model to /afs/cern.ch/work/l/llepotti/private/CMS/CMSSW_8_0_20/src/autoencodeSVJ/autoencode/data/training_runs/hlf_eflow3_8_v34_weights.h5\n",
      "74716/74716 [==============================] - 2s 31us/step - loss: 5.9531e-04 - val_loss: 5.9902e-04\n",
      "Epoch 40/100\n",
      "73344/74716 [============================>.] - ETA: 0s - loss: 5.9563e-04Epoch 00040: val_loss improved from 0.00060 to 0.00060, saving model to /afs/cern.ch/work/l/llepotti/private/CMS/CMSSW_8_0_20/src/autoencodeSVJ/autoencode/data/training_runs/hlf_eflow3_8_v34_weights.h5\n",
      "74716/74716 [==============================] - 2s 31us/step - loss: 5.9531e-04 - val_loss: 5.9901e-04\n",
      "Epoch 41/100\n",
      "73984/74716 [============================>.] - ETA: 0s - loss: 5.9516e-04Epoch 00041: val_loss improved from 0.00060 to 0.00060, saving model to /afs/cern.ch/work/l/llepotti/private/CMS/CMSSW_8_0_20/src/autoencodeSVJ/autoencode/data/training_runs/hlf_eflow3_8_v34_weights.h5\n",
      "74716/74716 [==============================] - 2s 32us/step - loss: 5.9531e-04 - val_loss: 5.9901e-04\n",
      "Epoch 42/100\n",
      "74688/74716 [============================>.] - ETA: 0s - loss: 5.9527e-04Epoch 00042: val_loss did not improve\n",
      "74716/74716 [==============================] - 2s 31us/step - loss: 5.9531e-04 - val_loss: 5.9901e-04\n",
      "Epoch 43/100\n",
      "74688/74716 [============================>.] - ETA: 0s - loss: 5.9534e-04Epoch 00043: val_loss did not improve\n",
      "74716/74716 [==============================] - 2s 33us/step - loss: 5.9531e-04 - val_loss: 5.9901e-04\n",
      "Epoch 44/100\n",
      "74112/74716 [============================>.] - ETA: 0s - loss: 5.9503e-04Epoch 00044: val_loss did not improve\n",
      "74716/74716 [==============================] - 2s 30us/step - loss: 5.9531e-04 - val_loss: 5.9901e-04\n",
      "Epoch 45/100\n",
      "74688/74716 [============================>.] - ETA: 0s - loss: 5.9537e-04Epoch 00045: val_loss did not improve\n",
      "74716/74716 [==============================] - 2s 32us/step - loss: 5.9531e-04 - val_loss: 5.9901e-04\n",
      "Epoch 46/100\n",
      "74368/74716 [============================>.] - ETA: 0s - loss: 5.9528e-04Epoch 00046: val_loss did not improve\n",
      "74716/74716 [==============================] - 2s 31us/step - loss: 5.9531e-04 - val_loss: 5.9901e-04\n",
      "Epoch 47/100\n",
      "73216/74716 [============================>.] - ETA: 0s - loss: 5.9510e-04Epoch 00047: val_loss did not improve\n",
      "74716/74716 [==============================] - 2s 31us/step - loss: 5.9531e-04 - val_loss: 5.9901e-04\n",
      "Epoch 48/100\n",
      "74176/74716 [============================>.] - ETA: 0s - loss: 5.9501e-04Epoch 00048: val_loss did not improve\n",
      "74716/74716 [==============================] - 2s 30us/step - loss: 5.9531e-04 - val_loss: 5.9901e-04\n",
      "Epoch 49/100\n",
      "74048/74716 [============================>.] - ETA: 0s - loss: 5.9501e-04Epoch 00049: val_loss did not improve\n",
      "74716/74716 [==============================] - 2s 31us/step - loss: 5.9531e-04 - val_loss: 5.9901e-04\n",
      "Epoch 50/100\n",
      "74688/74716 [============================>.] - ETA: 0s - loss: 5.9529e-04Epoch 00050: val_loss did not improve\n",
      "74716/74716 [==============================] - 2s 31us/step - loss: 5.9531e-04 - val_loss: 5.9901e-04\n",
      "Epoch 51/100\n",
      "73216/74716 [============================>.] - ETA: 0s - loss: 5.9616e-04Epoch 00051: val_loss did not improve\n",
      "74716/74716 [==============================] - 2s 30us/step - loss: 5.9531e-04 - val_loss: 5.9901e-04\n",
      "train_shell :: \n",
      "train_shell :: trained 51 epochs!\n",
      "train_shell :: \n",
      "train_shell :: using saved model\n",
      "train_shell :: finished epoch N: 51\n",
      "train_shell :: model saved\n"
     ]
    },
    {
     "data": {
      "text/plain": [
       "0.84882617562211271"
      ]
     },
     "execution_count": 46,
     "metadata": {},
     "output_type": "execute_result"
    }
   ],
   "source": [
    "ae_train(\n",
    "    'data/signal/base_3/*.h5',\n",
    "    'data/background/base_3/*.h5',\n",
    "    8,\n",
    "    True,\n",
    "    True,\n",
    "    epochs=100,\n",
    "    interm_architecture=(12, 10),\n",
    "    hlf_to_drop=['Axis2', 'PTD', 'Energy', 'Flavor']\n",
    ")"
   ]
  },
  {
   "cell_type": "code",
   "execution_count": 3,
   "metadata": {
    "collapsed": false
   },
   "outputs": [
    {
     "name": "stdout",
     "output_type": "stream",
     "text": [
      "data_loader :: Adding sample at path '/afs/cern.ch/work/l/llepotti/private/CMS/CMSSW_8_0_20/src/autoencodeSVJ/data/background/constituents_3/data_0_data.h5'\n"
     ]
    }
   ],
   "source": [
    "d = utils.data_loader(name=\"data\")\n",
    "d.add_sample(\"data/background/constituents_3/data_0_data.h5\")"
   ]
  },
  {
   "cell_type": "code",
   "execution_count": 7,
   "metadata": {
    "collapsed": false
   },
   "outputs": [
    {
     "data": {
      "text/plain": [
       "(5647, 2, 100, 5)"
      ]
     },
     "execution_count": 7,
     "metadata": {},
     "output_type": "execute_result"
    }
   ],
   "source": [
    "d.data['jet_constituents'].shape"
   ]
  },
  {
   "cell_type": "code",
   "execution_count": 341,
   "metadata": {
    "collapsed": false
   },
   "outputs": [
    {
     "name": "stdout",
     "output_type": "stream",
     "text": [
      "data_loader :: Adding sample at path '/afs/cern.ch/work/l/llepotti/private/CMS/CMSSW_8_0_20/src/autoencodeSVJ/TEST.h5'\n",
      "['Eta' 'Phi' 'PT' 'Rapidity' 'Energy']\n"
     ]
    }
   ],
   "source": [
    "import glob\n",
    "import numpy as np\n",
    "import ROOT as rt\n",
    "\n",
    "def consts(globpath):\n",
    "    files = glob.glob(globpath)\n",
    "    assert len(files) > 0, \"no files in globpath '{}'\".format(globpath)\n",
    "    l = utils.data_loader(name=\"data\") \n",
    "    for f in files:\n",
    "        l.add_sample(f)\n",
    "    stacked = np.vstack(l.data['jet_constituents'])\n",
    "    jets = np.vstack(l.data['jet_features'])\n",
    "    print(l.labels['jet_constituents'])\n",
    "    \n",
    "    ret = []\n",
    "    tab = []\n",
    "    for i,elt in enumerate(stacked):\n",
    "        ret.append([])\n",
    "        tab.append(rt.TLorentzVector())\n",
    "        tab[i].SetPtEtaPhiE(jets[i][2], jets[i][0], jets[i][1], jets[i][8])\n",
    "        for j,const in enumerate(elt):\n",
    "            if const[4] > 0.0:\n",
    "                ret[i].append(rt.TLorentzVector())\n",
    "                ret[i][j].SetPtEtaPhiE(const[2], const[0], const[1], const[4])\n",
    "    \n",
    "    return ret, tab\n",
    "8\n",
    "\n",
    "data, jets = consts(\"TEST.h5\")"
   ]
  },
  {
   "cell_type": "code",
   "execution_count": 420,
   "metadata": {
    "collapsed": false
   },
   "outputs": [],
   "source": [
    "etas_out = []\n",
    "phis_out = []\n",
    "\n",
    "zero = rt.TLorentzVector()\n",
    "zero.SetPtEtaPhiE(1., 0., 0., 1.)\n",
    "\n",
    "\n",
    "etas, phis = [], []\n",
    "clean = []\n",
    "for i,(constituents,jet) in enumerate(zip(data, jets)):    \n",
    "    clean.append([])\n",
    "    angle = sum(constituents, rt.TLorentzVector()).Theta()\n",
    "    for j,c in enumerate(constituents):\n",
    "        new = rt.TLorentzVector()\n",
    "        new.SetPtEtaPhiE(c.Pt(), c.Eta() - jet.Eta(), c.Phi() - jet.Phi(), c.E())\n",
    "        new.Rotate(angle, zero.Vect())\n",
    "        clean[i].append(new)\n",
    "\n",
    "        etas.append(new.Eta())\n",
    "        phis.append(new.Phi())\n",
    "  \n",
    "bins = 50\n",
    "rng = ((np.percentile(etas, 0.1), np.percentile(etas, 99.9)), (np.percentile(phis, 0.1), np.percentile(phis, 99.9)))\n",
    "hist = []\n",
    "for clist in clean:\n",
    "    hist.append(\n",
    "        np.histogram2d(\n",
    "            [v.Eta() for v in clist], [v.Phi() for v in clist],\n",
    "            bins=bins,\n",
    "            range=rng\n",
    "        )\n",
    "    )"
   ]
  },
  {
   "cell_type": "code",
   "execution_count": null,
   "metadata": {
    "collapsed": false
   },
   "outputs": [],
   "source": []
  },
  {
   "cell_type": "code",
   "execution_count": 421,
   "metadata": {
    "collapsed": false
   },
   "outputs": [],
   "source": [
    "imgs = np.asarray([h[0] for h in hist])\n",
    "img = np.mean(imgs, axis=0)\n",
    "# img = imgs[0]"
   ]
  },
  {
   "cell_type": "code",
   "execution_count": 424,
   "metadata": {
    "collapsed": false
   },
   "outputs": [],
   "source": [
    "lab = np.mean(np.asarray([(h[1],h[2]) for h in hist]), axis=0)\n",
    "ext = [min(lab[0]), max(lab[0]), min(lab[1]), max(lab[1])]\n",
    "ext = [-.5, .5, -.5, 0.5]"
   ]
  },
  {
   "cell_type": "code",
   "execution_count": 426,
   "metadata": {
    "collapsed": false
   },
   "outputs": [
    {
     "ename": "TypeError",
     "evalue": "__init__() got an unexpected keyword argument 'scale'",
     "output_type": "error",
     "traceback": [
      "\u001b[0;31m---------------------------------------------------------------------------\u001b[0m",
      "\u001b[0;31mTypeError\u001b[0m                                 Traceback (most recent call last)",
      "\u001b[0;32m<ipython-input-426-933f1f55a6a5>\u001b[0m in \u001b[0;36m<module>\u001b[0;34m()\u001b[0m\n\u001b[1;32m      5\u001b[0m \u001b[0mplt\u001b[0m\u001b[0;34m.\u001b[0m\u001b[0mylabel\u001b[0m\u001b[0;34m(\u001b[0m\u001b[0;34mr'$\\phi$'\u001b[0m\u001b[0;34m)\u001b[0m\u001b[0;34m\u001b[0m\u001b[0m\n\u001b[1;32m      6\u001b[0m \u001b[0;34m\u001b[0m\u001b[0m\n\u001b[0;32m----> 7\u001b[0;31m \u001b[0mplt\u001b[0m\u001b[0;34m.\u001b[0m\u001b[0mcolorbar\u001b[0m\u001b[0;34m(\u001b[0m\u001b[0mscale\u001b[0m\u001b[0;34m=\u001b[0m\u001b[0;34m'log'\u001b[0m\u001b[0;34m)\u001b[0m\u001b[0;34m\u001b[0m\u001b[0m\n\u001b[0m\u001b[1;32m      8\u001b[0m \u001b[0mplt\u001b[0m\u001b[0;34m.\u001b[0m\u001b[0mshow\u001b[0m\u001b[0;34m(\u001b[0m\u001b[0;34m)\u001b[0m\u001b[0;34m\u001b[0m\u001b[0m\n",
      "\u001b[0;32m/cvmfs/sft.cern.ch/lcg/views/LCG_93/x86_64-centos7-gcc7-opt/lib/python2.7/site-packages/matplotlib/pyplot.pyc\u001b[0m in \u001b[0;36mcolorbar\u001b[0;34m(mappable, cax, ax, **kw)\u001b[0m\n\u001b[1;32m   2178\u001b[0m         \u001b[0max\u001b[0m \u001b[0;34m=\u001b[0m \u001b[0mgca\u001b[0m\u001b[0;34m(\u001b[0m\u001b[0;34m)\u001b[0m\u001b[0;34m\u001b[0m\u001b[0m\n\u001b[1;32m   2179\u001b[0m \u001b[0;34m\u001b[0m\u001b[0m\n\u001b[0;32m-> 2180\u001b[0;31m     \u001b[0mret\u001b[0m \u001b[0;34m=\u001b[0m \u001b[0mgcf\u001b[0m\u001b[0;34m(\u001b[0m\u001b[0;34m)\u001b[0m\u001b[0;34m.\u001b[0m\u001b[0mcolorbar\u001b[0m\u001b[0;34m(\u001b[0m\u001b[0mmappable\u001b[0m\u001b[0;34m,\u001b[0m \u001b[0mcax\u001b[0m \u001b[0;34m=\u001b[0m \u001b[0mcax\u001b[0m\u001b[0;34m,\u001b[0m \u001b[0max\u001b[0m\u001b[0;34m=\u001b[0m\u001b[0max\u001b[0m\u001b[0;34m,\u001b[0m \u001b[0;34m**\u001b[0m\u001b[0mkw\u001b[0m\u001b[0;34m)\u001b[0m\u001b[0;34m\u001b[0m\u001b[0m\n\u001b[0m\u001b[1;32m   2181\u001b[0m     \u001b[0;32mreturn\u001b[0m \u001b[0mret\u001b[0m\u001b[0;34m\u001b[0m\u001b[0m\n\u001b[1;32m   2182\u001b[0m \u001b[0mcolorbar\u001b[0m\u001b[0;34m.\u001b[0m\u001b[0m__doc__\u001b[0m \u001b[0;34m=\u001b[0m \u001b[0mmatplotlib\u001b[0m\u001b[0;34m.\u001b[0m\u001b[0mcolorbar\u001b[0m\u001b[0;34m.\u001b[0m\u001b[0mcolorbar_doc\u001b[0m\u001b[0;34m\u001b[0m\u001b[0m\n",
      "\u001b[0;32m/cvmfs/sft.cern.ch/lcg/views/LCG_93/x86_64-centos7-gcc7-opt/lib/python2.7/site-packages/matplotlib/figure.pyc\u001b[0m in \u001b[0;36mcolorbar\u001b[0;34m(self, mappable, cax, ax, use_gridspec, **kw)\u001b[0m\n",
      "\u001b[0;32m/cvmfs/sft.cern.ch/lcg/views/LCG_93/x86_64-centos7-gcc7-opt/lib/python2.7/site-packages/matplotlib/colorbar.pyc\u001b[0m in \u001b[0;36mcolorbar_factory\u001b[0;34m(cax, mappable, **kwargs)\u001b[0m\n",
      "\u001b[0;32m/cvmfs/sft.cern.ch/lcg/views/LCG_93/x86_64-centos7-gcc7-opt/lib/python2.7/site-packages/matplotlib/colorbar.pyc\u001b[0m in \u001b[0;36m__init__\u001b[0;34m(self, ax, mappable, **kw)\u001b[0m\n",
      "\u001b[0;31mTypeError\u001b[0m: __init__() got an unexpected keyword argument 'scale'"
     ]
    }
   ],
   "source": [
    "import matplotlib.pyplot as plt \n",
    "plt.imshow(img, extent=ext, aspect=(ext[1] - ext[0])/(ext[3] - ext[2]), cmap='Blues')\n",
    "\n",
    "plt.xlabel(r'$\\eta$')\n",
    "plt.ylabel(r'$\\phi$')\n",
    "\n",
    "plt.colorbar(scale='log')\n",
    "plt.show()"
   ]
  },
  {
   "cell_type": "code",
   "execution_count": 125,
   "metadata": {
    "collapsed": false
   },
   "outputs": [
    {
     "data": {
      "text/plain": [
       "array([[ 0.,  0.,  0.,  0.,  0.,  0.,  0.,  0.,  0.,  0.,  0.,  0.,  0.,\n",
       "         0.,  0.,  0.,  0.,  0.,  0.,  0.],\n",
       "       [ 0.,  0.,  0.,  0.,  0.,  0.,  0.,  0.,  0.,  0.,  0.,  0.,  0.,\n",
       "         0.,  0.,  0.,  0.,  0.,  0.,  0.],\n",
       "       [ 0.,  0.,  0.,  0.,  0.,  0.,  0.,  0.,  0.,  0.,  0.,  0.,  0.,\n",
       "         0.,  0.,  0.,  0.,  0.,  0.,  0.],\n",
       "       [ 0.,  0.,  0.,  0.,  0.,  0.,  0.,  0.,  0.,  0.,  0.,  0.,  0.,\n",
       "         0.,  0.,  0.,  0.,  0.,  0.,  0.],\n",
       "       [ 0.,  0.,  0.,  0.,  0.,  0.,  0.,  0.,  0.,  0.,  0.,  0.,  0.,\n",
       "         0.,  0.,  0.,  0.,  0.,  0.,  0.],\n",
       "       [ 0.,  0.,  0.,  0.,  0.,  0.,  0.,  0.,  0.,  0.,  0.,  0.,  0.,\n",
       "         0.,  0.,  0.,  0.,  0.,  0.,  0.],\n",
       "       [ 0.,  0.,  0.,  0.,  0.,  0.,  0.,  1.,  0.,  0.,  0.,  0.,  0.,\n",
       "         0.,  0.,  0.,  0.,  0.,  0.,  0.],\n",
       "       [ 0.,  0.,  0.,  0.,  0.,  0.,  0.,  0.,  0.,  0.,  0.,  0.,  0.,\n",
       "         0.,  0.,  0.,  0.,  0.,  0.,  0.],\n",
       "       [ 0.,  0.,  0.,  0.,  0.,  0.,  0.,  1.,  0.,  1.,  0.,  0.,  0.,\n",
       "         0.,  0.,  0.,  0.,  0.,  0.,  0.],\n",
       "       [ 0.,  0.,  0.,  0.,  0.,  0.,  0.,  0.,  0.,  7.,  3.,  0.,  0.,\n",
       "         0.,  0.,  0.,  0.,  0.,  0.,  0.],\n",
       "       [ 0.,  0.,  0.,  0.,  0.,  0.,  0.,  0.,  1.,  4.,  1.,  0.,  0.,\n",
       "         0.,  0.,  0.,  0.,  0.,  0.,  0.],\n",
       "       [ 0.,  0.,  0.,  0.,  0.,  0.,  0.,  0.,  0.,  2.,  0.,  0.,  0.,\n",
       "         0.,  0.,  0.,  0.,  0.,  0.,  0.],\n",
       "       [ 0.,  0.,  0.,  0.,  0.,  0.,  0.,  0.,  0.,  4.,  3.,  0.,  0.,\n",
       "         0.,  0.,  0.,  0.,  0.,  0.,  0.],\n",
       "       [ 0.,  0.,  0.,  0.,  0.,  0.,  0.,  0.,  0.,  1.,  0.,  0.,  0.,\n",
       "         0.,  0.,  0.,  0.,  0.,  0.,  0.],\n",
       "       [ 0.,  0.,  0.,  0.,  0.,  0.,  0.,  0.,  1.,  1.,  1.,  0.,  0.,\n",
       "         0.,  0.,  0.,  0.,  0.,  0.,  0.],\n",
       "       [ 0.,  0.,  0.,  0.,  0.,  0.,  0.,  0.,  0.,  1.,  0.,  1.,  0.,\n",
       "         0.,  0.,  0.,  0.,  0.,  0.,  0.],\n",
       "       [ 0.,  0.,  0.,  0.,  0.,  0.,  0.,  0.,  0.,  2.,  1.,  0.,  0.,\n",
       "         0.,  0.,  0.,  0.,  0.,  0.,  0.],\n",
       "       [ 0.,  0.,  0.,  0.,  0.,  0.,  0.,  0.,  0.,  0.,  0.,  0.,  0.,\n",
       "         0.,  0.,  0.,  0.,  0.,  0.,  0.],\n",
       "       [ 0.,  0.,  0.,  0.,  0.,  0.,  0.,  0.,  0.,  0.,  0.,  0.,  0.,\n",
       "         0.,  0.,  0.,  0.,  0.,  0.,  0.],\n",
       "       [ 0.,  0.,  0.,  0.,  0.,  0.,  0.,  0.,  0.,  0.,  0.,  0.,  0.,\n",
       "         0.,  0.,  0.,  0.,  0.,  0.,  0.]])"
      ]
     },
     "execution_count": 125,
     "metadata": {},
     "output_type": "execute_result"
    }
   ],
   "source": [
    "img"
   ]
  },
  {
   "cell_type": "code",
   "execution_count": 124,
   "metadata": {
    "collapsed": false
   },
   "outputs": [
    {
     "data": {
      "text/plain": [
       "(array([[ 0.,  0.,  0.,  0.,  0.,  0.,  0.,  0.,  0.,  0.,  0.,  0.,  0.,\n",
       "          0.,  0.,  0.,  0.,  0.,  0.,  0.],\n",
       "        [ 0.,  0.,  0.,  0.,  0.,  0.,  0.,  0.,  0.,  0.,  0.,  0.,  0.,\n",
       "          0.,  0.,  0.,  0.,  0.,  0.,  0.],\n",
       "        [ 0.,  0.,  0.,  0.,  0.,  0.,  0.,  0.,  0.,  0.,  0.,  0.,  0.,\n",
       "          0.,  0.,  0.,  0.,  0.,  0.,  0.],\n",
       "        [ 0.,  0.,  0.,  0.,  0.,  0.,  0.,  0.,  0.,  0.,  0.,  0.,  0.,\n",
       "          0.,  0.,  0.,  0.,  0.,  0.,  0.],\n",
       "        [ 0.,  0.,  0.,  0.,  0.,  0.,  0.,  0.,  0.,  0.,  0.,  0.,  0.,\n",
       "          0.,  0.,  0.,  0.,  0.,  0.,  0.],\n",
       "        [ 0.,  0.,  0.,  0.,  0.,  0.,  0.,  0.,  0.,  0.,  0.,  0.,  0.,\n",
       "          0.,  0.,  0.,  0.,  0.,  0.,  0.],\n",
       "        [ 0.,  0.,  0.,  0.,  0.,  0.,  0.,  1.,  0.,  0.,  0.,  0.,  0.,\n",
       "          0.,  0.,  0.,  0.,  0.,  0.,  0.],\n",
       "        [ 0.,  0.,  0.,  0.,  0.,  0.,  0.,  0.,  0.,  0.,  0.,  0.,  0.,\n",
       "          0.,  0.,  0.,  0.,  0.,  0.,  0.],\n",
       "        [ 0.,  0.,  0.,  0.,  0.,  0.,  0.,  1.,  0.,  1.,  0.,  0.,  0.,\n",
       "          0.,  0.,  0.,  0.,  0.,  0.,  0.],\n",
       "        [ 0.,  0.,  0.,  0.,  0.,  0.,  0.,  0.,  0.,  7.,  3.,  0.,  0.,\n",
       "          0.,  0.,  0.,  0.,  0.,  0.,  0.],\n",
       "        [ 0.,  0.,  0.,  0.,  0.,  0.,  0.,  0.,  1.,  4.,  1.,  0.,  0.,\n",
       "          0.,  0.,  0.,  0.,  0.,  0.,  0.],\n",
       "        [ 0.,  0.,  0.,  0.,  0.,  0.,  0.,  0.,  0.,  2.,  0.,  0.,  0.,\n",
       "          0.,  0.,  0.,  0.,  0.,  0.,  0.],\n",
       "        [ 0.,  0.,  0.,  0.,  0.,  0.,  0.,  0.,  0.,  4.,  3.,  0.,  0.,\n",
       "          0.,  0.,  0.,  0.,  0.,  0.,  0.],\n",
       "        [ 0.,  0.,  0.,  0.,  0.,  0.,  0.,  0.,  0.,  1.,  0.,  0.,  0.,\n",
       "          0.,  0.,  0.,  0.,  0.,  0.,  0.],\n",
       "        [ 0.,  0.,  0.,  0.,  0.,  0.,  0.,  0.,  1.,  1.,  1.,  0.,  0.,\n",
       "          0.,  0.,  0.,  0.,  0.,  0.,  0.],\n",
       "        [ 0.,  0.,  0.,  0.,  0.,  0.,  0.,  0.,  0.,  1.,  0.,  1.,  0.,\n",
       "          0.,  0.,  0.,  0.,  0.,  0.,  0.],\n",
       "        [ 0.,  0.,  0.,  0.,  0.,  0.,  0.,  0.,  0.,  2.,  1.,  0.,  0.,\n",
       "          0.,  0.,  0.,  0.,  0.,  0.,  0.],\n",
       "        [ 0.,  0.,  0.,  0.,  0.,  0.,  0.,  0.,  0.,  0.,  0.,  0.,  0.,\n",
       "          0.,  0.,  0.,  0.,  0.,  0.,  0.],\n",
       "        [ 0.,  0.,  0.,  0.,  0.,  0.,  0.,  0.,  0.,  0.,  0.,  0.,  0.,\n",
       "          0.,  0.,  0.,  0.,  0.,  0.,  0.],\n",
       "        [ 0.,  0.,  0.,  0.,  0.,  0.,  0.,  0.,  0.,  0.,  0.,  0.,  0.,\n",
       "          0.,  0.,  0.,  0.,  0.,  0.,  0.]]),\n",
       " array([-0.59836999, -0.53853299, -0.47869599, -0.41885899, -0.35902199,\n",
       "        -0.29918499, -0.23934799, -0.179511  , -0.119674  , -0.059837  ,\n",
       "         0.        ,  0.059837  ,  0.119674  ,  0.179511  ,  0.23934799,\n",
       "         0.29918499,  0.35902199,  0.41885899,  0.47869599,  0.53853299,\n",
       "         0.59836999]),\n",
       " array([-1.54064014, -1.38657612, -1.23251211, -1.0784481 , -0.92438408,\n",
       "        -0.77032007, -0.61625605, -0.46219204, -0.30812803, -0.15406401,\n",
       "         0.        ,  0.15406401,  0.30812803,  0.46219204,  0.61625605,\n",
       "         0.77032007,  0.92438408,  1.0784481 ,  1.23251211,  1.38657612,\n",
       "         1.54064014]))"
      ]
     },
     "execution_count": 124,
     "metadata": {},
     "output_type": "execute_result"
    }
   ],
   "source": [
    "hist[0]"
   ]
  },
  {
   "cell_type": "code",
   "execution_count": 24,
   "metadata": {
    "collapsed": false
   },
   "outputs": [
    {
     "data": {
      "text/plain": [
       "(array([[  0.,   0.,  19.],\n",
       "        [  0.,   0.,  15.],\n",
       "        [ 63.,   0.,   3.]]),\n",
       " array([-0.88779181, -0.59186121, -0.2959306 ,  0.        ]),\n",
       " array([ 0.        ,  0.95645412,  1.91290824,  2.86936235]))"
      ]
     },
     "execution_count": 24,
     "metadata": {},
     "output_type": "execute_result"
    }
   ],
   "source": [
    "hist[0]"
   ]
  },
  {
   "cell_type": "code",
   "execution_count": 72,
   "metadata": {
    "collapsed": false
   },
   "outputs": [
    {
     "data": {
      "text/plain": [
       "(244, 100, 4)"
      ]
     },
     "execution_count": 72,
     "metadata": {},
     "output_type": "execute_result"
    }
   ],
   "source": [
    "np.delete(data, 4, axis=2).shape"
   ]
  },
  {
   "cell_type": "code",
   "execution_count": 39,
   "metadata": {
    "collapsed": false
   },
   "outputs": [
    {
     "data": {
      "text/plain": [
       "array([[[[ -6.40426874e-01,   2.59628248e+00,   2.51647873e+02,\n",
       "           -6.40426874e-01,   3.05042266e+02],\n",
       "         [ -6.82267427e-01,   2.61574078e+00,   2.49482910e+02,\n",
       "           -6.82267427e-01,   3.09836320e+02],\n",
       "         [ -6.57968104e-01,   2.61199331e+00,   2.25022034e+02,\n",
       "           -6.57968104e-01,   2.75513335e+02],\n",
       "         ..., \n",
       "         [  0.00000000e+00,   0.00000000e+00,   0.00000000e+00,\n",
       "            0.00000000e+00,   0.00000000e+00],\n",
       "         [  0.00000000e+00,   0.00000000e+00,   0.00000000e+00,\n",
       "            0.00000000e+00,   0.00000000e+00],\n",
       "         [  0.00000000e+00,   0.00000000e+00,   0.00000000e+00,\n",
       "            0.00000000e+00,   0.00000000e+00]],\n",
       "\n",
       "        [[  6.16332412e-01,  -5.38150847e-01,   2.00320145e+02,\n",
       "            6.16332412e-01,   2.39587277e+02],\n",
       "         [  6.56218946e-01,  -5.25422633e-01,   1.92256775e+02,\n",
       "            6.56218946e-01,   2.35158862e+02],\n",
       "         [  6.20985210e-01,  -5.37231624e-01,   1.54148453e+02,\n",
       "            6.20985210e-01,   1.84837490e+02],\n",
       "         ..., \n",
       "         [  0.00000000e+00,   0.00000000e+00,   0.00000000e+00,\n",
       "            0.00000000e+00,   0.00000000e+00],\n",
       "         [  0.00000000e+00,   0.00000000e+00,   0.00000000e+00,\n",
       "            0.00000000e+00,   0.00000000e+00],\n",
       "         [  0.00000000e+00,   0.00000000e+00,   0.00000000e+00,\n",
       "            0.00000000e+00,   0.00000000e+00]]],\n",
       "\n",
       "\n",
       "       [[[ -9.39018309e-01,  -2.84306455e+00,   1.34869064e+02,\n",
       "           -9.39018309e-01,   1.98829440e+02],\n",
       "         [ -9.31721807e-01,  -2.84152985e+00,   9.89174881e+01,\n",
       "           -9.31721807e-01,   1.45050222e+02],\n",
       "         [ -9.54078496e-01,  -2.84189248e+00,   7.43776398e+01,\n",
       "           -9.54078496e-01,   1.10876381e+02],\n",
       "         ..., \n",
       "         [  0.00000000e+00,   0.00000000e+00,   0.00000000e+00,\n",
       "            0.00000000e+00,   0.00000000e+00],\n",
       "         [  0.00000000e+00,   0.00000000e+00,   0.00000000e+00,\n",
       "            0.00000000e+00,   0.00000000e+00],\n",
       "         [  0.00000000e+00,   0.00000000e+00,   0.00000000e+00,\n",
       "            0.00000000e+00,   0.00000000e+00]],\n",
       "\n",
       "        [[ -1.40000463e+00,   4.69166726e-01,   6.91088486e+01,\n",
       "           -1.40000463e+00,   1.48646725e+02],\n",
       "         [ -1.39498055e+00,   4.83983636e-01,   5.08732758e+01,\n",
       "           -1.39498055e+00,   1.08938353e+02],\n",
       "         [ -1.39180017e+00,   4.73673016e-01,   5.07372704e+01,\n",
       "           -1.39180017e+00,   1.08342117e+02],\n",
       "         ..., \n",
       "         [  0.00000000e+00,   0.00000000e+00,   0.00000000e+00,\n",
       "            0.00000000e+00,   0.00000000e+00],\n",
       "         [  0.00000000e+00,   0.00000000e+00,   0.00000000e+00,\n",
       "            0.00000000e+00,   0.00000000e+00],\n",
       "         [  0.00000000e+00,   0.00000000e+00,   0.00000000e+00,\n",
       "            0.00000000e+00,   0.00000000e+00]]],\n",
       "\n",
       "\n",
       "       [[[  4.59250569e-01,  -5.93202002e-02,   2.38233490e+02,\n",
       "            4.59250569e-01,   2.63801209e+02],\n",
       "         [  4.43190455e-01,  -1.30134579e-02,   1.23683182e+02,\n",
       "            4.43190455e-01,   1.36030096e+02],\n",
       "         [  4.52224523e-01,  -1.24361487e-02,   8.05583801e+01,\n",
       "            4.52224523e-01,   8.89371012e+01],\n",
       "         ..., \n",
       "         [  0.00000000e+00,   0.00000000e+00,   0.00000000e+00,\n",
       "            0.00000000e+00,   0.00000000e+00],\n",
       "         [  0.00000000e+00,   0.00000000e+00,   0.00000000e+00,\n",
       "            0.00000000e+00,   0.00000000e+00],\n",
       "         [  0.00000000e+00,   0.00000000e+00,   0.00000000e+00,\n",
       "            0.00000000e+00,   0.00000000e+00]],\n",
       "\n",
       "        [[ -4.68416005e-01,  -2.85486126e+00,   4.85048943e+01,\n",
       "           -4.68416005e-01,   5.39242217e+01],\n",
       "         [ -3.25387329e-01,  -2.81550789e+00,   4.53071060e+01,\n",
       "           -3.25387329e-01,   4.77268312e+01],\n",
       "         [ -4.94418472e-01,  -2.87584686e+00,   3.46922646e+01,\n",
       "           -4.94418472e-01,   3.90196044e+01],\n",
       "         ..., \n",
       "         [ -4.41866815e-01,  -2.55245900e+00,   1.01266885e+00,\n",
       "           -4.41866815e-01,   1.11314777e+00],\n",
       "         [ -2.48860866e-01,  -2.93517685e+00,   9.76476848e-01,\n",
       "           -2.48860866e-01,   1.00687068e+00],\n",
       "         [ -3.37709129e-01,   2.94954991e+00,   9.44628239e-01,\n",
       "           -3.37709129e-01,   9.99008355e-01]]],\n",
       "\n",
       "\n",
       "       ..., \n",
       "       [[[ -4.48975444e-01,  -7.80884147e-01,   8.11474762e+01,\n",
       "           -4.48975444e-01,   8.94646039e+01],\n",
       "         [ -4.81634080e-01,  -7.53244519e-01,   7.80609283e+01,\n",
       "           -4.81634080e-01,   8.72912597e+01],\n",
       "         [ -4.22035098e-01,  -7.91110456e-01,   7.72480927e+01,\n",
       "           -4.22035098e-01,   8.42302803e+01],\n",
       "         ..., \n",
       "         [  0.00000000e+00,   0.00000000e+00,   0.00000000e+00,\n",
       "            0.00000000e+00,   0.00000000e+00],\n",
       "         [  0.00000000e+00,   0.00000000e+00,   0.00000000e+00,\n",
       "            0.00000000e+00,   0.00000000e+00],\n",
       "         [  0.00000000e+00,   0.00000000e+00,   0.00000000e+00,\n",
       "            0.00000000e+00,   0.00000000e+00]],\n",
       "\n",
       "        [[  2.70805687e-01,   2.77878046e+00,   2.34269760e+02,\n",
       "            2.70805687e-01,   2.42912557e+02],\n",
       "         [  2.54962951e-01,   2.75381923e+00,   2.20659683e+02,\n",
       "            2.54962951e-01,   2.27870734e+02],\n",
       "         [  2.53750533e-01,   2.75751328e+00,   1.51947525e+02,\n",
       "            2.53750533e-01,   1.56865730e+02],\n",
       "         ..., \n",
       "         [  0.00000000e+00,   0.00000000e+00,   0.00000000e+00,\n",
       "            0.00000000e+00,   0.00000000e+00],\n",
       "         [  0.00000000e+00,   0.00000000e+00,   0.00000000e+00,\n",
       "            0.00000000e+00,   0.00000000e+00],\n",
       "         [  0.00000000e+00,   0.00000000e+00,   0.00000000e+00,\n",
       "            0.00000000e+00,   0.00000000e+00]]],\n",
       "\n",
       "\n",
       "       [[[  3.22318852e-01,   2.01352000e+00,   6.93857956e+01,\n",
       "            3.22318852e-01,   7.30213331e+01],\n",
       "         [  3.02992344e-01,   2.32887506e+00,   6.77152710e+01,\n",
       "            3.02992344e-01,   7.08474019e+01],\n",
       "         [  3.27080935e-01,   2.33160543e+00,   6.41516724e+01,\n",
       "            3.27080935e-01,   6.76139095e+01],\n",
       "         ..., \n",
       "         [  0.00000000e+00,   0.00000000e+00,   0.00000000e+00,\n",
       "            0.00000000e+00,   0.00000000e+00],\n",
       "         [  0.00000000e+00,   0.00000000e+00,   0.00000000e+00,\n",
       "            0.00000000e+00,   0.00000000e+00],\n",
       "         [  0.00000000e+00,   0.00000000e+00,   0.00000000e+00,\n",
       "            0.00000000e+00,   0.00000000e+00]],\n",
       "\n",
       "        [[ -5.12730896e-01,  -1.04407191e+00,   2.22636261e+02,\n",
       "           -5.12730896e-01,   2.52547785e+02],\n",
       "         [ -5.10945678e-01,  -1.03837168e+00,   1.43627136e+02,\n",
       "           -5.10945678e-01,   1.62786619e+02],\n",
       "         [ -5.17477334e-01,  -1.05687296e+00,   4.14238319e+01,\n",
       "           -5.17477334e-01,   4.70950035e+01],\n",
       "         ..., \n",
       "         [  0.00000000e+00,   0.00000000e+00,   0.00000000e+00,\n",
       "            0.00000000e+00,   0.00000000e+00],\n",
       "         [  0.00000000e+00,   0.00000000e+00,   0.00000000e+00,\n",
       "            0.00000000e+00,   0.00000000e+00],\n",
       "         [  0.00000000e+00,   0.00000000e+00,   0.00000000e+00,\n",
       "            0.00000000e+00,   0.00000000e+00]]],\n",
       "\n",
       "\n",
       "       [[[  6.86568797e-01,   1.58823419e+00,   2.18891296e+02,\n",
       "            6.86568797e-01,   2.72540070e+02],\n",
       "         [  7.17578471e-01,   1.57528281e+00,   1.21055412e+02,\n",
       "            7.17578471e-01,   1.53582804e+02],\n",
       "         [  7.18931258e-01,   1.57345366e+00,   1.15786606e+02,\n",
       "            7.18931258e-01,   1.47020707e+02],\n",
       "         ..., \n",
       "         [  0.00000000e+00,   0.00000000e+00,   0.00000000e+00,\n",
       "            0.00000000e+00,   0.00000000e+00],\n",
       "         [  0.00000000e+00,   0.00000000e+00,   0.00000000e+00,\n",
       "            0.00000000e+00,   0.00000000e+00],\n",
       "         [  0.00000000e+00,   0.00000000e+00,   0.00000000e+00,\n",
       "            0.00000000e+00,   0.00000000e+00]],\n",
       "\n",
       "        [[  2.28480160e-01,  -1.38349879e+00,   6.25236389e+02,\n",
       "            2.28480160e-01,   6.41627173e+02],\n",
       "         [  2.70888239e-01,  -1.36502254e+00,   7.24899292e+01,\n",
       "            2.70888239e-01,   7.51659044e+01],\n",
       "         [  2.77199596e-01,  -1.38284731e+00,   6.94632721e+01,\n",
       "            2.77199596e-01,   7.21491704e+01],\n",
       "         ..., \n",
       "         [  0.00000000e+00,   0.00000000e+00,   0.00000000e+00,\n",
       "            0.00000000e+00,   0.00000000e+00],\n",
       "         [  0.00000000e+00,   0.00000000e+00,   0.00000000e+00,\n",
       "            0.00000000e+00,   0.00000000e+00],\n",
       "         [  0.00000000e+00,   0.00000000e+00,   0.00000000e+00,\n",
       "            0.00000000e+00,   0.00000000e+00]]]])"
      ]
     },
     "execution_count": 39,
     "metadata": {},
     "output_type": "execute_result"
    }
   ],
   "source": [
    "l.data['jet_constituents']"
   ]
  },
  {
   "cell_type": "code",
   "execution_count": 29,
   "metadata": {
    "collapsed": false
   },
   "outputs": [
    {
     "name": "stdout",
     "output_type": "stream",
     "text": [
      "TEST MODE\n",
      "Converter :: Found 40 files\n",
      "Converter :: Found 40 delphes trees\n",
      "Converter :: Found 398497 total events\n",
      "Converter :: found 5839 selected events, out of a total of 398497\n",
      "Converter :: selecting on range [0, 100]\n",
      "Converter :: event feature shapes: (61, 5)\n",
      "Converter :: jet feature shapes: (61, 5)\n",
      "Converter :: jet constituent shapes: (61, 2, 100, 5)\n",
      "Converter :: eflow bases shapes: (61, 2, 0)\n",
      "Converter :: tree 0, event 0, index 2, total count 0\n",
      "Converter :: tree 3, event 0, index 57, total count 1\n",
      "Converter :: tree 4, event 0, index 35, total count 2\n",
      "Converter :: tree 5, event 0, index 27, total count 3\n",
      "Converter :: tree 7, event 0, index 6, total count 4\n",
      "Converter :: tree 8, event 0, index 29, total count 5\n",
      "Converter :: tree 8, event 1, index 32, total count 6\n",
      "Converter :: tree 8, event 2, index 42, total count 7\n",
      "Converter :: tree 8, event 3, index 88, total count 8\n",
      "Converter :: tree 9, event 0, index 15, total count 9\n",
      "Converter :: tree 9, event 1, index 55, total count 10\n",
      "Converter :: tree 10, event 0, index 29, total count 11\n",
      "Converter :: tree 10, event 1, index 72, total count 12\n",
      "Converter :: tree 11, event 0, index 8, total count 13\n",
      "Converter :: tree 11, event 1, index 59, total count 14\n",
      "Converter :: tree 12, event 0, index 5, total count 15\n",
      "Converter :: tree 12, event 1, index 50, total count 16\n",
      "Converter :: tree 13, event 0, index 64, total count 17\n",
      "Converter :: tree 13, event 1, index 66, total count 18\n",
      "Converter :: tree 14, event 0, index 44, total count 19\n",
      "Converter :: tree 15, event 0, index 16, total count 20\n",
      "Converter :: tree 16, event 0, index 16, total count 21\n",
      "Converter :: tree 17, event 0, index 11, total count 22\n",
      "Converter :: tree 17, event 1, index 57, total count 23\n",
      "Converter :: tree 17, event 2, index 70, total count 24\n",
      "Converter :: tree 19, event 0, index 17, total count 25\n",
      "Converter :: tree 19, event 1, index 34, total count 26\n",
      "Converter :: tree 19, event 2, index 85, total count 27\n",
      "Converter :: tree 20, event 0, index 62, total count 28\n",
      "Converter :: tree 20, event 1, index 66, total count 29\n",
      "Converter :: tree 21, event 0, index 49, total count 30\n",
      "Converter :: tree 21, event 1, index 61, total count 31\n",
      "Converter :: tree 21, event 2, index 63, total count 32\n",
      "Converter :: tree 21, event 3, index 72, total count 33\n",
      "Converter :: tree 21, event 4, index 92, total count 34\n",
      "Converter :: tree 23, event 0, index 11, total count 35\n",
      "Converter :: tree 23, event 1, index 98, total count 36\n",
      "Converter :: tree 24, event 0, index 19, total count 37\n",
      "Converter :: tree 24, event 1, index 31, total count 38\n",
      "Converter :: tree 25, event 0, index 78, total count 39\n",
      "Converter :: tree 26, event 0, index 74, total count 40\n",
      "Converter :: tree 27, event 0, index 35, total count 41\n",
      "Converter :: tree 27, event 1, index 82, total count 42\n",
      "Converter :: tree 28, event 0, index 22, total count 43\n",
      "Converter :: tree 28, event 1, index 79, total count 44\n",
      "Converter :: tree 29, event 0, index 27, total count 45\n",
      "Converter :: tree 29, event 1, index 48, total count 46\n",
      "Converter :: tree 31, event 0, index 45, total count 47\n",
      "Converter :: tree 32, event 0, index 50, total count 48\n",
      "Converter :: tree 33, event 0, index 71, total count 49\n",
      "Converter :: tree 34, event 0, index 73, total count 50\n",
      "Converter :: tree 36, event 0, index 10, total count 51\n",
      "Converter :: tree 36, event 1, index 66, total count 52\n",
      "Converter :: tree 37, event 0, index 16, total count 53\n",
      "Converter :: tree 37, event 1, index 36, total count 54\n",
      "Converter :: tree 37, event 2, index 51, total count 55\n",
      "Converter :: tree 38, event 0, index 10, total count 56\n",
      "Converter :: tree 38, event 1, index 21, total count 57\n",
      "Converter :: tree 38, event 2, index 58, total count 58\n",
      "Converter :: tree 39, event 0, index 3, total count 59\n",
      "Converter :: tree 39, event 1, index 63, total count 60\n",
      "Converter :: saving h5 data to file TEST.h5\n",
      "Converter :: creating feature 'event_features'\n",
      "Converter :: creating feature 'jet_features'\n",
      "Converter :: creating feature 'jet_constituents'\n",
      "Converter :: Successfully saved!\n"
     ]
    }
   ],
   "source": [
    "%run conversion/h5converter.py"
   ]
  },
  {
   "cell_type": "code",
   "execution_count": 24,
   "metadata": {
    "collapsed": false
   },
   "outputs": [
    {
     "data": {
      "text/plain": [
       "100"
      ]
     },
     "execution_count": 24,
     "metadata": {},
     "output_type": "execute_result"
    }
   ],
   "source": [
    "core.jet_constituents.shape[-2]"
   ]
  },
  {
   "cell_type": "code",
   "execution_count": 19,
   "metadata": {
    "collapsed": false
   },
   "outputs": [
    {
     "data": {
      "text/html": [
       "<div>\n",
       "<style scoped>\n",
       "    .dataframe tbody tr th:only-of-type {\n",
       "        vertical-align: middle;\n",
       "    }\n",
       "\n",
       "    .dataframe tbody tr th {\n",
       "        vertical-align: top;\n",
       "    }\n",
       "\n",
       "    .dataframe thead th {\n",
       "        text-align: right;\n",
       "    }\n",
       "</style>\n",
       "<table border=\"1\" class=\"dataframe\">\n",
       "  <thead>\n",
       "    <tr style=\"text-align: right;\">\n",
       "      <th></th>\n",
       "      <th>end_time</th>\n",
       "      <th>filename</th>\n",
       "      <th>hlf_to_drop</th>\n",
       "      <th>mae_auc</th>\n",
       "      <th>norm_type</th>\n",
       "      <th>seed</th>\n",
       "      <th>target_dim</th>\n",
       "    </tr>\n",
       "  </thead>\n",
       "  <tbody>\n",
       "    <tr>\n",
       "      <th>122</th>\n",
       "      <td>2019-09-09 23:25:01.337240</td>\n",
       "      <td>hlf_eflow3_8_v24</td>\n",
       "      <td>[Axis2, PTD, Energy, Flavor]</td>\n",
       "      <td>0.905551</td>\n",
       "      <td>MinMaxScaler</td>\n",
       "      <td>63965463</td>\n",
       "      <td>8</td>\n",
       "    </tr>\n",
       "    <tr>\n",
       "      <th>129</th>\n",
       "      <td>2019-09-09 23:50:24.864712</td>\n",
       "      <td>hlf_eflow3_8_v29</td>\n",
       "      <td>[Axis2, PTD, Energy, Flavor]</td>\n",
       "      <td>0.905551</td>\n",
       "      <td>MinMaxScaler</td>\n",
       "      <td>63965463</td>\n",
       "      <td>8</td>\n",
       "    </tr>\n",
       "    <tr>\n",
       "      <th>107</th>\n",
       "      <td>2019-08-09 12:46:10.082595</td>\n",
       "      <td>hlf_eflow3_10_v4</td>\n",
       "      <td>[Energy, Flavor]</td>\n",
       "      <td>0.904568</td>\n",
       "      <td>MinMaxScaler</td>\n",
       "      <td>60425579</td>\n",
       "      <td>10</td>\n",
       "    </tr>\n",
       "    <tr>\n",
       "      <th>114</th>\n",
       "      <td>2019-08-09 13:30:13.843092</td>\n",
       "      <td>hlf_eflow3_10_v6</td>\n",
       "      <td>[Energy, Flavor]</td>\n",
       "      <td>0.904568</td>\n",
       "      <td>MinMaxScaler</td>\n",
       "      <td>60425579</td>\n",
       "      <td>10</td>\n",
       "    </tr>\n",
       "    <tr>\n",
       "      <th>108</th>\n",
       "      <td>2019-08-09 12:51:25.176305</td>\n",
       "      <td>hlf_eflow4_12_v1</td>\n",
       "      <td>[Energy, Flavor]</td>\n",
       "      <td>0.901751</td>\n",
       "      <td>MinMaxScaler</td>\n",
       "      <td>59216917</td>\n",
       "      <td>12</td>\n",
       "    </tr>\n",
       "    <tr>\n",
       "      <th>128</th>\n",
       "      <td>2019-09-09 23:46:22.989876</td>\n",
       "      <td>hlf_eflow3_8_v28</td>\n",
       "      <td>[Axis2, PTD, Energy, Flavor]</td>\n",
       "      <td>0.897424</td>\n",
       "      <td>MinMaxScaler</td>\n",
       "      <td>11723159</td>\n",
       "      <td>8</td>\n",
       "    </tr>\n",
       "    <tr>\n",
       "      <th>101</th>\n",
       "      <td>2019-08-09 11:45:12.506992</td>\n",
       "      <td>hlf_eflow3_8_v19</td>\n",
       "      <td>[Energy, Flavor]</td>\n",
       "      <td>0.895509</td>\n",
       "      <td>MinMaxScaler</td>\n",
       "      <td>85891037</td>\n",
       "      <td>8</td>\n",
       "    </tr>\n",
       "    <tr>\n",
       "      <th>130</th>\n",
       "      <td>2019-09-09 23:54:24.967115</td>\n",
       "      <td>hlf_eflow3_8_v30</td>\n",
       "      <td>[Axis2, PTD, Energy, Flavor]</td>\n",
       "      <td>0.894654</td>\n",
       "      <td>MinMaxScaler</td>\n",
       "      <td>64732267</td>\n",
       "      <td>8</td>\n",
       "    </tr>\n",
       "    <tr>\n",
       "      <th>49</th>\n",
       "      <td>2019-08-09 04:35:50.757814</td>\n",
       "      <td>hlf_eflow3_20_v13</td>\n",
       "      <td>[Energy, Flavor]</td>\n",
       "      <td>0.889205</td>\n",
       "      <td>MinMaxScaler</td>\n",
       "      <td>42</td>\n",
       "      <td>20</td>\n",
       "    </tr>\n",
       "    <tr>\n",
       "      <th>51</th>\n",
       "      <td>2019-08-09 04:43:27.632973</td>\n",
       "      <td>hlf_eflow3_20_v14</td>\n",
       "      <td>[Energy, Flavor]</td>\n",
       "      <td>0.889205</td>\n",
       "      <td>MinMaxScaler</td>\n",
       "      <td>42</td>\n",
       "      <td>20</td>\n",
       "    </tr>\n",
       "  </tbody>\n",
       "</table>\n",
       "</div>"
      ],
      "text/plain": [
       "                       end_time           filename  \\\n",
       "122  2019-09-09 23:25:01.337240   hlf_eflow3_8_v24   \n",
       "129  2019-09-09 23:50:24.864712   hlf_eflow3_8_v29   \n",
       "107  2019-08-09 12:46:10.082595   hlf_eflow3_10_v4   \n",
       "114  2019-08-09 13:30:13.843092   hlf_eflow3_10_v6   \n",
       "108  2019-08-09 12:51:25.176305   hlf_eflow4_12_v1   \n",
       "128  2019-09-09 23:46:22.989876   hlf_eflow3_8_v28   \n",
       "101  2019-08-09 11:45:12.506992   hlf_eflow3_8_v19   \n",
       "130  2019-09-09 23:54:24.967115   hlf_eflow3_8_v30   \n",
       "49   2019-08-09 04:35:50.757814  hlf_eflow3_20_v13   \n",
       "51   2019-08-09 04:43:27.632973  hlf_eflow3_20_v14   \n",
       "\n",
       "                      hlf_to_drop   mae_auc     norm_type      seed target_dim  \n",
       "122  [Axis2, PTD, Energy, Flavor]  0.905551  MinMaxScaler  63965463          8  \n",
       "129  [Axis2, PTD, Energy, Flavor]  0.905551  MinMaxScaler  63965463          8  \n",
       "107              [Energy, Flavor]  0.904568  MinMaxScaler  60425579         10  \n",
       "114              [Energy, Flavor]  0.904568  MinMaxScaler  60425579         10  \n",
       "108              [Energy, Flavor]  0.901751  MinMaxScaler  59216917         12  \n",
       "128  [Axis2, PTD, Energy, Flavor]  0.897424  MinMaxScaler  11723159          8  \n",
       "101              [Energy, Flavor]  0.895509  MinMaxScaler  85891037          8  \n",
       "130  [Axis2, PTD, Energy, Flavor]  0.894654  MinMaxScaler  64732267          8  \n",
       "49               [Energy, Flavor]  0.889205  MinMaxScaler        42         20  \n",
       "51               [Energy, Flavor]  0.889205  MinMaxScaler        42         20  "
      ]
     },
     "execution_count": 19,
     "metadata": {},
     "output_type": "execute_result"
    }
   ],
   "source": [
    "utils.summary().cfilter(\n",
    "    [\n",
    "        'filename', 'mae_auc', 'hlf_to_drop',\n",
    "        'end_time', 'norm_type', 'target_dim',\n",
    "        'seed',\n",
    "    ]\n",
    ").sort_values('mae_auc')[::-1].head(10)"
   ]
  },
  {
   "cell_type": "code",
   "execution_count": null,
   "metadata": {
    "collapsed": true
   },
   "outputs": [],
   "source": []
  },
  {
   "cell_type": "code",
   "execution_count": 17,
   "metadata": {
    "collapsed": false
   },
   "outputs": [
    {
     "name": "stdout",
     "output_type": "stream",
     "text": [
      "training under filename 'hlf_eflow3_8_v30'\n",
      "_________________________________________________________________\n",
      "Layer (type)                 Output Shape              Param #   \n",
      "=================================================================\n",
      "layer_1 (InputLayer)         (None, 17)                0         \n",
      "_________________________________________________________________\n",
      "encoder (Model)              (None, 8)                 12708     \n",
      "_________________________________________________________________\n",
      "decoder (Model)              (None, 17)                12717     \n",
      "=================================================================\n",
      "Total params: 25,425\n",
      "Trainable params: 25,425\n",
      "Non-trainable params: 0\n",
      "_________________________________________________________________\n",
      "TRAINING WITH PARAMS >>>\n",
      "epochs : 100\n",
      "loss : mse\n",
      "learning_rate : 0.0005\n",
      "optimizer : adam\n",
      "batch_size : 64\n",
      "Train on 74716 samples, validate on 13186 samples\n",
      "Epoch 1/100\n",
      "73856/74716 [============================>.] - ETA: 0s - loss: 0.0020Epoch 00001: val_loss improved from inf to 0.00006, saving model to /afs/cern.ch/work/l/llepotti/private/CMS/CMSSW_8_0_20/src/autoencodeSVJ/autoencode/data/training_runs/hlf_eflow3_8_v30_weights.h5\n",
      "74716/74716 [==============================] - 8s 103us/step - loss: 0.0020 - val_loss: 6.4391e-05\n",
      "Epoch 2/100\n",
      "74240/74716 [============================>.] - ETA: 0s - loss: 5.2939e-05Epoch 00002: val_loss improved from 0.00006 to 0.00005, saving model to /afs/cern.ch/work/l/llepotti/private/CMS/CMSSW_8_0_20/src/autoencodeSVJ/autoencode/data/training_runs/hlf_eflow3_8_v30_weights.h5\n",
      "74716/74716 [==============================] - 3s 38us/step - loss: 5.2898e-05 - val_loss: 4.9329e-05\n",
      "Epoch 3/100\n",
      "73792/74716 [============================>.] - ETA: 0s - loss: 4.5747e-05Epoch 00003: val_loss improved from 0.00005 to 0.00004, saving model to /afs/cern.ch/work/l/llepotti/private/CMS/CMSSW_8_0_20/src/autoencodeSVJ/autoencode/data/training_runs/hlf_eflow3_8_v30_weights.h5\n",
      "74716/74716 [==============================] - 3s 39us/step - loss: 4.5791e-05 - val_loss: 4.4069e-05\n",
      "Epoch 4/100\n",
      "73856/74716 [============================>.] - ETA: 0s - loss: 4.3866e-05Epoch 00004: val_loss improved from 0.00004 to 0.00004, saving model to /afs/cern.ch/work/l/llepotti/private/CMS/CMSSW_8_0_20/src/autoencodeSVJ/autoencode/data/training_runs/hlf_eflow3_8_v30_weights.h5\n",
      "74716/74716 [==============================] - 3s 39us/step - loss: 4.3894e-05 - val_loss: 4.1451e-05\n",
      "Epoch 5/100\n",
      "74560/74716 [============================>.] - ETA: 0s - loss: 4.2308e-05Epoch 00005: val_loss improved from 0.00004 to 0.00004, saving model to /afs/cern.ch/work/l/llepotti/private/CMS/CMSSW_8_0_20/src/autoencodeSVJ/autoencode/data/training_runs/hlf_eflow3_8_v30_weights.h5\n",
      "74716/74716 [==============================] - 3s 38us/step - loss: 4.2290e-05 - val_loss: 4.1099e-05\n",
      "Epoch 6/100\n",
      "73984/74716 [============================>.] - ETA: 0s - loss: 4.1622e-05Epoch 00006: val_loss did not improve\n",
      "74716/74716 [==============================] - 3s 38us/step - loss: 4.1660e-05 - val_loss: 4.3257e-05\n",
      "Epoch 7/100\n",
      "73408/74716 [============================>.] - ETA: 0s - loss: 3.9930e-05Epoch 00007: val_loss improved from 0.00004 to 0.00004, saving model to /afs/cern.ch/work/l/llepotti/private/CMS/CMSSW_8_0_20/src/autoencodeSVJ/autoencode/data/training_runs/hlf_eflow3_8_v30_weights.h5\n",
      "74716/74716 [==============================] - 3s 42us/step - loss: 3.9949e-05 - val_loss: 3.8979e-05\n",
      "Epoch 8/100\n",
      "74432/74716 [============================>.] - ETA: 0s - loss: 3.3769e-05Epoch 00008: val_loss improved from 0.00004 to 0.00003, saving model to /afs/cern.ch/work/l/llepotti/private/CMS/CMSSW_8_0_20/src/autoencodeSVJ/autoencode/data/training_runs/hlf_eflow3_8_v30_weights.h5\n",
      "74716/74716 [==============================] - 3s 34us/step - loss: 3.3797e-05 - val_loss: 3.4187e-05\n",
      "Epoch 9/100\n",
      "73728/74716 [============================>.] - ETA: 0s - loss: 3.3592e-05Epoch 00009: val_loss improved from 0.00003 to 0.00003, saving model to /afs/cern.ch/work/l/llepotti/private/CMS/CMSSW_8_0_20/src/autoencodeSVJ/autoencode/data/training_runs/hlf_eflow3_8_v30_weights.h5\n",
      "74716/74716 [==============================] - 3s 36us/step - loss: 3.3636e-05 - val_loss: 3.3751e-05\n",
      "Epoch 10/100\n",
      "74560/74716 [============================>.] - ETA: 0s - loss: 3.3483e-05Epoch 00010: val_loss improved from 0.00003 to 0.00003, saving model to /afs/cern.ch/work/l/llepotti/private/CMS/CMSSW_8_0_20/src/autoencodeSVJ/autoencode/data/training_runs/hlf_eflow3_8_v30_weights.h5\n",
      "74716/74716 [==============================] - 3s 38us/step - loss: 3.3470e-05 - val_loss: 3.3432e-05\n",
      "Epoch 11/100\n",
      "73728/74716 [============================>.] - ETA: 0s - loss: 3.3276e-05Epoch 00011: val_loss improved from 0.00003 to 0.00003, saving model to /afs/cern.ch/work/l/llepotti/private/CMS/CMSSW_8_0_20/src/autoencodeSVJ/autoencode/data/training_runs/hlf_eflow3_8_v30_weights.h5\n",
      "74716/74716 [==============================] - 3s 39us/step - loss: 3.3284e-05 - val_loss: 3.3232e-05\n",
      "Epoch 12/100\n",
      "74048/74716 [============================>.] - ETA: 0s - loss: 3.3155e-05Epoch 00012: val_loss did not improve\n",
      "74716/74716 [==============================] - 3s 39us/step - loss: 3.3143e-05 - val_loss: 3.3753e-05\n",
      "Epoch 13/100\n",
      "74432/74716 [============================>.] - ETA: 0s - loss: 3.2323e-05Epoch 00013: val_loss improved from 0.00003 to 0.00003, saving model to /afs/cern.ch/work/l/llepotti/private/CMS/CMSSW_8_0_20/src/autoencodeSVJ/autoencode/data/training_runs/hlf_eflow3_8_v30_weights.h5\n",
      "74716/74716 [==============================] - 3s 40us/step - loss: 3.2310e-05 - val_loss: 3.2589e-05\n",
      "Epoch 14/100\n",
      "73600/74716 [============================>.] - ETA: 0s - loss: 3.2219e-05Epoch 00014: val_loss improved from 0.00003 to 0.00003, saving model to /afs/cern.ch/work/l/llepotti/private/CMS/CMSSW_8_0_20/src/autoencodeSVJ/autoencode/data/training_runs/hlf_eflow3_8_v30_weights.h5\n",
      "74716/74716 [==============================] - 3s 40us/step - loss: 3.2274e-05 - val_loss: 3.2550e-05\n",
      "Epoch 15/100\n",
      "73536/74716 [============================>.] - ETA: 0s - loss: 3.2280e-05Epoch 00015: val_loss did not improve\n",
      "74716/74716 [==============================] - 3s 38us/step - loss: 3.2241e-05 - val_loss: 3.2552e-05\n",
      "Epoch 16/100\n",
      "73408/74716 [============================>.] - ETA: 0s - loss: 3.2213e-05Epoch 00016: val_loss did not improve\n",
      "74716/74716 [==============================] - 3s 41us/step - loss: 3.2220e-05 - val_loss: 3.2571e-05\n",
      "Epoch 17/100\n",
      "73984/74716 [============================>.] - ETA: 0s - loss: 3.2220e-05Epoch 00017: val_loss improved from 0.00003 to 0.00003, saving model to /afs/cern.ch/work/l/llepotti/private/CMS/CMSSW_8_0_20/src/autoencodeSVJ/autoencode/data/training_runs/hlf_eflow3_8_v30_weights.h5\n",
      "74716/74716 [==============================] - 3s 40us/step - loss: 3.2199e-05 - val_loss: 3.2491e-05\n",
      "Epoch 18/100\n",
      "74368/74716 [============================>.] - ETA: 0s - loss: 3.2098e-05Epoch 00018: val_loss improved from 0.00003 to 0.00003, saving model to /afs/cern.ch/work/l/llepotti/private/CMS/CMSSW_8_0_20/src/autoencodeSVJ/autoencode/data/training_runs/hlf_eflow3_8_v30_weights.h5\n",
      "74716/74716 [==============================] - 3s 39us/step - loss: 3.2099e-05 - val_loss: 3.2428e-05\n",
      "Epoch 19/100\n",
      "73664/74716 [============================>.] - ETA: 0s - loss: 3.2052e-05Epoch 00019: val_loss improved from 0.00003 to 0.00003, saving model to /afs/cern.ch/work/l/llepotti/private/CMS/CMSSW_8_0_20/src/autoencodeSVJ/autoencode/data/training_runs/hlf_eflow3_8_v30_weights.h5\n",
      "74716/74716 [==============================] - 3s 39us/step - loss: 3.2093e-05 - val_loss: 3.2420e-05\n",
      "Epoch 20/100\n",
      "74560/74716 [============================>.] - ETA: 0s - loss: 3.2108e-05Epoch 00020: val_loss improved from 0.00003 to 0.00003, saving model to /afs/cern.ch/work/l/llepotti/private/CMS/CMSSW_8_0_20/src/autoencodeSVJ/autoencode/data/training_runs/hlf_eflow3_8_v30_weights.h5\n",
      "74716/74716 [==============================] - 3s 39us/step - loss: 3.2090e-05 - val_loss: 3.2416e-05\n",
      "Epoch 21/100\n",
      "73984/74716 [============================>.] - ETA: 0s - loss: 3.2056e-05Epoch 00021: val_loss did not improve\n",
      "74716/74716 [==============================] - 3s 39us/step - loss: 3.2087e-05 - val_loss: 3.2417e-05\n",
      "Epoch 22/100\n",
      "74368/74716 [============================>.] - ETA: 0s - loss: 3.2071e-05Epoch 00022: val_loss improved from 0.00003 to 0.00003, saving model to /afs/cern.ch/work/l/llepotti/private/CMS/CMSSW_8_0_20/src/autoencodeSVJ/autoencode/data/training_runs/hlf_eflow3_8_v30_weights.h5\n",
      "74716/74716 [==============================] - 3s 39us/step - loss: 3.2085e-05 - val_loss: 3.2410e-05\n",
      "Epoch 23/100\n",
      "73856/74716 [============================>.] - ETA: 0s - loss: 3.2046e-05Epoch 00023: val_loss improved from 0.00003 to 0.00003, saving model to /afs/cern.ch/work/l/llepotti/private/CMS/CMSSW_8_0_20/src/autoencodeSVJ/autoencode/data/training_runs/hlf_eflow3_8_v30_weights.h5\n",
      "74716/74716 [==============================] - 3s 40us/step - loss: 3.2073e-05 - val_loss: 3.2407e-05\n",
      "Epoch 24/100\n",
      "73536/74716 [============================>.] - ETA: 0s - loss: 3.2126e-05Epoch 00024: val_loss improved from 0.00003 to 0.00003, saving model to /afs/cern.ch/work/l/llepotti/private/CMS/CMSSW_8_0_20/src/autoencodeSVJ/autoencode/data/training_runs/hlf_eflow3_8_v30_weights.h5\n",
      "74716/74716 [==============================] - 3s 40us/step - loss: 3.2072e-05 - val_loss: 3.2406e-05\n",
      "Epoch 25/100\n",
      "73984/74716 [============================>.] - ETA: 0s - loss: 3.2059e-05Epoch 00025: val_loss improved from 0.00003 to 0.00003, saving model to /afs/cern.ch/work/l/llepotti/private/CMS/CMSSW_8_0_20/src/autoencodeSVJ/autoencode/data/training_runs/hlf_eflow3_8_v30_weights.h5\n",
      "74716/74716 [==============================] - 3s 40us/step - loss: 3.2072e-05 - val_loss: 3.2404e-05\n",
      "Epoch 26/100\n",
      "74112/74716 [============================>.] - ETA: 0s - loss: 3.2102e-05Epoch 00026: val_loss improved from 0.00003 to 0.00003, saving model to /afs/cern.ch/work/l/llepotti/private/CMS/CMSSW_8_0_20/src/autoencodeSVJ/autoencode/data/training_runs/hlf_eflow3_8_v30_weights.h5\n",
      "74716/74716 [==============================] - 3s 39us/step - loss: 3.2072e-05 - val_loss: 3.2404e-05\n",
      "Epoch 27/100\n",
      "74240/74716 [============================>.] - ETA: 0s - loss: 3.2082e-05Epoch 00027: val_loss did not improve\n",
      "74716/74716 [==============================] - 3s 40us/step - loss: 3.2071e-05 - val_loss: 3.2405e-05\n",
      "Epoch 28/100\n",
      "74176/74716 [============================>.] - ETA: 0s - loss: 3.2076e-05Epoch 00028: val_loss did not improve\n",
      "74716/74716 [==============================] - 3s 39us/step - loss: 3.2070e-05 - val_loss: 3.2404e-05\n",
      "Epoch 29/100\n",
      "74496/74716 [============================>.] - ETA: 0s - loss: 3.2061e-05Epoch 00029: val_loss did not improve\n",
      "74716/74716 [==============================] - 3s 39us/step - loss: 3.2070e-05 - val_loss: 3.2404e-05\n",
      "Epoch 30/100\n",
      "73536/74716 [============================>.] - ETA: 0s - loss: 3.2135e-05Epoch 00030: val_loss did not improve\n",
      "74716/74716 [==============================] - 3s 41us/step - loss: 3.2070e-05 - val_loss: 3.2404e-05\n",
      "Epoch 31/100\n",
      "74048/74716 [============================>.] - ETA: 0s - loss: 3.2043e-05Epoch 00031: val_loss did not improve\n",
      "74716/74716 [==============================] - 3s 40us/step - loss: 3.2070e-05 - val_loss: 3.2404e-05\n",
      "Epoch 32/100\n",
      "74688/74716 [============================>.] - ETA: 0s - loss: 3.2064e-05Epoch 00032: val_loss did not improve\n",
      "74716/74716 [==============================] - 3s 40us/step - loss: 3.2070e-05 - val_loss: 3.2404e-05\n",
      "Epoch 33/100\n",
      "74688/74716 [============================>.] - ETA: 0s - loss: 3.2070e-05Epoch 00033: val_loss did not improve\n",
      "74716/74716 [==============================] - 3s 40us/step - loss: 3.2070e-05 - val_loss: 3.2404e-05\n",
      "Epoch 34/100\n",
      "74368/74716 [============================>.] - ETA: 0s - loss: 3.2061e-05Epoch 00034: val_loss did not improve\n",
      "74716/74716 [==============================] - 3s 39us/step - loss: 3.2070e-05 - val_loss: 3.2404e-05\n",
      "Epoch 35/100\n",
      "74368/74716 [============================>.] - ETA: 0s - loss: 3.2083e-05Epoch 00035: val_loss did not improve\n",
      "74716/74716 [==============================] - 3s 39us/step - loss: 3.2070e-05 - val_loss: 3.2404e-05\n",
      "Epoch 36/100\n",
      "74432/74716 [============================>.] - ETA: 0s - loss: 3.2077e-05Epoch 00036: val_loss did not improve\n",
      "74716/74716 [==============================] - 3s 38us/step - loss: 3.2070e-05 - val_loss: 3.2404e-05\n",
      "train_shell :: \n",
      "train_shell :: trained 36 epochs!\n",
      "train_shell :: \n",
      "train_shell :: using saved model\n",
      "train_shell :: finished epoch N: 36\n",
      "train_shell :: model saved\n"
     ]
    },
    {
     "data": {
      "text/plain": [
       "0.89470120033445166"
      ]
     },
     "execution_count": 17,
     "metadata": {},
     "output_type": "execute_result"
    }
   ],
   "source": [
    "ae_train(\n",
    "    'data/signal/base_3/*.h5',\n",
    "    'data/background/base_3/*.h5',\n",
    "    8,\n",
    "    True,\n",
    "    True,\n",
    "    epochs=100,\n",
    "    interm_architecture=(100,100),\n",
    "    hlf_to_drop=['Axis2', 'PTD', 'Energy', 'Flavor']\n",
    ")"
   ]
  },
  {
   "cell_type": "code",
   "execution_count": 13,
   "metadata": {
    "collapsed": false
   },
   "outputs": [
    {
     "name": "stdout",
     "output_type": "stream",
     "text": [
      "training under filename 'hlf_eflow3_8_v28'\n",
      "_________________________________________________________________\n",
      "Layer (type)                 Output Shape              Param #   \n",
      "=================================================================\n",
      "layer_1 (InputLayer)         (None, 17)                0         \n",
      "_________________________________________________________________\n",
      "encoder (Model)              (None, 8)                 12708     \n",
      "_________________________________________________________________\n",
      "decoder (Model)              (None, 17)                12717     \n",
      "=================================================================\n",
      "Total params: 25,425\n",
      "Trainable params: 25,425\n",
      "Non-trainable params: 0\n",
      "_________________________________________________________________\n",
      "TRAINING WITH PARAMS >>>\n",
      "epochs : 100\n",
      "loss : mse\n",
      "learning_rate : 0.0005\n",
      "optimizer : adam\n",
      "batch_size : 64\n",
      "Train on 74716 samples, validate on 13186 samples\n",
      "Epoch 1/100\n",
      "74176/74716 [============================>.] - ETA: 0s - loss: 0.0020Epoch 00001: val_loss improved from inf to 0.00007, saving model to /afs/cern.ch/work/l/llepotti/private/CMS/CMSSW_8_0_20/src/autoencodeSVJ/autoencode/data/training_runs/hlf_eflow3_8_v28_weights.h5\n",
      "74716/74716 [==============================] - 6s 80us/step - loss: 0.0020 - val_loss: 6.5179e-05\n",
      "Epoch 2/100\n",
      "74112/74716 [============================>.] - ETA: 0s - loss: 5.6027e-05Epoch 00002: val_loss improved from 0.00007 to 0.00006, saving model to /afs/cern.ch/work/l/llepotti/private/CMS/CMSSW_8_0_20/src/autoencodeSVJ/autoencode/data/training_runs/hlf_eflow3_8_v28_weights.h5\n",
      "74716/74716 [==============================] - 3s 38us/step - loss: 5.6029e-05 - val_loss: 6.1290e-05\n",
      "Epoch 3/100\n",
      "74304/74716 [============================>.] - ETA: 0s - loss: 4.7263e-05Epoch 00003: val_loss improved from 0.00006 to 0.00005, saving model to /afs/cern.ch/work/l/llepotti/private/CMS/CMSSW_8_0_20/src/autoencodeSVJ/autoencode/data/training_runs/hlf_eflow3_8_v28_weights.h5\n",
      "74716/74716 [==============================] - 3s 38us/step - loss: 4.7212e-05 - val_loss: 4.5847e-05\n",
      "Epoch 4/100\n",
      "74496/74716 [============================>.] - ETA: 0s - loss: 4.2962e-05Epoch 00004: val_loss improved from 0.00005 to 0.00004, saving model to /afs/cern.ch/work/l/llepotti/private/CMS/CMSSW_8_0_20/src/autoencodeSVJ/autoencode/data/training_runs/hlf_eflow3_8_v28_weights.h5\n",
      "74716/74716 [==============================] - 3s 37us/step - loss: 4.2940e-05 - val_loss: 4.2657e-05\n",
      "Epoch 5/100\n",
      "73792/74716 [============================>.] - ETA: 0s - loss: 4.1016e-05Epoch 00005: val_loss improved from 0.00004 to 0.00004, saving model to /afs/cern.ch/work/l/llepotti/private/CMS/CMSSW_8_0_20/src/autoencodeSVJ/autoencode/data/training_runs/hlf_eflow3_8_v28_weights.h5\n",
      "74716/74716 [==============================] - 3s 38us/step - loss: 4.0992e-05 - val_loss: 4.1124e-05\n",
      "Epoch 6/100\n",
      "73408/74716 [============================>.] - ETA: 0s - loss: 3.9242e-05Epoch 00006: val_loss improved from 0.00004 to 0.00004, saving model to /afs/cern.ch/work/l/llepotti/private/CMS/CMSSW_8_0_20/src/autoencodeSVJ/autoencode/data/training_runs/hlf_eflow3_8_v28_weights.h5\n",
      "74716/74716 [==============================] - 3s 37us/step - loss: 3.9254e-05 - val_loss: 3.5838e-05\n",
      "Epoch 7/100\n",
      "73536/74716 [============================>.] - ETA: 0s - loss: 3.8255e-05Epoch 00007: val_loss did not improve\n",
      "74716/74716 [==============================] - 3s 39us/step - loss: 3.8167e-05 - val_loss: 3.7069e-05\n",
      "Epoch 8/100\n",
      "73472/74716 [============================>.] - ETA: 0s - loss: 3.2113e-05Epoch 00008: val_loss improved from 0.00004 to 0.00003, saving model to /afs/cern.ch/work/l/llepotti/private/CMS/CMSSW_8_0_20/src/autoencodeSVJ/autoencode/data/training_runs/hlf_eflow3_8_v28_weights.h5\n",
      "74716/74716 [==============================] - 3s 38us/step - loss: 3.2076e-05 - val_loss: 3.1162e-05\n",
      "Epoch 9/100\n",
      "74496/74716 [============================>.] - ETA: 0s - loss: 3.1940e-05Epoch 00009: val_loss improved from 0.00003 to 0.00003, saving model to /afs/cern.ch/work/l/llepotti/private/CMS/CMSSW_8_0_20/src/autoencodeSVJ/autoencode/data/training_runs/hlf_eflow3_8_v28_weights.h5\n",
      "74716/74716 [==============================] - 3s 37us/step - loss: 3.1946e-05 - val_loss: 3.1143e-05\n",
      "Epoch 10/100\n",
      "73536/74716 [============================>.] - ETA: 0s - loss: 3.1898e-05Epoch 00010: val_loss did not improve\n",
      "74716/74716 [==============================] - 3s 40us/step - loss: 3.1853e-05 - val_loss: 3.1186e-05\n",
      "Epoch 11/100\n",
      "73472/74716 [============================>.] - ETA: 0s - loss: 3.1826e-05Epoch 00011: val_loss did not improve\n",
      "74716/74716 [==============================] - 3s 39us/step - loss: 3.1793e-05 - val_loss: 3.1269e-05\n",
      "Epoch 12/100\n",
      "73664/74716 [============================>.] - ETA: 0s - loss: 3.1680e-05Epoch 00012: val_loss improved from 0.00003 to 0.00003, saving model to /afs/cern.ch/work/l/llepotti/private/CMS/CMSSW_8_0_20/src/autoencodeSVJ/autoencode/data/training_runs/hlf_eflow3_8_v28_weights.h5\n",
      "74716/74716 [==============================] - 3s 40us/step - loss: 3.1648e-05 - val_loss: 3.0706e-05\n",
      "Epoch 13/100\n",
      "73536/74716 [============================>.] - ETA: 0s - loss: 3.0932e-05Epoch 00013: val_loss improved from 0.00003 to 0.00003, saving model to /afs/cern.ch/work/l/llepotti/private/CMS/CMSSW_8_0_20/src/autoencodeSVJ/autoencode/data/training_runs/hlf_eflow3_8_v28_weights.h5\n",
      "74716/74716 [==============================] - 3s 39us/step - loss: 3.0888e-05 - val_loss: 3.0369e-05\n",
      "Epoch 14/100\n",
      "73344/74716 [============================>.] - ETA: 0s - loss: 3.0925e-05Epoch 00014: val_loss improved from 0.00003 to 0.00003, saving model to /afs/cern.ch/work/l/llepotti/private/CMS/CMSSW_8_0_20/src/autoencodeSVJ/autoencode/data/training_runs/hlf_eflow3_8_v28_weights.h5\n",
      "74716/74716 [==============================] - 3s 38us/step - loss: 3.0854e-05 - val_loss: 3.0318e-05\n",
      "Epoch 15/100\n",
      "73600/74716 [============================>.] - ETA: 0s - loss: 3.0897e-05Epoch 00015: val_loss improved from 0.00003 to 0.00003, saving model to /afs/cern.ch/work/l/llepotti/private/CMS/CMSSW_8_0_20/src/autoencodeSVJ/autoencode/data/training_runs/hlf_eflow3_8_v28_weights.h5\n",
      "74716/74716 [==============================] - 3s 39us/step - loss: 3.0831e-05 - val_loss: 3.0280e-05\n",
      "Epoch 16/100\n",
      "74048/74716 [============================>.] - ETA: 0s - loss: 3.0865e-05Epoch 00016: val_loss did not improve\n",
      "74716/74716 [==============================] - 3s 39us/step - loss: 3.0828e-05 - val_loss: 3.0485e-05\n",
      "Epoch 17/100\n",
      "74496/74716 [============================>.] - ETA: 0s - loss: 3.0848e-05Epoch 00017: val_loss improved from 0.00003 to 0.00003, saving model to /afs/cern.ch/work/l/llepotti/private/CMS/CMSSW_8_0_20/src/autoencodeSVJ/autoencode/data/training_runs/hlf_eflow3_8_v28_weights.h5\n",
      "74716/74716 [==============================] - 3s 39us/step - loss: 3.0826e-05 - val_loss: 3.0264e-05\n",
      "Epoch 18/100\n",
      "74560/74716 [============================>.] - ETA: 0s - loss: 3.0708e-05Epoch 00018: val_loss improved from 0.00003 to 0.00003, saving model to /afs/cern.ch/work/l/llepotti/private/CMS/CMSSW_8_0_20/src/autoencodeSVJ/autoencode/data/training_runs/hlf_eflow3_8_v28_weights.h5\n",
      "74716/74716 [==============================] - 3s 38us/step - loss: 3.0709e-05 - val_loss: 3.0211e-05\n",
      "Epoch 19/100\n",
      "73792/74716 [============================>.] - ETA: 0s - loss: 3.0683e-05Epoch 00019: val_loss improved from 0.00003 to 0.00003, saving model to /afs/cern.ch/work/l/llepotti/private/CMS/CMSSW_8_0_20/src/autoencodeSVJ/autoencode/data/training_runs/hlf_eflow3_8_v28_weights.h5\n",
      "74716/74716 [==============================] - 3s 38us/step - loss: 3.0704e-05 - val_loss: 3.0189e-05\n",
      "Epoch 20/100\n",
      "73536/74716 [============================>.] - ETA: 0s - loss: 3.0667e-05Epoch 00020: val_loss improved from 0.00003 to 0.00003, saving model to /afs/cern.ch/work/l/llepotti/private/CMS/CMSSW_8_0_20/src/autoencodeSVJ/autoencode/data/training_runs/hlf_eflow3_8_v28_weights.h5\n",
      "74716/74716 [==============================] - 3s 37us/step - loss: 3.0700e-05 - val_loss: 3.0188e-05\n",
      "Epoch 21/100\n",
      "73408/74716 [============================>.] - ETA: 0s - loss: 3.0670e-05Epoch 00021: val_loss improved from 0.00003 to 0.00003, saving model to /afs/cern.ch/work/l/llepotti/private/CMS/CMSSW_8_0_20/src/autoencodeSVJ/autoencode/data/training_runs/hlf_eflow3_8_v28_weights.h5\n",
      "74716/74716 [==============================] - 3s 39us/step - loss: 3.0699e-05 - val_loss: 3.0182e-05\n",
      "Epoch 22/100\n",
      "73408/74716 [============================>.] - ETA: 0s - loss: 3.0704e-05Epoch 00022: val_loss did not improve\n",
      "74716/74716 [==============================] - 3s 39us/step - loss: 3.0696e-05 - val_loss: 3.0196e-05\n",
      "Epoch 23/100\n",
      "73600/74716 [============================>.] - ETA: 0s - loss: 3.0685e-05Epoch 00023: val_loss improved from 0.00003 to 0.00003, saving model to /afs/cern.ch/work/l/llepotti/private/CMS/CMSSW_8_0_20/src/autoencodeSVJ/autoencode/data/training_runs/hlf_eflow3_8_v28_weights.h5\n",
      "74716/74716 [==============================] - 3s 40us/step - loss: 3.0690e-05 - val_loss: 3.0179e-05\n",
      "Epoch 24/100\n",
      "73856/74716 [============================>.] - ETA: 0s - loss: 3.0702e-05Epoch 00024: val_loss improved from 0.00003 to 0.00003, saving model to /afs/cern.ch/work/l/llepotti/private/CMS/CMSSW_8_0_20/src/autoencodeSVJ/autoencode/data/training_runs/hlf_eflow3_8_v28_weights.h5\n",
      "74716/74716 [==============================] - 3s 42us/step - loss: 3.0685e-05 - val_loss: 3.0178e-05\n",
      "Epoch 25/100\n",
      "73856/74716 [============================>.] - ETA: 0s - loss: 3.0691e-05Epoch 00025: val_loss did not improve\n",
      "74716/74716 [==============================] - 3s 40us/step - loss: 3.0685e-05 - val_loss: 3.0178e-05\n",
      "Epoch 26/100\n",
      "73344/74716 [============================>.] - ETA: 0s - loss: 3.0704e-05Epoch 00026: val_loss did not improve\n",
      "74716/74716 [==============================] - 3s 40us/step - loss: 3.0684e-05 - val_loss: 3.0178e-05\n",
      "Epoch 27/100\n",
      "73792/74716 [============================>.] - ETA: 0s - loss: 3.0722e-05Epoch 00027: val_loss improved from 0.00003 to 0.00003, saving model to /afs/cern.ch/work/l/llepotti/private/CMS/CMSSW_8_0_20/src/autoencodeSVJ/autoencode/data/training_runs/hlf_eflow3_8_v28_weights.h5\n",
      "74716/74716 [==============================] - 3s 41us/step - loss: 3.0684e-05 - val_loss: 3.0178e-05\n",
      "Epoch 28/100\n",
      "73792/74716 [============================>.] - ETA: 0s - loss: 3.0729e-05Epoch 00028: val_loss improved from 0.00003 to 0.00003, saving model to /afs/cern.ch/work/l/llepotti/private/CMS/CMSSW_8_0_20/src/autoencodeSVJ/autoencode/data/training_runs/hlf_eflow3_8_v28_weights.h5\n",
      "74716/74716 [==============================] - 3s 42us/step - loss: 3.0682e-05 - val_loss: 3.0178e-05\n",
      "Epoch 29/100\n",
      "74304/74716 [============================>.] - ETA: 0s - loss: 3.0674e-05Epoch 00029: val_loss improved from 0.00003 to 0.00003, saving model to /afs/cern.ch/work/l/llepotti/private/CMS/CMSSW_8_0_20/src/autoencodeSVJ/autoencode/data/training_runs/hlf_eflow3_8_v28_weights.h5\n",
      "74716/74716 [==============================] - 3s 42us/step - loss: 3.0682e-05 - val_loss: 3.0178e-05\n",
      "Epoch 30/100\n",
      "73536/74716 [============================>.] - ETA: 0s - loss: 3.0723e-05Epoch 00030: val_loss improved from 0.00003 to 0.00003, saving model to /afs/cern.ch/work/l/llepotti/private/CMS/CMSSW_8_0_20/src/autoencodeSVJ/autoencode/data/training_runs/hlf_eflow3_8_v28_weights.h5\n",
      "74716/74716 [==============================] - 3s 41us/step - loss: 3.0682e-05 - val_loss: 3.0178e-05\n",
      "Epoch 31/100\n",
      "73984/74716 [============================>.] - ETA: 0s - loss: 3.0633e-05Epoch 00031: val_loss improved from 0.00003 to 0.00003, saving model to /afs/cern.ch/work/l/llepotti/private/CMS/CMSSW_8_0_20/src/autoencodeSVJ/autoencode/data/training_runs/hlf_eflow3_8_v28_weights.h5\n",
      "74716/74716 [==============================] - 3s 40us/step - loss: 3.0682e-05 - val_loss: 3.0178e-05\n",
      "Epoch 32/100\n",
      "73984/74716 [============================>.] - ETA: 0s - loss: 3.0712e-05Epoch 00032: val_loss improved from 0.00003 to 0.00003, saving model to /afs/cern.ch/work/l/llepotti/private/CMS/CMSSW_8_0_20/src/autoencodeSVJ/autoencode/data/training_runs/hlf_eflow3_8_v28_weights.h5\n",
      "74716/74716 [==============================] - 3s 40us/step - loss: 3.0682e-05 - val_loss: 3.0177e-05\n",
      "Epoch 33/100\n",
      "73984/74716 [============================>.] - ETA: 0s - loss: 3.0703e-05Epoch 00033: val_loss improved from 0.00003 to 0.00003, saving model to /afs/cern.ch/work/l/llepotti/private/CMS/CMSSW_8_0_20/src/autoencodeSVJ/autoencode/data/training_runs/hlf_eflow3_8_v28_weights.h5\n",
      "74716/74716 [==============================] - 3s 40us/step - loss: 3.0682e-05 - val_loss: 3.0177e-05\n",
      "Epoch 34/100\n",
      "73664/74716 [============================>.] - ETA: 0s - loss: 3.0648e-05Epoch 00034: val_loss did not improve\n",
      "74716/74716 [==============================] - 3s 40us/step - loss: 3.0682e-05 - val_loss: 3.0177e-05\n",
      "Epoch 35/100\n",
      "74624/74716 [============================>.] - ETA: 0s - loss: 3.0662e-05Epoch 00035: val_loss improved from 0.00003 to 0.00003, saving model to /afs/cern.ch/work/l/llepotti/private/CMS/CMSSW_8_0_20/src/autoencodeSVJ/autoencode/data/training_runs/hlf_eflow3_8_v28_weights.h5\n",
      "74716/74716 [==============================] - 3s 39us/step - loss: 3.0682e-05 - val_loss: 3.0177e-05\n",
      "Epoch 36/100\n",
      "74048/74716 [============================>.] - ETA: 0s - loss: 3.0624e-05Epoch 00036: val_loss improved from 0.00003 to 0.00003, saving model to /afs/cern.ch/work/l/llepotti/private/CMS/CMSSW_8_0_20/src/autoencodeSVJ/autoencode/data/training_runs/hlf_eflow3_8_v28_weights.h5\n",
      "74716/74716 [==============================] - 3s 42us/step - loss: 3.0682e-05 - val_loss: 3.0177e-05\n",
      "Epoch 37/100\n",
      "73600/74716 [============================>.] - ETA: 0s - loss: 3.0669e-05Epoch 00037: val_loss improved from 0.00003 to 0.00003, saving model to /afs/cern.ch/work/l/llepotti/private/CMS/CMSSW_8_0_20/src/autoencodeSVJ/autoencode/data/training_runs/hlf_eflow3_8_v28_weights.h5\n",
      "74716/74716 [==============================] - 3s 42us/step - loss: 3.0682e-05 - val_loss: 3.0177e-05\n",
      "Epoch 38/100\n",
      "73984/74716 [============================>.] - ETA: 0s - loss: 3.0678e-05Epoch 00038: val_loss did not improve\n",
      "74716/74716 [==============================] - 3s 43us/step - loss: 3.0682e-05 - val_loss: 3.0177e-05\n",
      "Epoch 39/100\n",
      "74432/74716 [============================>.] - ETA: 0s - loss: 3.0670e-05Epoch 00039: val_loss did not improve\n",
      "74716/74716 [==============================] - 3s 40us/step - loss: 3.0682e-05 - val_loss: 3.0177e-05\n",
      "Epoch 40/100\n",
      "74432/74716 [============================>.] - ETA: 0s - loss: 3.0692e-05Epoch 00040: val_loss did not improve\n",
      "74716/74716 [==============================] - 3s 42us/step - loss: 3.0682e-05 - val_loss: 3.0177e-05\n",
      "Epoch 41/100\n",
      "74432/74716 [============================>.] - ETA: 0s - loss: 3.0665e-05Epoch 00041: val_loss did not improve\n",
      "74716/74716 [==============================] - 3s 42us/step - loss: 3.0682e-05 - val_loss: 3.0177e-05\n",
      "Epoch 42/100\n",
      "73856/74716 [============================>.] - ETA: 0s - loss: 3.0631e-05Epoch 00042: val_loss did not improve\n",
      "74716/74716 [==============================] - 3s 42us/step - loss: 3.0682e-05 - val_loss: 3.0177e-05\n",
      "Epoch 43/100\n",
      "74688/74716 [============================>.] - ETA: 0s - loss: 3.0680e-05Epoch 00043: val_loss did not improve\n",
      "74716/74716 [==============================] - 3s 43us/step - loss: 3.0682e-05 - val_loss: 3.0177e-05\n",
      "Epoch 44/100\n",
      "73984/74716 [============================>.] - ETA: 0s - loss: 3.0718e-05Epoch 00044: val_loss did not improve\n",
      "74716/74716 [==============================] - 3s 41us/step - loss: 3.0682e-05 - val_loss: 3.0177e-05\n",
      "Epoch 45/100\n",
      "73664/74716 [============================>.] - ETA: 0s - loss: 3.0642e-05Epoch 00045: val_loss did not improve\n",
      "74716/74716 [==============================] - 3s 41us/step - loss: 3.0682e-05 - val_loss: 3.0177e-05\n",
      "Epoch 46/100\n",
      "74624/74716 [============================>.] - ETA: 0s - loss: 3.0690e-05Epoch 00046: val_loss did not improve\n",
      "74716/74716 [==============================] - 3s 40us/step - loss: 3.0682e-05 - val_loss: 3.0177e-05\n",
      "Epoch 47/100\n",
      "74432/74716 [============================>.] - ETA: 0s - loss: 3.0706e-05Epoch 00047: val_loss did not improve\n",
      "74716/74716 [==============================] - 3s 38us/step - loss: 3.0682e-05 - val_loss: 3.0177e-05\n",
      "train_shell :: \n",
      "train_shell :: trained 47 epochs!\n",
      "train_shell :: \n",
      "train_shell :: using saved model\n",
      "train_shell :: finished epoch N: 47\n",
      "train_shell :: model saved\n"
     ]
    },
    {
     "data": {
      "text/plain": [
       "0.89742350742943855"
      ]
     },
     "execution_count": 13,
     "metadata": {},
     "output_type": "execute_result"
    }
   ],
   "source": [
    "ae_train(\n",
    "    'data/signal/base_3/*.h5',\n",
    "    'data/background/base_3/*.h5',\n",
    "    8,\n",
    "    True,\n",
    "    True,\n",
    "    epochs=100,\n",
    "    interm_architecture=(100,100),\n",
    "    hlf_to_drop=['Axis2', 'PTD', 'Energy', 'Flavor']\n",
    ")"
   ]
  },
  {
   "cell_type": "code",
   "execution_count": 10,
   "metadata": {
    "collapsed": false
   },
   "outputs": [
    {
     "name": "stdout",
     "output_type": "stream",
     "text": [
      "found 1 matches with search '/afs/cern.ch/work/l/llepotti/private/CMS/CMSSW_8_0_20/src/autoencodeSVJ/autoencode/data/summary/hlf_eflow3_10_v4.summary'\n",
      "train_shell :: using saved model\n"
     ]
    }
   ],
   "source": [
    "e = ae_evaluation(\"hlf_eflow3_10_v4\")"
   ]
  },
  {
   "cell_type": "code",
   "execution_count": 43,
   "metadata": {
    "collapsed": false
   },
   "outputs": [
    {
     "data": {
      "image/png": "[encoded data removed]",
      "text/plain": [
       "<matplotlib.figure.Figure at 0x7fe5dd1c1a90>"
      ]
     },
     "metadata": {},
     "output_type": "display_data"
    },
    {
     "data": {
      "image/png": "[encoded data removed]",
      "text/plain": [
       "<matplotlib.figure.Figure at 0x7fe5dded9ed0>"
      ]
     },
     "metadata": {},
     "output_type": "display_data"
    },
    {
     "data": {
      "image/png": "[encoded data removed]",
      "text/plain": [
       "<matplotlib.figure.Figure at 0x7fe5de2d5d50>"
      ]
     },
     "metadata": {},
     "output_type": "display_data"
    }
   ],
   "source": [
    "import matplotlib.pyplot as plt\n",
    "main = e.qcd\n",
    "bins = 70\n",
    "\n",
    "for normer, rng in [\n",
    "    ({'norm_type': 'MinMaxScaler', 'feature_range':(0,1)}, (0, 1)),\n",
    "    ({'norm_type': 'StandardScaler'}, (-5., 5.)),\n",
    "    ({'norm_type': 'RobustScaler'}, (-5., 5.))\n",
    "]:\n",
    "    \n",
    "    var = main.cdrop('eflow *').norm(**normer)\n",
    "#     rng = var.min().min(), var.max().max()\n",
    "    plt.figure(figsize=(9,9))\n",
    "    for colname in var:\n",
    "        plt.hist(var[colname], bins=bins, range=rng, label=colname, histtype='step', normed=1)\n",
    "    plt.legend()\n",
    "    plt.show()"
   ]
  },
  {
   "cell_type": "code",
   "execution_count": 28,
   "metadata": {
    "collapsed": false
   },
   "outputs": [
    {
     "name": "stdout",
     "output_type": "stream",
     "text": [
      "writing queue commands\n"
     ]
    }
   ],
   "source": [
    "head = utils.get_repo_info()['head']\n",
    "\n",
    "path = os.path.join(head, 'autoencode/scripts')\n",
    "filepath = os.path.join(path, 'basic.py')\n",
    "\n",
    "setup = os.path.join(head, 'autoencode/setup.sh')\n",
    "cmd = 'python {}'.format(filepath)\n",
    "\n",
    "condor_submit(cmd, path, 'TESTSUB', setup)"
   ]
  },
  {
   "cell_type": "code",
   "execution_count": 19,
   "metadata": {
    "collapsed": false
   },
   "outputs": [],
   "source": [
    "def condor_submit(\n",
    "    cmd,\n",
    "    outputdir,\n",
    "    name,\n",
    "    setup_cmd = None,\n",
    "):\n",
    "    print(\"writing queue commands\")\n",
    "    run_script = os.path.join(outputdir, \"{0}_submit.sh\".format(name))\n",
    "    run_submit = os.path.join(outputdir, \"{0}_condor.submit\".format(name))\n",
    "    with open(run_script, 'w+') as f:\n",
    "        f.write(\"#!/bin/bash\\n\")\n",
    "        f.write(\"echo 'RUNNING NOW'\\n\")\n",
    "        f.write(\"\\n\")\n",
    "        # f.write(cmd + \"\\n\")\n",
    "        for line in cmd.split(\"; \"):\n",
    "            f.write(\"{0}\\n\".format(line))\n",
    "    with open(run_submit, 'w+') as f:\n",
    "        f.write(\"executable = {0}\\n\\n\".format(run_script))\n",
    "        f.write(\"universe = vanilla\\n\")\n",
    "        f.write(\"getenv = True\\n\")\n",
    "        f.write(\"log = {0}\\n\".format(os.path.join(outputdir, \"{0}.log\".format(name))))\n",
    "        f.write(\"output = {0}\\n\".format(os.path.join(outputdir, \"{0}.out\".format(name))))\n",
    "        f.write(\"error = {0}\\n\".format(os.path.join(outputdir, \"{0}.err\".format(name))))\n",
    "        f.write(\"should_transfer_files = YES\\n\")\n",
    "        f.write(\"when_to_transfer_output = ON_EXIT_OR_EVICT\\n\")\n",
    "        f.write(\"transfer_input_files = {0}\\n\".format(run_script))\n",
    "        # f.write(\"transfer_output_files = Data\\n\")\n",
    "        f.write(\"request_cpus = 4\\n\")\n",
    "        # f.write(\"request_disk = 20MB\\n\")\n",
    "        # f.write(\"request_memory = 5MB\\n\\n\")\n",
    "        f.write(\"+JobFlavour = \\\"workday\\\"\\n\")\n",
    "        f.write(\"queue\\n\")\n",
    "    os.system(\"chmod +rwx {0}\".format(run_script))\n",
    "    condor_cmd = \"condor_submit {0}; condor_q\".format(run_submit)\n",
    "    if setup_cmd is not None:\n",
    "        condor_cmd = \"{0}; \".format(setup_cmd) + condor_cmd\n",
    "    os.system(condor_cmd)"
   ]
  },
  {
   "cell_type": "code",
   "execution_count": 2,
   "metadata": {
    "collapsed": false
   },
   "outputs": [
    {
     "ename": "NameError",
     "evalue": "name 'data_container' is not defined",
     "output_type": "error",
     "traceback": [
      "\u001b[0;31m---------------------------------------------------------------------------\u001b[0m",
      "\u001b[0;31mNameError\u001b[0m                                 Traceback (most recent call last)",
      "\u001b[0;32m<ipython-input-2-e94144bf09c3>\u001b[0m in \u001b[0;36m<module>\u001b[0;34m()\u001b[0m\n\u001b[0;32m----> 1\u001b[0;31m d = data_container(\n\u001b[0m\u001b[1;32m      2\u001b[0m     \u001b[0msvj\u001b[0m\u001b[0;34m=\u001b[0m\u001b[0;34m'data/signal/base_3/*.h5'\u001b[0m\u001b[0;34m,\u001b[0m\u001b[0;34m\u001b[0m\u001b[0m\n\u001b[1;32m      3\u001b[0m     \u001b[0mttbar\u001b[0m\u001b[0;34m=\u001b[0m\u001b[0;34m'data/ttbar_200pt/base_3/*.h5'\u001b[0m\u001b[0;34m,\u001b[0m\u001b[0;34m\u001b[0m\u001b[0m\n\u001b[1;32m      4\u001b[0m     \u001b[0mqcd\u001b[0m\u001b[0;34m=\u001b[0m\u001b[0;34m'data/background/base_3/*.h5'\u001b[0m\u001b[0;34m,\u001b[0m\u001b[0;34m\u001b[0m\u001b[0m\n\u001b[1;32m      5\u001b[0m )\n",
      "\u001b[0;31mNameError\u001b[0m: name 'data_container' is not defined"
     ]
    }
   ],
   "source": [
    "d = data_container(\n",
    "    ='data/signal/base_3/*.h5', \n",
    "    ttbar='data/ttbar_200pt/base_3/*.h5', \n",
    "    qcd='data/background/base_3/*.h5',\n",
    ")"
   ]
  },
  {
   "cell_type": "code",
   "execution_count": 113,
   "metadata": {
    "collapsed": false
   },
   "outputs": [],
   "source": [
    "import keras\n",
    "from keras.layers import Dense, Input, Concatenate\n",
    "from keras.models import Model \n",
    "from keras.losses import mean_squared_error\n",
    "from keras.regularizers import l1\n",
    "from keras.utils import plot_model\n",
    "from keras.callbacks import EarlyStopping, ReduceLROnPlateau, TerminateOnNaN, ModelCheckpoint\n",
    "import autoencode.models as models \n",
    "keras.backend.clear_session()\n",
    "eflow_bn = 1\n",
    "hlf_bn = 4\n",
    "eflow_shape = d.qcd.eflow.shape[1]\n",
    "hlf_shape = d.qcd.hlf.shape[1]\n",
    "\n",
    "eflow_input = Input(shape=(eflow_shape,), name='energyflow_inputs')\n",
    "eflow_output = Dense(eflow_bn, activation='sigmoid', name='eflow_bottleneck')(Dense(40, activation='relu', name='eflow_dense1')(eflow_input))\n",
    "eflow_recon = Dense(eflow_shape, activation='linear', name='eflow_reconstructed')(Dense(40, activation='relu', name='eflow_dense2')(eflow_output))\n",
    "\n",
    "eflow_encoder = Model(inputs=eflow_input, outputs=eflow_output)\n",
    "eflow_ae = Model(inputs=eflow_input, outputs=eflow_recon)\n",
    "# eflow_ae.summary()\n",
    "\n",
    "hlf_input = Input(shape=(hlf_shape + eflow_bn,), name='hlf_input')\n",
    "interm1 = Dense(40, activation='relu', name='all_dense1')(hlf_input)\n",
    "interm2 = Dense(40, activation='relu', name='all_dense2')(interm1)\n",
    "neck = Dense(hlf_bn, activation='relu', name='all_bottleneck')(interm2)\n",
    "interm3 = Dense(40, activation='relu', name='all_dense3')(neck)\n",
    "interm4 = Dense(40, activation='relu', name='all_dense4')(interm3)\n",
    "hlf_output = Dense(hlf_shape + eflow_bn, activation='linear', name='all_output')(interm4)\n",
    "\n",
    "model = Model(inputs=[hlf_input], outputs=[hlf_output])\n",
    "\n",
    "eflow_ae.compile(\n",
    "    loss='mae',\n",
    "    optimizer='adam'\n",
    ")\n",
    "\n",
    "model.compile(\n",
    "    loss=['mse'],\n",
    "    optimizer='adam'\n",
    ")\n",
    "# plot_model(model, show_shapes=1, show_layer_names=1"
   ]
  },
  {
   "cell_type": "code",
   "execution_count": 114,
   "metadata": {
    "collapsed": false,
    "scrolled": true
   },
   "outputs": [
    {
     "name": "stdout",
     "output_type": "stream",
     "text": [
      "Train on 82732 samples, validate on 20684 samples\n",
      "Epoch 1/100\n",
      "82732/82732 [==============================] - 3s 35us/step - loss: 0.0073 - val_loss: 0.0039\n",
      "Epoch 2/100\n",
      "82732/82732 [==============================] - 3s 31us/step - loss: 0.0035 - val_loss: 0.0034\n",
      "Epoch 3/100\n",
      "82732/82732 [==============================] - 3s 30us/step - loss: 0.0033 - val_loss: 0.0033\n",
      "Epoch 4/100\n",
      "82732/82732 [==============================] - 2s 30us/step - loss: 0.0032 - val_loss: 0.0033\n",
      "Epoch 5/100\n",
      "82732/82732 [==============================] - 3s 32us/step - loss: 0.0032 - val_loss: 0.0032\n",
      "Epoch 6/100\n",
      "82732/82732 [==============================] - 3s 31us/step - loss: 0.0032 - val_loss: 0.0032\n",
      "Epoch 7/100\n",
      "82732/82732 [==============================] - 3s 32us/step - loss: 0.0032 - val_loss: 0.0032\n",
      "Epoch 8/100\n",
      "82732/82732 [==============================] - 3s 31us/step - loss: 0.0032 - val_loss: 0.0032\n",
      "Epoch 9/100\n",
      "82732/82732 [==============================] - 3s 30us/step - loss: 0.0032 - val_loss: 0.0032\n",
      "Epoch 10/100\n",
      "82732/82732 [==============================] - 3s 31us/step - loss: 0.0032 - val_loss: 0.0033\n",
      "Epoch 11/100\n",
      "82732/82732 [==============================] - 2s 30us/step - loss: 0.0031 - val_loss: 0.0032\n",
      "Epoch 12/100\n",
      "82732/82732 [==============================] - 2s 30us/step - loss: 0.0031 - val_loss: 0.0032\n",
      "Epoch 13/100\n",
      "82732/82732 [==============================] - 3s 31us/step - loss: 0.0031 - val_loss: 0.0032\n",
      "Epoch 14/100\n",
      "82732/82732 [==============================] - 2s 30us/step - loss: 0.0031 - val_loss: 0.0032\n",
      "Epoch 15/100\n",
      "82732/82732 [==============================] - 3s 30us/step - loss: 0.0031 - val_loss: 0.0032\n",
      "Epoch 16/100\n",
      "82732/82732 [==============================] - 3s 32us/step - loss: 0.0031 - val_loss: 0.0032\n",
      "Epoch 17/100\n",
      "82732/82732 [==============================] - 2s 30us/step - loss: 0.0031 - val_loss: 0.0032\n",
      "Epoch 18/100\n",
      "82732/82732 [==============================] - 2s 30us/step - loss: 0.0031 - val_loss: 0.0032\n",
      "Epoch 19/100\n",
      "82732/82732 [==============================] - 2s 30us/step - loss: 0.0031 - val_loss: 0.0032\n",
      "Epoch 20/100\n",
      "82732/82732 [==============================] - 2s 30us/step - loss: 0.0031 - val_loss: 0.0032\n",
      "Epoch 21/100\n",
      "82732/82732 [==============================] - 2s 30us/step - loss: 0.0031 - val_loss: 0.0032\n",
      "Epoch 22/100\n",
      "82732/82732 [==============================] - 2s 30us/step - loss: 0.0031 - val_loss: 0.0032\n",
      "Epoch 23/100\n",
      "82732/82732 [==============================] - 2s 30us/step - loss: 0.0031 - val_loss: 0.0032\n",
      "Epoch 24/100\n",
      "82732/82732 [==============================] - 2s 29us/step - loss: 0.0031 - val_loss: 0.0032\n",
      "Epoch 25/100\n",
      "82732/82732 [==============================] - 3s 31us/step - loss: 0.0031 - val_loss: 0.0032\n",
      "Epoch 26/100\n",
      "82732/82732 [==============================] - 2s 29us/step - loss: 0.0031 - val_loss: 0.0032\n",
      "Epoch 27/100\n",
      "82732/82732 [==============================] - 2s 29us/step - loss: 0.0031 - val_loss: 0.0032\n",
      "Epoch 28/100\n",
      "82732/82732 [==============================] - 2s 29us/step - loss: 0.0031 - val_loss: 0.0032\n",
      "Epoch 29/100\n",
      "82732/82732 [==============================] - 2s 30us/step - loss: 0.0031 - val_loss: 0.0032\n",
      "Epoch 30/100\n",
      "82732/82732 [==============================] - 3s 31us/step - loss: 0.0031 - val_loss: 0.0032\n",
      "Epoch 31/100\n",
      "82732/82732 [==============================] - 2s 30us/step - loss: 0.0031 - val_loss: 0.0032\n",
      "Epoch 32/100\n",
      "82732/82732 [==============================] - 2s 29us/step - loss: 0.0031 - val_loss: 0.0032\n",
      "Epoch 33/100\n",
      "82732/82732 [==============================] - 2s 30us/step - loss: 0.0031 - val_loss: 0.0032\n",
      "Epoch 34/100\n",
      "82732/82732 [==============================] - 2s 30us/step - loss: 0.0031 - val_loss: 0.0032\n",
      "Epoch 35/100\n",
      "82732/82732 [==============================] - 3s 30us/step - loss: 0.0031 - val_loss: 0.0032\n",
      "Epoch 36/100\n",
      "82732/82732 [==============================] - 2s 30us/step - loss: 0.0031 - val_loss: 0.0032\n",
      "Epoch 37/100\n",
      "82732/82732 [==============================] - 3s 30us/step - loss: 0.0031 - val_loss: 0.0032\n"
     ]
    },
    {
     "data": {
      "text/plain": [
       "<keras.callbacks.History at 0x7f4dbdf036d0>"
      ]
     },
     "execution_count": 114,
     "metadata": {},
     "output_type": "execute_result"
    }
   ],
   "source": [
    "seed = 5\n",
    "\n",
    "eflow_train, eflow_test = d.qcd.eflow.train_test_split(0.2, random_state=seed)\n",
    "\n",
    "eflow_ae.fit(\n",
    "    x=eflow_train.values,\n",
    "    y=eflow_train.values,\n",
    "    validation_data=[eflow_test.values, eflow_test.values],\n",
    "    batch_size=64,\n",
    "    epochs=100,\n",
    "    callbacks = [\n",
    "        EarlyStopping(monitor='val_loss', patience=10, verbose=0),\n",
    "        ReduceLROnPlateau(monitor='val_loss', factor=0.1, patience=5, verbose=0),\n",
    "        TerminateOnNaN(),\n",
    "#         ModelCheckpoint('test.h5', monitor='val_loss', verbose=1, save_best_only=True, save_weights_only=True, mode='min')\n",
    "    ]\n",
    ")"
   ]
  },
  {
   "cell_type": "code",
   "execution_count": 122,
   "metadata": {
    "collapsed": false
   },
   "outputs": [],
   "source": [
    "# d..recon = utils.data_table(eflow_ae.predict(d..eflow.values), headers=d..eflow.headers, name=' eflow recon')\n",
    "# d.qcd.recon = utils.data_table(eflow_ae.predict(d.qcd.eflow.values), headers=d.qcd.eflow.headers, name='qcd eflow recon')\n",
    "\n",
    "# d..nodes = utils.data_table(eflow_encoder.predict(d..eflow.values), name=' eflow nodes')\n",
    "# d.qcd.nodes = utils.data_table(eflow_encoder.predict(d.qcd.eflow.values), name='qcd eflow nodes')\n",
    "\n",
    "import numpy as np\n",
    "qcd_err = utils.data_table(np.mean(np.square(d.qcd.recon.values - d.qcd.eflow.values), axis=1), name='qcd eflow mse')\n",
    "signal_err = utils.data_table(np.mean(np.square(d..recon.values - d..eflow.values), axis=1), name=' eflow mse')\n",
    "\n",
    "\n",
    "# _recon.plot(d..eflow)\n",
    "# qcd_recon.plot(d..eflow)\n",
    "\n",
    "# d.qcd.nodes.plot(d..nodes, normed=1)\n"
   ]
  },
  {
   "cell_type": "code",
   "execution_count": 85,
   "metadata": {
    "collapsed": false
   },
   "outputs": [
    {
     "data": {
      "image/png": "[encoded data removed]",
      "text/plain": [
       "<IPython.core.display.Image object>"
      ]
     },
     "execution_count": 85,
     "metadata": {},
     "output_type": "execute_result"
    }
   ],
   "source": [
    "from IPython.display import Image\n",
    "Image(filename='model.png') "
   ]
  },
  {
   "cell_type": "code",
   "execution_count": 14,
   "metadata": {
    "collapsed": false
   },
   "outputs": [],
   "source": [
    "class data_element:\n",
    "    def __init__(\n",
    "        self,\n",
    "        path,\n",
    "        name,\n",
    "        *args,\n",
    "        **kwargs\n",
    "    ):\n",
    "        ret = utils.load_all_data(path, name=name, *args, **kwargs)\n",
    "        \n",
    "        setattr(self, 'data', ret[0])\n",
    "        setattr(self, 'jet', ret[1])\n",
    "        setattr(self, 'event', ret[2])\n",
    "        setattr(self, 'flavor', ret[3])\n",
    "        self.eflow = self.data.cfilter('eflow*')\n",
    "        self.hlf = self.data.cdrop('eflow*')    \n",
    "    def __getitem__(\n",
    "        self,\n",
    "        key\n",
    "    ):\n",
    "        return getattr(self, key)\n",
    "    \n",
    "class data_container:\n",
    "    def __init__(\n",
    "        self,\n",
    "        *args,\n",
    "        **kwargs\n",
    "    ):\n",
    "        for key, value in kwargs.items():\n",
    "            setattr(self, key, data_element(value, key), *args)\n"
   ]
  },
  {
   "cell_type": "code",
   "execution_count": null,
   "metadata": {
    "collapsed": true
   },
   "outputs": [],
   "source": [
    "n"
   ]
  }
 ],
 "metadata": {
  "kernelspec": {
   "display_name": "Python 2",
   "language": "python",
   "name": "python2"
  },
  "language_info": {
   "codemirror_mode": {
    "name": "ipython",
    "version": 2
   },
   "file_extension": ".py",
   "mimetype": "text/x-python",
   "name": "python",
   "nbconvert_exporter": "python",
   "pygments_lexer": "ipython2",
   "version": "2.7.13"
  }
 },
 "nbformat": 4,
 "nbformat_minor": 0
}
